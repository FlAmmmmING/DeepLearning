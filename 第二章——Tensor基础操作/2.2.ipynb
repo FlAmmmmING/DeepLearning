{
 "cells": [
  {
   "cell_type": "markdown",
   "source": [
    "# Tensor基础操作"
   ],
   "metadata": {
    "collapsed": false
   },
   "id": "8788f307d0f9a2d7"
  },
  {
   "cell_type": "code",
   "outputs": [],
   "source": [
    "import torch"
   ],
   "metadata": {
    "collapsed": true,
    "ExecuteTime": {
     "end_time": "2024-11-07T11:04:48.115330200Z",
     "start_time": "2024-11-07T11:04:48.101174400Z"
    }
   },
   "id": "initial_id",
   "execution_count": 13
  },
  {
   "cell_type": "code",
   "outputs": [
    {
     "data": {
      "text/plain": "tensor([[4.9592e-39, 4.2246e-39, 1.0286e-38],\n        [1.0653e-38, 1.0194e-38, 8.4490e-39],\n        [1.0469e-38, 9.3674e-39, 9.9184e-39],\n        [8.7245e-39, 9.2755e-39, 8.9082e-39],\n        [9.9184e-39, 8.4490e-39, 9.6429e-39]])"
     },
     "execution_count": 14,
     "metadata": {},
     "output_type": "execute_result"
    }
   ],
   "source": [
    "x = torch.empty(5, 3)\n",
    "x"
   ],
   "metadata": {
    "collapsed": false,
    "ExecuteTime": {
     "end_time": "2024-11-07T11:04:48.259908700Z",
     "start_time": "2024-11-07T11:04:48.227990800Z"
    }
   },
   "id": "ddb3cad6659ce854",
   "execution_count": 14
  },
  {
   "cell_type": "code",
   "outputs": [
    {
     "data": {
      "text/plain": "tensor([[0.6593, 0.1664, 0.9731],\n        [0.3485, 0.0918, 0.0183],\n        [0.3317, 0.6910, 0.2603],\n        [0.5461, 0.9457, 0.5383],\n        [0.6342, 0.4578, 0.0190]])"
     },
     "execution_count": 15,
     "metadata": {},
     "output_type": "execute_result"
    }
   ],
   "source": [
    "x_rand = torch.rand(5, 3)\n",
    "x_rand"
   ],
   "metadata": {
    "collapsed": false,
    "ExecuteTime": {
     "end_time": "2024-11-07T11:04:48.385230900Z",
     "start_time": "2024-11-07T11:04:48.355963200Z"
    }
   },
   "id": "c2ecb4a62a8391f3",
   "execution_count": 15
  },
  {
   "cell_type": "code",
   "outputs": [
    {
     "data": {
      "text/plain": "tensor([[0, 0, 0],\n        [0, 0, 0],\n        [0, 0, 0],\n        [0, 0, 0],\n        [0, 0, 0]])"
     },
     "execution_count": 16,
     "metadata": {},
     "output_type": "execute_result"
    }
   ],
   "source": [
    "x_long = torch.zeros(5, 3, dtype=torch.long)\n",
    "x_long"
   ],
   "metadata": {
    "collapsed": false,
    "ExecuteTime": {
     "end_time": "2024-11-07T11:04:48.492979600Z",
     "start_time": "2024-11-07T11:04:48.475945600Z"
    }
   },
   "id": "e8e73502710e5def",
   "execution_count": 16
  },
  {
   "cell_type": "code",
   "outputs": [
    {
     "data": {
      "text/plain": "tensor([1., 2., 3., 4., 5.])"
     },
     "execution_count": 17,
     "metadata": {},
     "output_type": "execute_result"
    }
   ],
   "source": [
    "x = torch.tensor([1, 2, 3, 4, 5], dtype=torch.float) # 根据类型创建\n",
    "x"
   ],
   "metadata": {
    "collapsed": false,
    "ExecuteTime": {
     "end_time": "2024-11-07T11:04:48.625980100Z",
     "start_time": "2024-11-07T11:04:48.607904600Z"
    }
   },
   "id": "b3fa84bed10d28d2",
   "execution_count": 17
  },
  {
   "cell_type": "code",
   "outputs": [
    {
     "data": {
      "text/plain": "torch.Size([5])"
     },
     "execution_count": 18,
     "metadata": {},
     "output_type": "execute_result"
    }
   ],
   "source": [
    "x.shape"
   ],
   "metadata": {
    "collapsed": false,
    "ExecuteTime": {
     "end_time": "2024-11-07T11:05:41.894892200Z",
     "start_time": "2024-11-07T11:05:41.867193700Z"
    }
   },
   "id": "28aa8742c6f4415f",
   "execution_count": 18
  },
  {
   "cell_type": "code",
   "outputs": [
    {
     "data": {
      "text/plain": "torch.Size([5])"
     },
     "execution_count": 19,
     "metadata": {},
     "output_type": "execute_result"
    }
   ],
   "source": [
    "x.size()"
   ],
   "metadata": {
    "collapsed": false,
    "ExecuteTime": {
     "end_time": "2024-11-07T11:05:45.066076Z",
     "start_time": "2024-11-07T11:05:45.053996500Z"
    }
   },
   "id": "b25cd7fbe04a0c95",
   "execution_count": 19
  },
  {
   "cell_type": "code",
   "outputs": [],
   "source": [
    "# 可做加减法\n",
    "x = torch.rand(5, 3)\n",
    "y = torch.rand(5, 3)"
   ],
   "metadata": {
    "collapsed": false,
    "ExecuteTime": {
     "end_time": "2024-11-07T11:06:42.563118400Z",
     "start_time": "2024-11-07T11:06:42.545961400Z"
    }
   },
   "id": "8db2252da4ae721a",
   "execution_count": 22
  },
  {
   "cell_type": "code",
   "outputs": [
    {
     "data": {
      "text/plain": "tensor([[1.0350, 1.0788, 0.6852],\n        [0.5224, 0.5999, 0.8488],\n        [0.7579, 0.9771, 0.9597],\n        [1.2450, 1.0233, 1.2771],\n        [1.2689, 0.7598, 0.9600]])"
     },
     "execution_count": 23,
     "metadata": {},
     "output_type": "execute_result"
    }
   ],
   "source": [
    "x + y"
   ],
   "metadata": {
    "collapsed": false,
    "ExecuteTime": {
     "end_time": "2024-11-07T11:06:42.843877700Z",
     "start_time": "2024-11-07T11:06:42.817128300Z"
    }
   },
   "id": "2f11e29ff8148a7f",
   "execution_count": 23
  },
  {
   "cell_type": "code",
   "outputs": [
    {
     "data": {
      "text/plain": "tensor([[1.0350, 1.0788, 0.6852],\n        [0.5224, 0.5999, 0.8488],\n        [0.7579, 0.9771, 0.9597],\n        [1.2450, 1.0233, 1.2771],\n        [1.2689, 0.7598, 0.9600]])"
     },
     "execution_count": 24,
     "metadata": {},
     "output_type": "execute_result"
    }
   ],
   "source": [
    "# 这样也行\n",
    "x.add(y)"
   ],
   "metadata": {
    "collapsed": false,
    "ExecuteTime": {
     "end_time": "2024-11-07T11:07:00.973699900Z",
     "start_time": "2024-11-07T11:07:00.963451900Z"
    }
   },
   "id": "77bdfec39b2827d8",
   "execution_count": 24
  },
  {
   "cell_type": "code",
   "outputs": [
    {
     "data": {
      "text/plain": "tensor([[1.0350, 1.0788, 0.6852],\n        [0.5224, 0.5999, 0.8488],\n        [0.7579, 0.9771, 0.9597],\n        [1.2450, 1.0233, 1.2771],\n        [1.2689, 0.7598, 0.9600]])"
     },
     "execution_count": 25,
     "metadata": {},
     "output_type": "execute_result"
    }
   ],
   "source": [
    "# 这样也行\n",
    "torch.add(x, y)"
   ],
   "metadata": {
    "collapsed": false,
    "ExecuteTime": {
     "end_time": "2024-11-07T11:07:15.679507500Z",
     "start_time": "2024-11-07T11:07:15.651097300Z"
    }
   },
   "id": "fa64e785d34bfb78",
   "execution_count": 25
  },
  {
   "cell_type": "code",
   "outputs": [
    {
     "data": {
      "text/plain": "tensor([[2.5609, 2.5180, 1.8447],\n        [1.4981, 1.4564, 1.8826],\n        [2.2429, 2.8257, 2.6109],\n        [3.1269, 2.8549, 3.0317],\n        [3.0638, 1.9175, 2.1335]])"
     },
     "execution_count": 29,
     "metadata": {},
     "output_type": "execute_result"
    }
   ],
   "source": [
    "torch.add(x, y, out=y)"
   ],
   "metadata": {
    "collapsed": false,
    "ExecuteTime": {
     "end_time": "2024-11-07T11:07:44.166838600Z",
     "start_time": "2024-11-07T11:07:44.145236500Z"
    }
   },
   "id": "c39227f374fb47ee",
   "execution_count": 29
  },
  {
   "cell_type": "code",
   "outputs": [
    {
     "data": {
      "text/plain": "tensor([[2.5609, 2.5180, 1.8447],\n        [1.4981, 1.4564, 1.8826],\n        [2.2429, 2.8257, 2.6109],\n        [3.1269, 2.8549, 3.0317],\n        [3.0638, 1.9175, 2.1335]])"
     },
     "execution_count": 31,
     "metadata": {},
     "output_type": "execute_result"
    }
   ],
   "source": [
    "y"
   ],
   "metadata": {
    "collapsed": false,
    "ExecuteTime": {
     "end_time": "2024-11-07T11:07:49.828138600Z",
     "start_time": "2024-11-07T11:07:49.805091500Z"
    }
   },
   "id": "b657fc8cdb83fcc7",
   "execution_count": 31
  },
  {
   "cell_type": "code",
   "outputs": [
    {
     "name": "stdout",
     "output_type": "stream",
     "text": [
      "tensor([[0.3654, 0.4571, 0.2273],\n",
      "        [0.0126, 0.1949, 0.8327],\n",
      "        [0.5999, 0.3840, 0.8391],\n",
      "        [0.9840, 0.6709, 0.9550],\n",
      "        [0.3656, 0.6259, 0.7896]])\n",
      "tensor([0.4571, 0.1949, 0.3840, 0.6709, 0.6259])\n"
     ]
    }
   ],
   "source": [
    "# 索引功能\n",
    "x = torch.rand(5, 3)\n",
    "y = x[:, 1]\n",
    "print(x)\n",
    "print(y)"
   ],
   "metadata": {
    "collapsed": false,
    "ExecuteTime": {
     "end_time": "2024-11-07T11:10:31.715891100Z",
     "start_time": "2024-11-07T11:10:31.697128800Z"
    }
   },
   "id": "565c52d27c6c5358",
   "execution_count": 33
  },
  {
   "cell_type": "code",
   "outputs": [
    {
     "data": {
      "text/plain": "tensor([[0.3654, 0.4571, 0.2273, 0.0126, 0.1949],\n        [0.8327, 0.5999, 0.3840, 0.8391, 0.9840],\n        [0.6709, 0.9550, 0.3656, 0.6259, 0.7896]])"
     },
     "execution_count": 38,
     "metadata": {},
     "output_type": "execute_result"
    }
   ],
   "source": [
    "# 也可以改变形状\n",
    "y = x.view(-1, 5)\n",
    "y"
   ],
   "metadata": {
    "collapsed": false,
    "ExecuteTime": {
     "end_time": "2024-11-07T11:11:31.830590600Z",
     "start_time": "2024-11-07T11:11:31.818360600Z"
    }
   },
   "id": "fc69104e120e8dbb",
   "execution_count": 38
  },
  {
   "cell_type": "code",
   "outputs": [
    {
     "data": {
      "text/plain": "tensor([[1.3654, 1.4571, 1.2273, 1.0126, 1.1949],\n        [1.8327, 1.5999, 1.3840, 1.8391, 1.9840],\n        [1.6709, 1.9550, 1.3656, 1.6259, 1.7896]])"
     },
     "execution_count": 39,
     "metadata": {},
     "output_type": "execute_result"
    }
   ],
   "source": [
    "# 注意 view() 返回的新tensor与源tensor共享内存(其实是同一一个tensor),也即更更改其中的一一个,另  外一一个也会跟着改变。(顾名思义,view仅仅是改变了了对这个张量量的观察⻆角度)\n",
    "x += 1\n",
    "y"
   ],
   "metadata": {
    "collapsed": false,
    "ExecuteTime": {
     "end_time": "2024-11-07T11:14:46.341738Z",
     "start_time": "2024-11-07T11:14:46.304378900Z"
    }
   },
   "id": "7740a8b5523eeb4f",
   "execution_count": 39
  },
  {
   "cell_type": "code",
   "outputs": [
    {
     "name": "stdout",
     "output_type": "stream",
     "text": [
      "tensor([[2.3654, 2.4571, 2.2273],\n",
      "        [2.0126, 2.1949, 2.8327],\n",
      "        [2.5999, 2.3840, 2.8391],\n",
      "        [2.9840, 2.6709, 2.9550],\n",
      "        [2.3656, 2.6259, 2.7896]])\n",
      "tensor([[1.3654, 1.4571, 1.2273, 1.0126, 1.1949],\n",
      "        [1.8327, 1.5999, 1.3840, 1.8391, 1.9840],\n",
      "        [1.6709, 1.9550, 1.3656, 1.6259, 1.7896]])\n"
     ]
    }
   ],
   "source": [
    "# 如何做到深拷贝？\n",
    "y = x.clone().view(-1, 5)\n",
    "x += 1\n",
    "print(x)\n",
    "print(y)"
   ],
   "metadata": {
    "collapsed": false,
    "ExecuteTime": {
     "end_time": "2024-11-07T11:15:21.437612400Z",
     "start_time": "2024-11-07T11:15:21.426590200Z"
    }
   },
   "id": "f3ca18a42d0b866f",
   "execution_count": 41
  },
  {
   "cell_type": "code",
   "outputs": [
    {
     "name": "stdout",
     "output_type": "stream",
     "text": [
      "tensor([[-0.7962]])\n",
      "-0.7962486743927002\n"
     ]
    }
   ],
   "source": [
    "# 另外一一个常用用的函数就是 item() , 它可以将一一个标量量 Tensor 转换成一一个Python number:\n",
    "x_single = torch.randn(1, 1)\n",
    "print(x_single)\n",
    "print(x_single.item())"
   ],
   "metadata": {
    "collapsed": false,
    "ExecuteTime": {
     "end_time": "2024-11-07T11:16:24.812475400Z",
     "start_time": "2024-11-07T11:16:24.721220500Z"
    }
   },
   "id": "d99f50d7f9e6ecca",
   "execution_count": 44
  },
  {
   "cell_type": "code",
   "outputs": [
    {
     "name": "stdout",
     "output_type": "stream",
     "text": [
      "tensor([[1, 2]])\n",
      "tensor([[1],\n",
      "        [2],\n",
      "        [3]])\n",
      "tensor([[2, 3],\n",
      "        [3, 4],\n",
      "        [4, 5]])\n"
     ]
    }
   ],
   "source": [
    "# 广播机制\n",
    "x1 = torch.arange(1, 3).view(1, 2)\n",
    "y1 = torch.arange(1, 4).view(3, 1)\n",
    "print(x1)\n",
    "print(y1)\n",
    "print(x1 + y1)"
   ],
   "metadata": {
    "collapsed": false,
    "ExecuteTime": {
     "end_time": "2024-11-07T11:21:58.569458900Z",
     "start_time": "2024-11-07T11:21:58.549755900Z"
    }
   },
   "id": "82fade2134da586f",
   "execution_count": 46
  },
  {
   "cell_type": "code",
   "outputs": [
    {
     "name": "stdout",
     "output_type": "stream",
     "text": [
      "tensor([1., 1., 1., 1., 1.]) [1. 1. 1. 1. 1.]\n",
      "tensor([2., 2., 2., 2., 2.]) [2. 2. 2. 2. 2.]\n",
      "tensor([3., 3., 3., 3., 3.]) [3. 3. 3. 3. 3.]\n",
      "False\n"
     ]
    }
   ],
   "source": [
    "# Tensor 转 NumPy\n",
    "x1 = torch.ones(5)\n",
    "y1 = x1.numpy()\n",
    "print(x1, y1)\n",
    "x1 += 1\n",
    "print(x1, y1)\n",
    "y1 += 1\n",
    "print(x1, y1)"
   ],
   "metadata": {
    "collapsed": false,
    "ExecuteTime": {
     "end_time": "2024-11-07T11:23:59.360745900Z",
     "start_time": "2024-11-07T11:23:59.314583800Z"
    }
   },
   "id": "27de973587040cbf",
   "execution_count": 51
  },
  {
   "cell_type": "code",
   "outputs": [
    {
     "name": "stdout",
     "output_type": "stream",
     "text": [
      "[1. 1. 1. 1. 1.] tensor([1., 1., 1., 1., 1.], dtype=torch.float64)\n",
      "[2. 2. 2. 2. 2.] tensor([2., 2., 2., 2., 2.], dtype=torch.float64)\n",
      "[3. 3. 3. 3. 3.] tensor([3., 3., 3., 3., 3.], dtype=torch.float64)\n",
      "[4. 4. 4. 4. 4.] tensor([3., 3., 3., 3., 3.], dtype=torch.float64)\n"
     ]
    }
   ],
   "source": [
    "# NumPy数组转 Tensor\n",
    "import numpy as np\n",
    "a = np.ones(5)\n",
    "b = torch.from_numpy(a)\n",
    "print(a, b)\n",
    "a += 1\n",
    "print(a, b)\n",
    "b += 1\n",
    "print(a, b)\n",
    "# 深拷贝\n",
    "c = torch.tensor(a)\n",
    "a += 1\n",
    "print(a, c)"
   ],
   "metadata": {
    "collapsed": false,
    "ExecuteTime": {
     "end_time": "2024-11-07T11:26:18.915161300Z",
     "start_time": "2024-11-07T11:26:18.884429400Z"
    }
   },
   "id": "a16b908e0b3fd4b7",
   "execution_count": 57
  },
  {
   "cell_type": "code",
   "outputs": [
    {
     "name": "stdout",
     "output_type": "stream",
     "text": [
      "tensor([[3.3654, 3.4571, 3.2273],\n",
      "        [3.0126, 3.1949, 3.8327],\n",
      "        [3.5999, 3.3840, 3.8391],\n",
      "        [3.9840, 3.6709, 3.9550],\n",
      "        [3.3656, 3.6259, 3.7896]], device='cuda:0')\n",
      "tensor([[3.3654, 3.4571, 3.2273],\n",
      "        [3.0126, 3.1949, 3.8327],\n",
      "        [3.5999, 3.3840, 3.8391],\n",
      "        [3.9840, 3.6709, 3.9550],\n",
      "        [3.3656, 3.6259, 3.7896]]) torch.float64\n"
     ]
    }
   ],
   "source": [
    "# TENSOR ON GPU\n",
    "if torch.cuda.is_available():\n",
    "    device = torch.device('cuda') # GPU\n",
    "    yy = torch.ones_like(x, device=device) # 直接创建一个在GPU上的Tensor\n",
    "    x = x.to(device) # 等价于 to('cuda')\n",
    "    z = x + yy\n",
    "    print(z)\n",
    "    print(z.to('cpu'), torch.double)"
   ],
   "metadata": {
    "collapsed": false,
    "ExecuteTime": {
     "end_time": "2024-11-07T11:34:02.982287700Z",
     "start_time": "2024-11-07T11:34:02.961680600Z"
    }
   },
   "id": "a671d779bc2fb269",
   "execution_count": 62
  },
  {
   "cell_type": "code",
   "outputs": [],
   "source": [],
   "metadata": {
    "collapsed": false
   },
   "id": "4449d9eb2dec2f10"
  }
 ],
 "metadata": {
  "kernelspec": {
   "display_name": "Python 3",
   "language": "python",
   "name": "python3"
  },
  "language_info": {
   "codemirror_mode": {
    "name": "ipython",
    "version": 2
   },
   "file_extension": ".py",
   "mimetype": "text/x-python",
   "name": "python",
   "nbconvert_exporter": "python",
   "pygments_lexer": "ipython2",
   "version": "2.7.6"
  }
 },
 "nbformat": 4,
 "nbformat_minor": 5
}
