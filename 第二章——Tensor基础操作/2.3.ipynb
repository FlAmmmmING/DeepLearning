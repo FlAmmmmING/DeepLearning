{
 "cells": [
  {
   "cell_type": "markdown",
   "source": [
    "# 自动求梯度"
   ],
   "metadata": {
    "collapsed": false
   },
   "id": "ce98e01248b5b992"
  },
  {
   "cell_type": "markdown",
   "source": [
    "## 创建一个 Tensor 并设置 requires_grad=True\n",
    "### Function 是另外一个很重要的类。 Tensor 和 Function 互相结合就可以构建一个记录有整个计算过  程的有向无环图(DAG)。每个 Tensor 都有一个 .grad_fn 属性,该属性即创建该 Tensor 的  Function , 就是说该 Tensor 是不是通过某些运算得到的,若是,则 grad_fn 返回一个与这些运算相关的对象,否则是None。"
   ],
   "metadata": {
    "collapsed": false
   },
   "id": "dcd7909f77998427"
  },
  {
   "cell_type": "code",
   "outputs": [],
   "source": [
    "import torch\n",
    "import numpy as np"
   ],
   "metadata": {
    "collapsed": false,
    "ExecuteTime": {
     "end_time": "2024-11-07T14:46:46.149213300Z",
     "start_time": "2024-11-07T14:46:46.134211Z"
    }
   },
   "id": "11b18a74057e9d71",
   "execution_count": 16
  },
  {
   "cell_type": "code",
   "outputs": [
    {
     "name": "stdout",
     "output_type": "stream",
     "text": [
      "tensor([[1., 1.],\n",
      "        [1., 1.]], requires_grad=True)\n",
      "None\n"
     ]
    }
   ],
   "source": [
    "x = torch.ones(2, 2, requires_grad=True)\n",
    "print(x)\n",
    "print(x.grad_fn)"
   ],
   "metadata": {
    "collapsed": false,
    "ExecuteTime": {
     "end_time": "2024-11-07T14:46:47.499909Z",
     "start_time": "2024-11-07T14:46:47.487887500Z"
    }
   },
   "id": "a9032fe552ef6503",
   "execution_count": 17
  },
  {
   "cell_type": "code",
   "outputs": [
    {
     "name": "stdout",
     "output_type": "stream",
     "text": [
      "tensor([[3., 3.],\n",
      "        [3., 3.]], grad_fn=<AddBackward0>)\n",
      "<AddBackward0 object at 0x000001A599FB6470>\n"
     ]
    }
   ],
   "source": [
    "y = x + 2\n",
    "print(y)\n",
    "print(y.grad_fn) # AddBackward0"
   ],
   "metadata": {
    "collapsed": false,
    "ExecuteTime": {
     "end_time": "2024-11-07T14:46:48.087543900Z",
     "start_time": "2024-11-07T14:46:48.080545600Z"
    }
   },
   "id": "13073534e8b8033c",
   "execution_count": 18
  },
  {
   "cell_type": "code",
   "outputs": [
    {
     "name": "stdout",
     "output_type": "stream",
     "text": [
      "True False\n"
     ]
    }
   ],
   "source": [
    "print(x.is_leaf, y.is_leaf)"
   ],
   "metadata": {
    "collapsed": false,
    "ExecuteTime": {
     "end_time": "2024-11-07T14:46:48.817889700Z",
     "start_time": "2024-11-07T14:46:48.792890800Z"
    }
   },
   "id": "21d521238a09ce75",
   "execution_count": 19
  },
  {
   "cell_type": "code",
   "outputs": [
    {
     "name": "stdout",
     "output_type": "stream",
     "text": [
      "tensor([[27., 27.],\n",
      "        [27., 27.]], grad_fn=<MulBackward0>) tensor(27., grad_fn=<MeanBackward0>)\n"
     ]
    }
   ],
   "source": [
    "z = y * y * 3\n",
    "out = z.mean()\n",
    "print(z, out)"
   ],
   "metadata": {
    "collapsed": false,
    "ExecuteTime": {
     "end_time": "2024-11-07T14:46:49.387243Z",
     "start_time": "2024-11-07T14:46:49.368244100Z"
    }
   },
   "id": "7602b2d13cefa682",
   "execution_count": 20
  },
  {
   "cell_type": "markdown",
   "source": [
    "## 通过 .requires_grad_() 来用in-place的方式改变 requires_grad 属性:"
   ],
   "metadata": {
    "collapsed": false
   },
   "id": "c147441693301c19"
  },
  {
   "cell_type": "code",
   "outputs": [
    {
     "name": "stdout",
     "output_type": "stream",
     "text": [
      "False\n",
      "None\n",
      "True\n",
      "<SumBackward0 object at 0x000001A59A556920>\n"
     ]
    }
   ],
   "source": [
    "a = torch.randn(2, 2) # 缺失的情况下默认False\n",
    "a = ((a * 3) / (a - 1))\n",
    "print(a.requires_grad)\n",
    "b = (a * a).sum()\n",
    "print(b.grad_fn) # 默认关闭时，无法追踪到\n",
    "a.requires_grad_(True)\n",
    "print(a.requires_grad)\n",
    "b = (a * a).sum()\n",
    "print(b.grad_fn)"
   ],
   "metadata": {
    "collapsed": false,
    "ExecuteTime": {
     "end_time": "2024-11-07T14:49:43.255298200Z",
     "start_time": "2024-11-07T14:49:43.226279500Z"
    }
   },
   "id": "40151c48b7bd6af2",
   "execution_count": 30
  },
  {
   "cell_type": "markdown",
   "source": [
    "## 梯度"
   ],
   "metadata": {
    "collapsed": false
   },
   "id": "afc9e4266dc0932b"
  },
  {
   "cell_type": "code",
   "outputs": [],
   "source": [
    "out.backward()\n",
    "print(x.grad)"
   ],
   "metadata": {
    "collapsed": false
   },
   "id": "32489976a4a9e920",
   "execution_count": null
  },
  {
   "cell_type": "code",
   "outputs": [
    {
     "name": "stdout",
     "output_type": "stream",
     "text": [
      "tensor([[2., 2.],\n",
      "        [2., 2.]])\n",
      "tensor([[1., 1.],\n",
      "        [1., 1.]])\n"
     ]
    }
   ],
   "source": [
    "out2 = x.sum()\n",
    "out2.backward() \n",
    "print(x.grad) # 这里的梯度和之前的out.backward()累加了\n",
    "\n",
    "out3 = x.sum()\n",
    "x.grad.data.zero_() # 梯度清零\n",
    "out3.backward() \n",
    "print(x.grad)"
   ],
   "metadata": {
    "collapsed": false,
    "ExecuteTime": {
     "end_time": "2024-11-07T14:49:32.610370900Z",
     "start_time": "2024-11-07T14:49:32.595073300Z"
    }
   },
   "id": "8ced25f4171f37f1",
   "execution_count": 28
  },
  {
   "cell_type": "code",
   "outputs": [
    {
     "name": "stdout",
     "output_type": "stream",
     "text": [
      "tensor([[2., 4.],\n",
      "        [6., 8.]], grad_fn=<ViewBackward0>)\n"
     ]
    }
   ],
   "source": [
    "x = torch.tensor([1.0, 2, 3, 4], requires_grad=True)\n",
    "y = 2 * x\n",
    "z = y.view(2, 2)\n",
    "print(z)"
   ],
   "metadata": {
    "collapsed": false,
    "ExecuteTime": {
     "end_time": "2024-11-07T14:51:03.747030800Z",
     "start_time": "2024-11-07T14:51:03.725516Z"
    }
   },
   "id": "3d607bc86cbd1c5a",
   "execution_count": 33
  },
  {
   "cell_type": "code",
   "outputs": [
    {
     "name": "stdout",
     "output_type": "stream",
     "text": [
      "tensor([2.0000, 0.2000, 0.0200, 0.0020])\n"
     ]
    }
   ],
   "source": [
    "v = torch.tensor([[1.0, 0.1], [0.01, 0.001]], dtype=torch.float)\n",
    "z.backward(v)\n",
    "print(x.grad)"
   ],
   "metadata": {
    "collapsed": false,
    "ExecuteTime": {
     "end_time": "2024-11-07T14:52:08.646056Z",
     "start_time": "2024-11-07T14:52:08.613539200Z"
    }
   },
   "id": "846b6852e03f6c90",
   "execution_count": 34
  },
  {
   "cell_type": "markdown",
   "source": [
    "## 中断梯度的例子"
   ],
   "metadata": {
    "collapsed": false
   },
   "id": "ce945e11bfe88a92"
  },
  {
   "cell_type": "code",
   "outputs": [
    {
     "name": "stdout",
     "output_type": "stream",
     "text": [
      "True\n",
      "tensor(0.0100, grad_fn=<PowBackward0>) True\n",
      "tensor(0.0010) False\n",
      "tensor(0.0110, grad_fn=<AddBackward0>) True\n"
     ]
    }
   ],
   "source": [
    "x = torch.tensor(0.1, requires_grad=True)\n",
    "y1 = x ** 2\n",
    "with torch.no_grad(): # 如下代码关闭自动求导机制\n",
    "    y2 = x ** 3\n",
    "y3 = y1 + y2\n",
    "\n",
    "print(x.requires_grad)\n",
    "print(y1, y1.requires_grad)\n",
    "print(y2, y2.requires_grad)\n",
    "print(y3, y3.requires_grad)"
   ],
   "metadata": {
    "collapsed": false,
    "ExecuteTime": {
     "end_time": "2024-11-07T14:56:39.544000500Z",
     "start_time": "2024-11-07T14:56:39.503985600Z"
    }
   },
   "id": "19baff31ae80fa01",
   "execution_count": 35
  },
  {
   "cell_type": "code",
   "outputs": [
    {
     "name": "stdout",
     "output_type": "stream",
     "text": [
      "tensor(0.2000)\n"
     ]
    }
   ],
   "source": [
    "y3.backward()\n",
    "print(x.grad) # y3 = y1 + y2 = x ** 2 + x *** 3, 但是y2被屏蔽求导了，所以最后只有y1"
   ],
   "metadata": {
    "collapsed": false,
    "ExecuteTime": {
     "end_time": "2024-11-07T14:57:54.197070500Z",
     "start_time": "2024-11-07T14:57:54.157061100Z"
    }
   },
   "id": "bfe0d47c3df6b674",
   "execution_count": 36
  },
  {
   "cell_type": "markdown",
   "source": [
    "## 如果我们想要修改 tensor 的数值,但是又不希望被 autograd 记录(即不会影响反向传播),  那么我们可以对 tensor.data 进行操作。"
   ],
   "metadata": {
    "collapsed": false
   },
   "id": "2ae8b2247266d75a"
  },
  {
   "cell_type": "code",
   "outputs": [
    {
     "name": "stdout",
     "output_type": "stream",
     "text": [
      "tensor([1.])\n",
      "False\n",
      "tensor([100.], requires_grad=True)\n",
      "tensor([2.])\n"
     ]
    }
   ],
   "source": [
    "x = torch.ones(1, requires_grad=True)\n",
    "print(x.data)\n",
    "print(x.data.requires_grad)\n",
    "\n",
    "y = 2 * x\n",
    "x.data *= 100 # 只是改变了值，但是不会影响梯度传播\n",
    "\n",
    "y.backward()\n",
    "print(x) # 更改data值也会影响tensor值\n",
    "print(x.grad)"
   ],
   "metadata": {
    "collapsed": false,
    "ExecuteTime": {
     "end_time": "2024-11-07T15:02:55.183579100Z",
     "start_time": "2024-11-07T15:02:55.161578Z"
    }
   },
   "id": "13bf731b753805e2",
   "execution_count": 43
  },
  {
   "cell_type": "code",
   "outputs": [],
   "source": [],
   "metadata": {
    "collapsed": false
   },
   "id": "b2150f2d18de112d"
  }
 ],
 "metadata": {
  "kernelspec": {
   "display_name": "Python 3",
   "language": "python",
   "name": "python3"
  },
  "language_info": {
   "codemirror_mode": {
    "name": "ipython",
    "version": 2
   },
   "file_extension": ".py",
   "mimetype": "text/x-python",
   "name": "python",
   "nbconvert_exporter": "python",
   "pygments_lexer": "ipython2",
   "version": "2.7.6"
  }
 },
 "nbformat": 4,
 "nbformat_minor": 5
}
