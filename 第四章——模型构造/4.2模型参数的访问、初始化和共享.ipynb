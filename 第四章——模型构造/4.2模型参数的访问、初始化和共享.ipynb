{
 "cells": [
  {
   "cell_type": "code",
   "execution_count": 1,
   "id": "initial_id",
   "metadata": {
    "collapsed": true,
    "ExecuteTime": {
     "end_time": "2024-11-13T08:53:20.600520700Z",
     "start_time": "2024-11-13T08:53:19.000586800Z"
    }
   },
   "outputs": [
    {
     "name": "stdout",
     "output_type": "stream",
     "text": [
      "Sequential(\n",
      "  (0): Linear(in_features=4, out_features=3, bias=True)\n",
      "  (1): ReLU()\n",
      "  (2): Linear(in_features=3, out_features=1, bias=True)\n",
      ")\n"
     ]
    }
   ],
   "source": [
    "import torch\n",
    "from torch import nn\n",
    "from torch.nn import init\n",
    "\n",
    "net = nn.Sequential(\n",
    "    nn.Linear(4, 3),\n",
    "    nn.ReLU(),\n",
    "    nn.Linear(3, 1)\n",
    ")\n",
    "\n",
    "print(net)\n",
    "X = torch.rand(2, 4)\n",
    "Y = net(X).sum()"
   ]
  },
  {
   "cell_type": "markdown",
   "source": [
    "# 访问模型参数"
   ],
   "metadata": {
    "collapsed": false
   },
   "id": "fd1a41e80a44d353"
  },
  {
   "cell_type": "code",
   "outputs": [
    {
     "name": "stdout",
     "output_type": "stream",
     "text": [
      "<class 'generator'>\n",
      "0.weight torch.Size([3, 4])\n",
      "0.bias torch.Size([3])\n",
      "2.weight torch.Size([1, 3])\n",
      "2.bias torch.Size([1])\n"
     ]
    }
   ],
   "source": [
    "print(type(net.named_parameters()))\n",
    "for name, param in net.named_parameters():\n",
    "    print(name, param.size())"
   ],
   "metadata": {
    "collapsed": false,
    "ExecuteTime": {
     "end_time": "2024-11-13T08:54:45.801767200Z",
     "start_time": "2024-11-13T08:54:45.766213900Z"
    }
   },
   "id": "a38cad7d248fb5fa",
   "execution_count": 2
  },
  {
   "cell_type": "code",
   "outputs": [
    {
     "name": "stdout",
     "output_type": "stream",
     "text": [
      "weight torch.Size([3, 4]) <class 'torch.nn.parameter.Parameter'>\n",
      "bias torch.Size([3]) <class 'torch.nn.parameter.Parameter'>\n"
     ]
    }
   ],
   "source": [
    "for name, param in net[0].named_parameters():\n",
    "    print(name, param.size(), type(param))"
   ],
   "metadata": {
    "collapsed": false,
    "ExecuteTime": {
     "end_time": "2024-11-13T08:55:27.915264700Z",
     "start_time": "2024-11-13T08:55:27.889265700Z"
    }
   },
   "id": "3fe36c4b85c15753",
   "execution_count": 3
  },
  {
   "cell_type": "code",
   "outputs": [
    {
     "name": "stdout",
     "output_type": "stream",
     "text": [
      "weight1\n",
      "weight2\n"
     ]
    }
   ],
   "source": [
    "class MyModel(nn.Module):  \n",
    "    def __init__(self, **kwargs):  \n",
    "        super(MyModel, self).__init__(**kwargs)  \n",
    "        self.weight1 = nn.Parameter(torch.rand(20, 20))  \n",
    "        self.weight2 = torch.rand(20, 20) \n",
    "        \n",
    "    def forward(self, x):  \n",
    "        pass\n",
    "n = MyModel()  \n",
    "for name, param in n.named_parameters():  \n",
    "    print(name)"
   ],
   "metadata": {
    "collapsed": false,
    "ExecuteTime": {
     "end_time": "2024-11-13T08:58:56.740621Z",
     "start_time": "2024-11-13T08:58:56.722621500Z"
    }
   },
   "id": "1447b125a3a88132",
   "execution_count": 9
  },
  {
   "cell_type": "markdown",
   "source": [
    "# 初始化模型参数"
   ],
   "metadata": {
    "collapsed": false
   },
   "id": "60d0c8f1915f8aa0"
  },
  {
   "cell_type": "code",
   "outputs": [
    {
     "name": "stdout",
     "output_type": "stream",
     "text": [
      "0.weight tensor([[-0.0057,  0.0181, -0.0047,  0.0098],\n",
      "        [-0.0004, -0.0008, -0.0033,  0.0015],\n",
      "        [-0.0005,  0.0056, -0.0058,  0.0118]])\n",
      "2.weight tensor([[0.0029, 0.0009, 0.0010]])\n"
     ]
    }
   ],
   "source": [
    "# 在下面面的例子中,  我们将权重参数初始化成均值为0、标准差为0.01的正态分布随机数,并依然将偏差参数清零。\n",
    "for name, param in net.named_parameters():\n",
    "    if 'weight' in name:\n",
    "        init.normal_(param, mean=0, std=0.01)\n",
    "        print(name, param.data)"
   ],
   "metadata": {
    "collapsed": false,
    "ExecuteTime": {
     "end_time": "2024-11-13T09:04:24.342689800Z",
     "start_time": "2024-11-13T09:04:24.317121200Z"
    }
   },
   "id": "27df4a78bfe56e7",
   "execution_count": 10
  },
  {
   "cell_type": "code",
   "outputs": [
    {
     "name": "stdout",
     "output_type": "stream",
     "text": [
      "0.bias tensor([0., 0., 0.])\n",
      "2.bias tensor([0.])\n"
     ]
    }
   ],
   "source": [
    "# 下面使用常数来初始化权重参数。\n",
    "for name, param in net.named_parameters():\n",
    "    if 'bias' in name:\n",
    "        init.constant_(param, val=0)\n",
    "        print(name, param.data)"
   ],
   "metadata": {
    "collapsed": false,
    "ExecuteTime": {
     "end_time": "2024-11-13T09:05:07.464981300Z",
     "start_time": "2024-11-13T09:05:07.432357900Z"
    }
   },
   "id": "fae6a78f97894c70",
   "execution_count": 11
  },
  {
   "cell_type": "markdown",
   "source": [
    "# 自定义初始化方法"
   ],
   "metadata": {
    "collapsed": false
   },
   "id": "a16830f17c37c0a3"
  },
  {
   "cell_type": "code",
   "outputs": [],
   "source": [],
   "metadata": {
    "collapsed": false
   },
   "id": "dde2748573bc9fc6"
  }
 ],
 "metadata": {
  "kernelspec": {
   "display_name": "Python 3",
   "language": "python",
   "name": "python3"
  },
  "language_info": {
   "codemirror_mode": {
    "name": "ipython",
    "version": 2
   },
   "file_extension": ".py",
   "mimetype": "text/x-python",
   "name": "python",
   "nbconvert_exporter": "python",
   "pygments_lexer": "ipython2",
   "version": "2.7.6"
  }
 },
 "nbformat": 4,
 "nbformat_minor": 5
}
