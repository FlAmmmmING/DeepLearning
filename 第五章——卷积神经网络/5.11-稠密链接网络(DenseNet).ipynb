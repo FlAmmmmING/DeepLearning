{
 "cells": [
  {
   "cell_type": "markdown",
   "source": [
    "# 稠密链接网络"
   ],
   "metadata": {
    "collapsed": false
   },
   "id": "b7b3430e86459b23"
  },
  {
   "cell_type": "markdown",
   "source": [
    "# 稠密块"
   ],
   "metadata": {
    "collapsed": false
   },
   "id": "5ccaf3fbb171116f"
  },
  {
   "cell_type": "code",
   "execution_count": 1,
   "id": "initial_id",
   "metadata": {
    "collapsed": true,
    "ExecuteTime": {
     "end_time": "2024-11-22T03:09:58.005251500Z",
     "start_time": "2024-11-22T03:09:53.191670900Z"
    }
   },
   "outputs": [],
   "source": [
    "import time  \n",
    "import torch  \n",
    "from torch import nn, optim  \n",
    "import torch.nn.functional as F  \n",
    "import sys  \n",
    "\n",
    "sys.path.append(\"..\")  \n",
    "import library.d2lzh_pytorch as d2l  \n",
    "device = torch.device('cuda' if torch.cuda.is_available() else  'cpu')"
   ]
  },
  {
   "cell_type": "code",
   "outputs": [],
   "source": [
    "def conv_block(in_channels, out_channels):  \n",
    "    blk = nn.Sequential(\n",
    "        nn.BatchNorm2d(in_channels),  \n",
    "        nn.ReLU(),  \n",
    "        nn.Conv2d(in_channels, out_channels,  kernel_size=3, padding=1)\n",
    "    )  \n",
    "    return blk"
   ],
   "metadata": {
    "collapsed": false,
    "ExecuteTime": {
     "end_time": "2024-11-22T03:10:15.336627900Z",
     "start_time": "2024-11-22T03:10:15.315866700Z"
    }
   },
   "id": "69bdc2b87eb2f886",
   "execution_count": 2
  },
  {
   "cell_type": "code",
   "outputs": [],
   "source": [
    "class DenseBlock(nn.Module):  \n",
    "    def __init__(self, num_convs, in_channels, out_channels):  \n",
    "        super(DenseBlock, self).__init__()  \n",
    "        net = []  \n",
    "        for i in range(num_convs):  \n",
    "            in_c = in_channels + i * out_channels  \n",
    "            net.append(conv_block(in_c, out_channels))  \n",
    "            self.net = nn.ModuleList(net)  \n",
    "            self.out_channels = in_channels + num_convs * out_channels  # 计算输出通道数  \n",
    "            \n",
    "    def forward(self, X):  \n",
    "        for blk in self.net:  \n",
    "            Y = blk(X)  \n",
    "            X = torch.cat((X, Y), dim=1) # 在通道维上将输入入和输出连结  \n",
    "        return X"
   ],
   "metadata": {
    "collapsed": false,
    "ExecuteTime": {
     "end_time": "2024-11-22T03:18:28.330622600Z",
     "start_time": "2024-11-22T03:18:28.308409400Z"
    }
   },
   "id": "1dc748634dc1ad60",
   "execution_count": 9
  },
  {
   "cell_type": "code",
   "outputs": [
    {
     "data": {
      "text/plain": "torch.Size([4, 23, 8, 8])"
     },
     "execution_count": 10,
     "metadata": {},
     "output_type": "execute_result"
    }
   ],
   "source": [
    "blk = DenseBlock(2, 3, 10)  \n",
    "X = torch.rand(4, 3, 8, 8)  \n",
    "Y = blk(X)  \n",
    "Y.shape # torch.Size([4, 23, 8, 8])"
   ],
   "metadata": {
    "collapsed": false,
    "ExecuteTime": {
     "end_time": "2024-11-22T03:18:28.464790500Z",
     "start_time": "2024-11-22T03:18:28.441822600Z"
    }
   },
   "id": "330ffa01e9281f68",
   "execution_count": 10
  },
  {
   "cell_type": "markdown",
   "source": [
    "# 过渡层"
   ],
   "metadata": {
    "collapsed": false
   },
   "id": "607b2a9a94f483af"
  },
  {
   "cell_type": "code",
   "outputs": [],
   "source": [
    "def transition_block(in_channels, out_channels):  \n",
    "    blk = nn.Sequential(  \n",
    "        nn.BatchNorm2d(in_channels),  \n",
    "        nn.ReLU(),  \n",
    "        nn.Conv2d(in_channels, out_channels, kernel_size=1),  \n",
    "        nn.AvgPool2d(kernel_size=2, stride=2)\n",
    "    )  \n",
    "    return blk"
   ],
   "metadata": {
    "collapsed": false,
    "ExecuteTime": {
     "end_time": "2024-11-22T03:18:29.667515Z",
     "start_time": "2024-11-22T03:18:29.647413700Z"
    }
   },
   "id": "dc48b5d7a59c7f1c",
   "execution_count": 11
  },
  {
   "cell_type": "code",
   "outputs": [
    {
     "data": {
      "text/plain": "torch.Size([4, 10, 4, 4])"
     },
     "execution_count": 12,
     "metadata": {},
     "output_type": "execute_result"
    }
   ],
   "source": [
    "blk = transition_block(23, 10)  \n",
    "blk(Y).shape # torch.Size([4, 10, 4, 4])"
   ],
   "metadata": {
    "collapsed": false,
    "ExecuteTime": {
     "end_time": "2024-11-22T03:18:30.453495600Z",
     "start_time": "2024-11-22T03:18:30.415577800Z"
    }
   },
   "id": "de3b674ca5cd3380",
   "execution_count": 12
  },
  {
   "cell_type": "markdown",
   "source": [
    "# DenseNet 模型"
   ],
   "metadata": {
    "collapsed": false
   },
   "id": "6c04aa17b6354aa4"
  },
  {
   "cell_type": "code",
   "outputs": [],
   "source": [
    "net = nn.Sequential(  \n",
    "    nn.Conv2d(1, 64, kernel_size=7, stride=2, padding=3),  \n",
    "    nn.BatchNorm2d(64), \n",
    "    nn.ReLU(),  \n",
    "    nn.MaxPool2d(kernel_size=3, stride=2, padding=1)\n",
    ")"
   ],
   "metadata": {
    "collapsed": false,
    "ExecuteTime": {
     "end_time": "2024-11-22T03:18:59.379652800Z",
     "start_time": "2024-11-22T03:18:59.362676900Z"
    }
   },
   "id": "9baed392a8224da6",
   "execution_count": 13
  },
  {
   "cell_type": "code",
   "outputs": [],
   "source": [
    "num_channels, growth_rate = 64, 32 # num_channels为当前的通道数  \n",
    "num_convs_in_dense_blocks = [4, 4, 4, 4]  \n",
    "\n",
    "for i, num_convs in enumerate(num_convs_in_dense_blocks):  \n",
    "    DB = DenseBlock(num_convs, num_channels, growth_rate)  \n",
    "    net.add_module(\"DenseBlosk_%d\" % i, DB)  # 上一个稠密块的输出通道数  \n",
    "    num_channels = DB.out_channels  # 在稠密块之间加入通道数减半的过渡层  \n",
    "    if i != len(num_convs_in_dense_blocks) - 1:  \n",
    "        net.add_module(\"transition_block_%d\" % i,  transition_block(num_channels, num_channels // 2))\n",
    "        num_channels //= 2"
   ],
   "metadata": {
    "collapsed": false,
    "ExecuteTime": {
     "end_time": "2024-11-22T03:20:13.835670900Z",
     "start_time": "2024-11-22T03:20:13.812325900Z"
    }
   },
   "id": "1ee4c8c874ec590a",
   "execution_count": 14
  },
  {
   "cell_type": "code",
   "outputs": [],
   "source": [
    "net.add_module(\"BN\", nn.BatchNorm2d(num_channels))  \n",
    "net.add_module(\"relu\", nn.ReLU())  \n",
    "net.add_module(\"global_avg_pool\", d2l.GlobalAvgPool2d()) #  GlobalAvgPool2d的输出: (Batch, num_channels, 1, 1)  \n",
    "net.add_module(\"fc\", nn.Sequential(d2l.FlattenLayer(), nn.Linear(num_channels, 10)))"
   ],
   "metadata": {
    "collapsed": false,
    "ExecuteTime": {
     "end_time": "2024-11-22T03:20:30.951619800Z",
     "start_time": "2024-11-22T03:20:30.924583700Z"
    }
   },
   "id": "fc8997bdcb824a86",
   "execution_count": 15
  },
  {
   "cell_type": "code",
   "outputs": [
    {
     "name": "stdout",
     "output_type": "stream",
     "text": [
      "0  output shape:\t torch.Size([1, 64, 48, 48])\n",
      "1  output shape:\t torch.Size([1, 64, 48, 48])\n",
      "2  output shape:\t torch.Size([1, 64, 48, 48])\n",
      "3  output shape:\t torch.Size([1, 64, 24, 24])\n",
      "DenseBlosk_0  output shape:\t torch.Size([1, 192, 24, 24])\n",
      "transition_block_0  output shape:\t torch.Size([1, 96, 12, 12])\n",
      "DenseBlosk_1  output shape:\t torch.Size([1, 224, 12, 12])\n",
      "transition_block_1  output shape:\t torch.Size([1, 112, 6, 6])\n",
      "DenseBlosk_2  output shape:\t torch.Size([1, 240, 6, 6])\n",
      "transition_block_2  output shape:\t torch.Size([1, 120, 3, 3])\n",
      "DenseBlosk_3  output shape:\t torch.Size([1, 248, 3, 3])\n",
      "BN  output shape:\t torch.Size([1, 248, 3, 3])\n",
      "relu  output shape:\t torch.Size([1, 248, 3, 3])\n",
      "global_avg_pool  output shape:\t torch.Size([1, 248, 1, 1])\n",
      "fc  output shape:\t torch.Size([1, 10])\n"
     ]
    }
   ],
   "source": [
    "X = torch.rand((1, 1, 96, 96))  \n",
    "for name, layer in net.named_children():  \n",
    "    X = layer(X)  \n",
    "    print(name, ' output shape:\\t', X.shape)"
   ],
   "metadata": {
    "collapsed": false,
    "ExecuteTime": {
     "end_time": "2024-11-22T03:20:53.859286600Z",
     "start_time": "2024-11-22T03:20:53.826867200Z"
    }
   },
   "id": "64a1bd10dfa88fce",
   "execution_count": 16
  },
  {
   "cell_type": "code",
   "outputs": [
    {
     "name": "stdout",
     "output_type": "stream",
     "text": [
      "training on  cuda\n"
     ]
    }
   ],
   "source": [
    "batch_size = 256  \n",
    "train_iter, test_iter =  d2l.load_data_fashion_mnist_in_ch5(batch_size=batch_size, resize=96)  \n",
    "lr, num_epochs = 0.001, 5  \n",
    "\n",
    "optimizer = torch.optim.Adam(net.parameters(), lr=lr)  \n",
    "d2l.train_ch5(net, train_iter, test_iter, batch_size, optimizer, device, num_epochs)"
   ],
   "metadata": {
    "collapsed": false,
    "is_executing": true,
    "ExecuteTime": {
     "start_time": "2024-11-22T03:29:54.767372400Z"
    }
   },
   "id": "85e1556d000032b",
   "execution_count": null
  },
  {
   "cell_type": "code",
   "outputs": [],
   "source": [],
   "metadata": {
    "collapsed": false
   },
   "id": "689c535e8307a6fd"
  }
 ],
 "metadata": {
  "kernelspec": {
   "display_name": "Python 3",
   "language": "python",
   "name": "python3"
  },
  "language_info": {
   "codemirror_mode": {
    "name": "ipython",
    "version": 2
   },
   "file_extension": ".py",
   "mimetype": "text/x-python",
   "name": "python",
   "nbconvert_exporter": "python",
   "pygments_lexer": "ipython2",
   "version": "2.7.6"
  }
 },
 "nbformat": 4,
 "nbformat_minor": 5
}
