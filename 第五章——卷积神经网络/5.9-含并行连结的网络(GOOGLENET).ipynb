{
 "cells": [
  {
   "cell_type": "markdown",
   "source": [
    "# 含并行连结的网络(GoogleNet)"
   ],
   "metadata": {
    "collapsed": false
   },
   "id": "dc31d461bf6ffc79"
  },
  {
   "cell_type": "markdown",
   "source": [
    "# Inception 块"
   ],
   "metadata": {
    "collapsed": false
   },
   "id": "78a690fb497cf856"
  },
  {
   "cell_type": "code",
   "execution_count": 1,
   "id": "initial_id",
   "metadata": {
    "collapsed": true,
    "ExecuteTime": {
     "end_time": "2024-11-20T03:36:10.077661400Z",
     "start_time": "2024-11-20T03:36:04.524436400Z"
    }
   },
   "outputs": [],
   "source": [
    "import time \n",
    "import torch\n",
    "from torch import nn, optim\n",
    "import torch.nn.functional as F\n",
    "import sys\n",
    "sys.path.append(\"..\")\n",
    "import library.d2lzh_pytorch as d2l\n",
    "device = torch.device(\"cuda\" if torch.cuda.is_available() else \"cpu\")"
   ]
  },
  {
   "cell_type": "code",
   "outputs": [],
   "source": [
    "# Inception 块\n",
    "class Inception(nn.Module):\n",
    "    # c1 - c4 为每条线里的层的输出通道数\n",
    "    def __init__(self, in_c, c1, c2, c3, c4):\n",
    "        super(Inception, self).__init__()\n",
    "        # 线路一\n",
    "        self.p1_1 = nn.Conv2d(in_channels=in_c, out_channels=c1, kernel_size=1)\n",
    "        # 线路2\n",
    "        self.p2_1 = nn.Conv2d(in_channels=in_c, out_channels=c2[0], kernel_size=1)\n",
    "        self.p2_2 = nn.Conv2d(in_channels=c2[0], out_channels=c2[1], kernel_size=3, padding=1)\n",
    "        # 线路3\n",
    "        self.p3_1 = nn.Conv2d(in_channels=in_c, out_channels=c3[0], kernel_size=1)\n",
    "        self.p3_2 = nn.Conv2d(in_channels=c3[0], out_channels=c3[1], kernel_size=5, padding=2)\n",
    "        # 线路4\n",
    "        self.p4_1 = nn.MaxPool2d(kernel_size=3, stride=1, padding=1)\n",
    "        self.p4_2 = nn.Conv2d(in_channels=in_c, out_channels=c4, kernel_size=1)\n",
    "        \n",
    "    def forward(self, x):\n",
    "        p1 = F.relu(self.p1_1(x))\n",
    "        p2 = F.relu(self.p2_2(F.relu(self.p2_1(x))))\n",
    "        p3 = F.relu(self.p3_2(F.relu(self.p3_1(x))))\n",
    "        p4 = F.relu(self.p4_2((self.p4_1(x))))\n",
    "        return torch.cat([p1, p2, p3, p4], dim=1) # 在通道维上输出"
   ],
   "metadata": {
    "collapsed": false,
    "ExecuteTime": {
     "end_time": "2024-11-20T03:45:35.764095600Z",
     "start_time": "2024-11-20T03:45:35.750594100Z"
    }
   },
   "id": "e42243a6eeed7ea9",
   "execution_count": 2
  },
  {
   "cell_type": "markdown",
   "source": [
    "# GoogleNet 模型建立\n",
    "GoogLeNet跟VGG一样,在主体卷积部分中使用用5个模块(block),每个模块之间使用步幅为2的 3 * 3 最大池化层来减小输出高宽。第一模块使用一个64通道的 7 * 7 卷积层。"
   ],
   "metadata": {
    "collapsed": false
   },
   "id": "76bc751c1ca0095a"
  },
  {
   "cell_type": "code",
   "outputs": [],
   "source": [
    "b1 = nn.Sequential(\n",
    "    nn.Conv2d(in_channels=1, out_channels=64, kernel_size=7, stride=2, padding=3),\n",
    "    nn.ReLU(),\n",
    "    nn.MaxPool2d(kernel_size=3, stride=2, padding=1)\n",
    ")"
   ],
   "metadata": {
    "collapsed": false,
    "ExecuteTime": {
     "end_time": "2024-11-20T03:53:39.090387400Z",
     "start_time": "2024-11-20T03:53:39.073387Z"
    }
   },
   "id": "67a198c3872cb76",
   "execution_count": 3
  },
  {
   "cell_type": "code",
   "outputs": [],
   "source": [
    "b2 = nn.Sequential(\n",
    "    nn.Conv2d(in_channels=64, out_channels=64, kernel_size=1),\n",
    "    nn.Conv2d(in_channels=64, out_channels=192, kernel_size=3, padding=1),\n",
    "    nn.MaxPool2d(kernel_size=3, stride=2, padding=1)\n",
    ")"
   ],
   "metadata": {
    "collapsed": false,
    "ExecuteTime": {
     "end_time": "2024-11-20T03:56:35.642782Z",
     "start_time": "2024-11-20T03:56:35.620782900Z"
    }
   },
   "id": "bc10cd7f0abe5232",
   "execution_count": 4
  },
  {
   "cell_type": "code",
   "outputs": [],
   "source": [
    "b3 = nn.Sequential(Inception(192, 64, (96, 128), (16, 32), 32),  \n",
    "                   Inception(256, 128, (128, 192), (32, 96), 64),  \n",
    "                   nn.MaxPool2d(kernel_size=3, stride=2, padding=1))"
   ],
   "metadata": {
    "collapsed": false,
    "ExecuteTime": {
     "end_time": "2024-11-20T03:58:39.540194Z",
     "start_time": "2024-11-20T03:58:39.512613500Z"
    }
   },
   "id": "ec9cc8019324d107",
   "execution_count": 5
  },
  {
   "cell_type": "code",
   "outputs": [],
   "source": [
    "b4 = nn.Sequential(Inception(480, 192, (96, 208), (16, 48), 64),  \n",
    "                   Inception(512, 160, (112, 224), (24, 64), 64),  \n",
    "                   Inception(512, 128, (128, 256), (24, 64), 64),  \n",
    "                   Inception(512, 112, (144, 288), (32, 64), 64),  \n",
    "                   Inception(528, 256, (160, 320), (32, 128), 128),  \n",
    "                   nn.MaxPool2d(kernel_size=3, stride=2, padding=1))"
   ],
   "metadata": {
    "collapsed": false,
    "ExecuteTime": {
     "end_time": "2024-11-20T03:58:47.637841700Z",
     "start_time": "2024-11-20T03:58:47.618324400Z"
    }
   },
   "id": "6cb9f9ffb21987e3",
   "execution_count": 6
  },
  {
   "cell_type": "code",
   "outputs": [],
   "source": [
    "b5 = nn.Sequential(Inception(832, 256, (160, 320), (32, 128), 128),  \n",
    "                   Inception(832, 384, (192, 384), (48, 128), 128),  \n",
    "                   d2l.GlobalAvgPool2d())"
   ],
   "metadata": {
    "collapsed": false,
    "ExecuteTime": {
     "end_time": "2024-11-20T03:58:56.406266500Z",
     "start_time": "2024-11-20T03:58:56.377266100Z"
    }
   },
   "id": "6a8e82a1346c0819",
   "execution_count": 7
  },
  {
   "cell_type": "code",
   "outputs": [],
   "source": [
    "net = nn.Sequential(b1, b2, b3, b4, b5,  d2l.FlattenLayer(), nn.Linear(1024, 10))"
   ],
   "metadata": {
    "collapsed": false,
    "ExecuteTime": {
     "end_time": "2024-11-20T03:59:04.548948Z",
     "start_time": "2024-11-20T03:59:04.533918800Z"
    }
   },
   "id": "2b300672a2b83e7f",
   "execution_count": 8
  },
  {
   "cell_type": "code",
   "outputs": [
    {
     "name": "stdout",
     "output_type": "stream",
     "text": [
      "output shape:  torch.Size([1, 64, 24, 24])\n",
      "output shape:  torch.Size([1, 192, 12, 12])\n",
      "output shape:  torch.Size([1, 480, 6, 6])\n",
      "output shape:  torch.Size([1, 832, 3, 3])\n",
      "output shape:  torch.Size([1, 1024, 1, 1])\n",
      "output shape:  torch.Size([1, 1024])\n",
      "output shape:  torch.Size([1, 10])\n"
     ]
    }
   ],
   "source": [
    "X = torch.rand(1, 1, 96, 96)\n",
    "for blk in net.children():  \n",
    "    X = blk(X)  \n",
    "    print('output shape: ', X.shape)"
   ],
   "metadata": {
    "collapsed": false,
    "ExecuteTime": {
     "end_time": "2024-11-20T03:59:24.259110400Z",
     "start_time": "2024-11-20T03:59:24.212417200Z"
    }
   },
   "id": "a411d3c3c3269d15",
   "execution_count": 9
  },
  {
   "cell_type": "code",
   "outputs": [
    {
     "name": "stdout",
     "output_type": "stream",
     "text": [
      "training on  cuda\n",
      "epoch 1, loss 1.0334, train acc 0.602, test acc 0.817,  time 53.0 sec\n",
      "epoch 2, loss 0.2122, train acc 0.843, test acc 0.851,  time 56.5 sec\n",
      "epoch 3, loss 0.1166, train acc 0.870, test acc 0.881,  time 67.9 sec\n",
      "epoch 4, loss 0.0759, train acc 0.889, test acc 0.879,  time 75.4 sec\n",
      "epoch 5, loss 0.0552, train acc 0.898, test acc 0.892,  time 97.8 sec\n"
     ]
    }
   ],
   "source": [
    "batch_size = 128\n",
    "train_iter, test_iter = d2l.load_data_fashion_mnist_in_ch5(batch_size, resize=96)\n",
    "lr, num_epochs = 0.001, 5\n",
    "optimizer = torch.optim.Adam(net.parameters(), lr=lr)\n",
    "d2l.train_ch5(net, train_iter, test_iter, batch_size, optimizer, device, num_epochs)"
   ],
   "metadata": {
    "collapsed": false,
    "ExecuteTime": {
     "end_time": "2024-11-20T04:05:51.201385Z",
     "start_time": "2024-11-20T04:00:00.333594900Z"
    }
   },
   "id": "8b9e87c874f4776",
   "execution_count": 10
  },
  {
   "cell_type": "code",
   "outputs": [],
   "source": [],
   "metadata": {
    "collapsed": false
   },
   "id": "57af321677a755"
  }
 ],
 "metadata": {
  "kernelspec": {
   "display_name": "Python 3",
   "language": "python",
   "name": "python3"
  },
  "language_info": {
   "codemirror_mode": {
    "name": "ipython",
    "version": 2
   },
   "file_extension": ".py",
   "mimetype": "text/x-python",
   "name": "python",
   "nbconvert_exporter": "python",
   "pygments_lexer": "ipython2",
   "version": "2.7.6"
  }
 },
 "nbformat": 4,
 "nbformat_minor": 5
}
