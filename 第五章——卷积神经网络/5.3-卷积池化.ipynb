{
 "cells": [
  {
   "cell_type": "code",
   "execution_count": 1,
   "id": "initial_id",
   "metadata": {
    "collapsed": true,
    "ExecuteTime": {
     "end_time": "2024-11-18T03:53:07.028559600Z",
     "start_time": "2024-11-18T03:53:02.331049900Z"
    }
   },
   "outputs": [],
   "source": [
    "import torch\n",
    "from torch import nn\n",
    "import sys\n",
    "sys.path.append('..')\n",
    "import library.d2lzh_pytorch as d2l"
   ]
  },
  {
   "cell_type": "markdown",
   "source": [
    "# 多输出通道\n",
    "设卷积核输入通道数和输出通道数分别为ci和co,高和宽分别为kh和kw。如果希望得到含多个通道的输出,我们可以为每个输出通道分别创建形状为ci * kh * kw的核数组。将它们在输出通道维上连结,卷积核的形状即ci * co * kh * kw。"
   ],
   "metadata": {
    "collapsed": false
   },
   "id": "2b5e7f351e9b3c89"
  },
  {
   "cell_type": "code",
   "outputs": [],
   "source": [
    "def corr2d_multi_in(X, K):\n",
    "    res = d2l.corr2d(X[0, :, :], K[0, :, :])\n",
    "    for i in range(1, K.shape[0]):\n",
    "        res += d2l.corr2d(X[i, :, :], K[i, :, :])\n",
    "    return res"
   ],
   "metadata": {
    "collapsed": false,
    "ExecuteTime": {
     "end_time": "2024-11-18T03:53:07.054558500Z",
     "start_time": "2024-11-18T03:53:07.031559900Z"
    }
   },
   "id": "b7f430dba33056cb",
   "execution_count": 2
  },
  {
   "cell_type": "code",
   "outputs": [],
   "source": [
    "def corr2d_multi_in_out(X, K):\n",
    "    # 对K的第0维遍历,每次同输入X做互相关计算。所有结果使用stack函数合并在一起\n",
    "    return torch.stack([corr2d_multi_in(X, k) for k in K])"
   ],
   "metadata": {
    "collapsed": false,
    "ExecuteTime": {
     "end_time": "2024-11-18T03:53:07.065560800Z",
     "start_time": "2024-11-18T03:53:07.046558400Z"
    }
   },
   "id": "1844767ca2179bf8",
   "execution_count": 3
  },
  {
   "cell_type": "code",
   "outputs": [
    {
     "data": {
      "text/plain": "torch.Size([3, 2, 2, 2])"
     },
     "execution_count": 4,
     "metadata": {},
     "output_type": "execute_result"
    }
   ],
   "source": [
    "K = torch.tensor([[[0, 1], [2, 3]], [[1, 2], [3, 4]]])\n",
    "K = torch.stack([K, K + 1, K + 2])\n",
    "K.shape"
   ],
   "metadata": {
    "collapsed": false,
    "ExecuteTime": {
     "end_time": "2024-11-18T03:53:07.090563900Z",
     "start_time": "2024-11-18T03:53:07.060562500Z"
    }
   },
   "id": "dd21eb2b6e8a7625",
   "execution_count": 4
  },
  {
   "cell_type": "code",
   "outputs": [],
   "source": [
    "X = torch.tensor([[[0, 1, 2], [3, 4, 5], [6, 7, 8]],  [[1, 2, 3], [4, 5, 6], [7, 8, 9]]])"
   ],
   "metadata": {
    "collapsed": false,
    "ExecuteTime": {
     "end_time": "2024-11-18T03:53:07.105564100Z",
     "start_time": "2024-11-18T03:53:07.093563300Z"
    }
   },
   "id": "e424a5e8cfc12911",
   "execution_count": 5
  },
  {
   "cell_type": "code",
   "outputs": [
    {
     "data": {
      "text/plain": "tensor([[[ 56.,  72.],\n         [104., 120.]],\n\n        [[ 76., 100.],\n         [148., 172.]],\n\n        [[ 96., 128.],\n         [192., 224.]]])"
     },
     "execution_count": 6,
     "metadata": {},
     "output_type": "execute_result"
    }
   ],
   "source": [
    "corr2d_multi_in_out(X, K)"
   ],
   "metadata": {
    "collapsed": false,
    "ExecuteTime": {
     "end_time": "2024-11-18T03:53:07.168098200Z",
     "start_time": "2024-11-18T03:53:07.107576200Z"
    }
   },
   "id": "8ba69decfd6d475a",
   "execution_count": 6
  },
  {
   "cell_type": "markdown",
   "source": [
    "# 1 * 1 卷积层"
   ],
   "metadata": {
    "collapsed": false
   },
   "id": "b26a66658fe1828"
  },
  {
   "cell_type": "code",
   "outputs": [],
   "source": [
    "def corr2d_multi_in_out_1x1(X, K):\n",
    "    c_i, h, w = X.shape\n",
    "    c_o = K.shape[0]\n",
    "    X = X.view(c_i, h * w)\n",
    "    K = K.view(c_o, c_i)\n",
    "    Y = torch.mm(K, X)\n",
    "    return Y.view(c_o, h, w)"
   ],
   "metadata": {
    "collapsed": false,
    "ExecuteTime": {
     "end_time": "2024-11-18T03:53:07.209280600Z",
     "start_time": "2024-11-18T03:53:07.157094900Z"
    }
   },
   "id": "ea232e28d3b31e3",
   "execution_count": 7
  },
  {
   "cell_type": "code",
   "outputs": [],
   "source": [
    "X = torch.rand(3, 3, 3)\n",
    "K = torch.rand(2, 3, 1, 1)"
   ],
   "metadata": {
    "collapsed": false,
    "ExecuteTime": {
     "end_time": "2024-11-18T03:53:07.211277700Z",
     "start_time": "2024-11-18T03:53:07.169098Z"
    }
   },
   "id": "44095778f09881cf",
   "execution_count": 8
  },
  {
   "cell_type": "code",
   "outputs": [
    {
     "data": {
      "text/plain": "True"
     },
     "execution_count": 9,
     "metadata": {},
     "output_type": "execute_result"
    }
   ],
   "source": [
    "Y1 = corr2d_multi_in_out_1x1(X, K)  \n",
    "Y2 = corr2d_multi_in_out(X, K)\n",
    "(Y1 - Y2).norm().item() < 1e-6"
   ],
   "metadata": {
    "collapsed": false,
    "ExecuteTime": {
     "end_time": "2024-11-18T03:53:07.252314700Z",
     "start_time": "2024-11-18T03:53:07.184273200Z"
    }
   },
   "id": "30c2fb479b9f3764",
   "execution_count": 9
  },
  {
   "cell_type": "markdown",
   "source": [
    "# 池化层"
   ],
   "metadata": {
    "collapsed": false
   },
   "id": "5e8a81c7a46613cb"
  },
  {
   "cell_type": "code",
   "outputs": [],
   "source": [
    "def pool2d(X, pool_size, mode='max'):\n",
    "    X = X.float()\n",
    "    p_h, p_w = pool_size\n",
    "    Y = torch.zeros(X.shape[0] - p_h + 1, X.shape[1] - p_w + 1)\n",
    "    for i in range(Y.shape[0]):\n",
    "        for j in range(Y.shape[1]):\n",
    "            if mode == 'max':\n",
    "                Y[i, j] = X[i: i + p_h, j: j + p_w].max()\n",
    "            elif mode == 'avg':\n",
    "                Y[i, j] = X[i: i + p_h, j: j + p_w].mean()\n",
    "    return Y"
   ],
   "metadata": {
    "collapsed": false,
    "ExecuteTime": {
     "end_time": "2024-11-18T03:57:36.066448400Z",
     "start_time": "2024-11-18T03:57:36.031932900Z"
    }
   },
   "id": "af39308213c1df18",
   "execution_count": 14
  },
  {
   "cell_type": "code",
   "outputs": [
    {
     "data": {
      "text/plain": "tensor([[4., 5.],\n        [7., 8.]])"
     },
     "execution_count": 15,
     "metadata": {},
     "output_type": "execute_result"
    }
   ],
   "source": [
    "X = torch.tensor([[0, 1, 2], [3, 4, 5], [6, 7, 8]])  \n",
    "pool2d(X, (2, 2))"
   ],
   "metadata": {
    "collapsed": false,
    "ExecuteTime": {
     "end_time": "2024-11-18T03:57:36.370314100Z",
     "start_time": "2024-11-18T03:57:36.327798200Z"
    }
   },
   "id": "d3f8a5933090b379",
   "execution_count": 15
  },
  {
   "cell_type": "code",
   "outputs": [
    {
     "data": {
      "text/plain": "tensor([[2., 3.],\n        [5., 6.]])"
     },
     "execution_count": 16,
     "metadata": {},
     "output_type": "execute_result"
    }
   ],
   "source": [
    "pool2d(X, (2, 2), mode='avg')"
   ],
   "metadata": {
    "collapsed": false,
    "ExecuteTime": {
     "end_time": "2024-11-18T04:00:47.416403900Z",
     "start_time": "2024-11-18T04:00:47.385912500Z"
    }
   },
   "id": "38fb950019631fb3",
   "execution_count": 16
  },
  {
   "cell_type": "code",
   "outputs": [
    {
     "data": {
      "text/plain": "tensor([[[[ 0.,  1.,  2.,  3.],\n          [ 4.,  5.,  6.,  7.],\n          [ 8.,  9., 10., 11.],\n          [12., 13., 14., 15.]]]])"
     },
     "execution_count": 17,
     "metadata": {},
     "output_type": "execute_result"
    }
   ],
   "source": [
    "X = torch.arange(16, dtype=torch.float).view((1, 1, 4, 4))  \n",
    "X"
   ],
   "metadata": {
    "collapsed": false,
    "ExecuteTime": {
     "end_time": "2024-11-18T04:01:21.192487800Z",
     "start_time": "2024-11-18T04:01:21.180479Z"
    }
   },
   "id": "ceccb8e643040109",
   "execution_count": 17
  },
  {
   "cell_type": "markdown",
   "source": [
    "# 默认情况下, MaxPool2d 实例里步幅和池化窗口形状相同"
   ],
   "metadata": {
    "collapsed": false
   },
   "id": "9919f763bbcb7a9d"
  },
  {
   "cell_type": "code",
   "outputs": [
    {
     "data": {
      "text/plain": "tensor([[[[10.]]]])"
     },
     "execution_count": 21,
     "metadata": {},
     "output_type": "execute_result"
    }
   ],
   "source": [
    "p2d = nn.MaxPool2d(3)\n",
    "p2d(X)"
   ],
   "metadata": {
    "collapsed": false,
    "ExecuteTime": {
     "end_time": "2024-11-18T04:03:22.006320300Z",
     "start_time": "2024-11-18T04:03:21.961434200Z"
    }
   },
   "id": "aaa3f1b9466b2a12",
   "execution_count": 21
  },
  {
   "cell_type": "code",
   "outputs": [],
   "source": [
    "p2d = nn.MaxPool2d(kernel_size=3, stride=2, padding=1)"
   ],
   "metadata": {
    "collapsed": false,
    "ExecuteTime": {
     "end_time": "2024-11-18T04:03:56.868722800Z",
     "start_time": "2024-11-18T04:03:56.857473800Z"
    }
   },
   "id": "f4cf292950cc2ad2",
   "execution_count": 26
  },
  {
   "cell_type": "code",
   "outputs": [
    {
     "data": {
      "text/plain": "tensor([[[[ 5.,  7.],\n          [13., 15.]]]])"
     },
     "execution_count": 27,
     "metadata": {},
     "output_type": "execute_result"
    }
   ],
   "source": [
    "p2d(X)"
   ],
   "metadata": {
    "collapsed": false,
    "ExecuteTime": {
     "end_time": "2024-11-18T04:03:56.991551700Z",
     "start_time": "2024-11-18T04:03:56.978550800Z"
    }
   },
   "id": "79981d9a2a12ce52",
   "execution_count": 27
  },
  {
   "cell_type": "code",
   "outputs": [],
   "source": [],
   "metadata": {
    "collapsed": false
   },
   "id": "cc17312b0e56dbcf"
  }
 ],
 "metadata": {
  "kernelspec": {
   "display_name": "Python 3",
   "language": "python",
   "name": "python3"
  },
  "language_info": {
   "codemirror_mode": {
    "name": "ipython",
    "version": 2
   },
   "file_extension": ".py",
   "mimetype": "text/x-python",
   "name": "python",
   "nbconvert_exporter": "python",
   "pygments_lexer": "ipython2",
   "version": "2.7.6"
  }
 },
 "nbformat": 4,
 "nbformat_minor": 5
}
