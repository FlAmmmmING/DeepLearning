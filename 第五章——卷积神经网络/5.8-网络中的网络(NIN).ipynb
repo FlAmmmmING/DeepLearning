{
 "cells": [
  {
   "cell_type": "code",
   "execution_count": 3,
   "id": "initial_id",
   "metadata": {
    "collapsed": true,
    "ExecuteTime": {
     "end_time": "2024-11-18T09:15:39.886002600Z",
     "start_time": "2024-11-18T09:15:39.872999700Z"
    }
   },
   "outputs": [],
   "source": [
    "import time\n",
    "import torch\n",
    "from torch import nn, optim\n",
    "import torch.nn.functional as F\n",
    "import sys\n",
    "sys.path.append(\"..\")\n",
    "import library.d2lzh_pytorch as d2l\n",
    "\n",
    "device = torch.device(\"cuda\" if torch.cuda.is_available() else \"cpu\")\n"
   ]
  },
  {
   "cell_type": "code",
   "outputs": [],
   "source": [
    "def nin_block(in_channels, out_channels, kernel_size, stride, padding):\n",
    "    blk = nn.Sequential(\n",
    "        nn.Conv2d(in_channels, out_channels, kernel_size, stride, padding),\n",
    "        nn.ReLU(),\n",
    "        nn.Conv2d(out_channels, out_channels, kernel_size=1),\n",
    "        nn.ReLU(),\n",
    "        nn.Conv2d(out_channels, out_channels, kernel_size=1),\n",
    "        nn.ReLU()\n",
    "    )\n",
    "    return blk"
   ],
   "metadata": {
    "collapsed": false,
    "ExecuteTime": {
     "end_time": "2024-11-18T09:13:06.051660200Z",
     "start_time": "2024-11-18T09:13:06.035925700Z"
    }
   },
   "id": "7a8fe9e0259e1172",
   "execution_count": 2
  },
  {
   "cell_type": "markdown",
   "source": [
    "# NIN 模型"
   ],
   "metadata": {
    "collapsed": false
   },
   "id": "6e73925c06980"
  },
  {
   "cell_type": "code",
   "outputs": [],
   "source": [
    "# 定义全局平均池化层\n",
    "class GlobalAvgPool2d(nn.Module):\n",
    "    # 全局平均池化层通过将池化窗口设置为输入的高和宽实现\n",
    "    def __init__(self):\n",
    "        super(GlobalAvgPool2d, self).__init__()\n",
    "\n",
    "    def forward(self, x):\n",
    "        # kernel_size 设置为输入的高和宽\n",
    "        return F.avg_pool2d(x, kernel_size=x.size()[2:])"
   ],
   "metadata": {
    "collapsed": false,
    "ExecuteTime": {
     "end_time": "2024-11-18T09:15:42.779702800Z",
     "start_time": "2024-11-18T09:15:42.764744800Z"
    }
   },
   "id": "793412bd39cb7968",
   "execution_count": 4
  },
  {
   "cell_type": "code",
   "outputs": [],
   "source": [
    "\n",
    "# 定义 NIN 网络\n",
    "net = nn.Sequential(\n",
    "    # 第一个 NIN 块\n",
    "    nin_block(1, 96, kernel_size=11, stride=4, padding=0),\n",
    "    nn.MaxPool2d(kernel_size=3, stride=2),\n",
    "    \n",
    "    # 第二个 NIN 块\n",
    "    nin_block(96, 256, kernel_size=5, stride=1, padding=2),\n",
    "    nn.MaxPool2d(kernel_size=3, stride=2),\n",
    "    \n",
    "    # 第三个 NIN 块\n",
    "    nin_block(256, 384, kernel_size=3, stride=1, padding=1),\n",
    "    nn.MaxPool2d(kernel_size=3, stride=2),\n",
    "    \n",
    "    # Dropout 层用于防止过拟合\n",
    "    nn.Dropout(0.5),\n",
    "    \n",
    "    # 最后的 NIN 块，用于分类，类别数为 10\n",
    "    nin_block(384, 10, kernel_size=3, stride=1, padding=1),\n",
    "    \n",
    "    # 全局平均池化层\n",
    "    GlobalAvgPool2d(),\n",
    "    \n",
    "    # 将四维输出转换为二维，形状为 (批量大小, 10)\n",
    "    nn.Flatten()\n",
    ")"
   ],
   "metadata": {
    "collapsed": false,
    "ExecuteTime": {
     "end_time": "2024-11-18T09:23:52.705315300Z",
     "start_time": "2024-11-18T09:23:52.685294600Z"
    }
   },
   "id": "a060604b81d56c64",
   "execution_count": 5
  },
  {
   "cell_type": "code",
   "outputs": [
    {
     "name": "stdout",
     "output_type": "stream",
     "text": [
      "0 output shape:  torch.Size([1, 96, 54, 54])\n",
      "1 output shape:  torch.Size([1, 96, 26, 26])\n",
      "2 output shape:  torch.Size([1, 256, 26, 26])\n",
      "3 output shape:  torch.Size([1, 256, 12, 12])\n",
      "4 output shape:  torch.Size([1, 384, 12, 12])\n",
      "5 output shape:  torch.Size([1, 384, 5, 5])\n",
      "6 output shape:  torch.Size([1, 384, 5, 5])\n",
      "7 output shape:  torch.Size([1, 10, 5, 5])\n",
      "8 output shape:  torch.Size([1, 10, 1, 1])\n",
      "9 output shape:  torch.Size([1, 10])\n"
     ]
    }
   ],
   "source": [
    "X = torch.rand(1, 1, 224, 224)  \n",
    "for name, blk in net.named_children():  \n",
    "    X = blk(X)  \n",
    "    print(name, 'output shape: ', X.shape)"
   ],
   "metadata": {
    "collapsed": false,
    "ExecuteTime": {
     "end_time": "2024-11-18T09:24:21.661552Z",
     "start_time": "2024-11-18T09:24:21.621550500Z"
    }
   },
   "id": "5fdf6733566eff21",
   "execution_count": 6
  },
  {
   "cell_type": "code",
   "outputs": [
    {
     "name": "stdout",
     "output_type": "stream",
     "text": [
      "training on  cuda\n",
      "epoch 1, loss 1.4104, train acc 0.488, test acc 0.678,  time 112.6 sec\n"
     ]
    },
    {
     "ename": "KeyboardInterrupt",
     "evalue": "",
     "output_type": "error",
     "traceback": [
      "\u001B[1;31m---------------------------------------------------------------------------\u001B[0m",
      "\u001B[1;31mKeyboardInterrupt\u001B[0m                         Traceback (most recent call last)",
      "Cell \u001B[1;32mIn[8], line 6\u001B[0m\n\u001B[0;32m      4\u001B[0m lr, num_epochs \u001B[38;5;241m=\u001B[39m \u001B[38;5;241m0.002\u001B[39m, \u001B[38;5;241m5\u001B[39m  \n\u001B[0;32m      5\u001B[0m optimizer \u001B[38;5;241m=\u001B[39m torch\u001B[38;5;241m.\u001B[39moptim\u001B[38;5;241m.\u001B[39mAdam(net\u001B[38;5;241m.\u001B[39mparameters(), lr\u001B[38;5;241m=\u001B[39mlr)  \n\u001B[1;32m----> 6\u001B[0m \u001B[43md2l\u001B[49m\u001B[38;5;241;43m.\u001B[39;49m\u001B[43mtrain_ch5\u001B[49m\u001B[43m(\u001B[49m\u001B[43mnet\u001B[49m\u001B[43m,\u001B[49m\u001B[43m \u001B[49m\u001B[43mtrain_iter\u001B[49m\u001B[43m,\u001B[49m\u001B[43m \u001B[49m\u001B[43mtest_iter\u001B[49m\u001B[43m,\u001B[49m\u001B[43m \u001B[49m\u001B[43mbatch_size\u001B[49m\u001B[43m,\u001B[49m\u001B[43m \u001B[49m\u001B[43moptimizer\u001B[49m\u001B[43m,\u001B[49m\u001B[43m  \u001B[49m\u001B[43mdevice\u001B[49m\u001B[43m,\u001B[49m\u001B[43m \u001B[49m\u001B[43mnum_epochs\u001B[49m\u001B[43m)\u001B[49m\n",
      "File \u001B[1;32m~\\Desktop\\【动手学深度学习】\\Coding\\library\\d2lzh_pytorch.py:197\u001B[0m, in \u001B[0;36mtrain_ch5\u001B[1;34m(net, train_iter, test_iter, batch_size, optimizer, device, num_epochs)\u001B[0m\n\u001B[0;32m    195\u001B[0m optimizer\u001B[38;5;241m.\u001B[39mzero_grad()\n\u001B[0;32m    196\u001B[0m l\u001B[38;5;241m.\u001B[39mbackward()\n\u001B[1;32m--> 197\u001B[0m optimizer\u001B[38;5;241m.\u001B[39mstep()\n\u001B[0;32m    198\u001B[0m train_l_sum \u001B[38;5;241m+\u001B[39m\u001B[38;5;241m=\u001B[39m l\u001B[38;5;241m.\u001B[39mcpu()\u001B[38;5;241m.\u001B[39mitem()\n\u001B[0;32m    199\u001B[0m train_acc_sum \u001B[38;5;241m+\u001B[39m\u001B[38;5;241m=\u001B[39m (y_hat\u001B[38;5;241m.\u001B[39margmax(dim\u001B[38;5;241m=\u001B[39m\u001B[38;5;241m1\u001B[39m) \u001B[38;5;241m==\u001B[39m y)\u001B[38;5;241m.\u001B[39msum()\u001B[38;5;241m.\u001B[39mcpu()\u001B[38;5;241m.\u001B[39mitem()\n",
      "\u001B[1;31mKeyboardInterrupt\u001B[0m: "
     ]
    }
   ],
   "source": [
    "batch_size = 128  \n",
    "# 如出现“out of memory”的报错信息,可减小小batch_size或resize  \n",
    "train_iter, test_iter = d2l.load_data_fashion_mnist_in_ch5(batch_size, resize=224)  \n",
    "lr, num_epochs = 0.002, 5  \n",
    "optimizer = torch.optim.Adam(net.parameters(), lr=lr)  \n",
    "d2l.train_ch5(net, train_iter, test_iter, batch_size, optimizer,  device, num_epochs)"
   ],
   "metadata": {
    "collapsed": false,
    "ExecuteTime": {
     "end_time": "2024-11-18T09:28:16.276287900Z",
     "start_time": "2024-11-18T09:25:12.683034400Z"
    }
   },
   "id": "9322d267cfe3c951",
   "execution_count": 8
  },
  {
   "cell_type": "code",
   "outputs": [],
   "source": [],
   "metadata": {
    "collapsed": false
   },
   "id": "3f2993aaaca21e60"
  }
 ],
 "metadata": {
  "kernelspec": {
   "display_name": "Python 3",
   "language": "python",
   "name": "python3"
  },
  "language_info": {
   "codemirror_mode": {
    "name": "ipython",
    "version": 2
   },
   "file_extension": ".py",
   "mimetype": "text/x-python",
   "name": "python",
   "nbconvert_exporter": "python",
   "pygments_lexer": "ipython2",
   "version": "2.7.6"
  }
 },
 "nbformat": 4,
 "nbformat_minor": 5
}
