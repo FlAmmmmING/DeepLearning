{
 "cells": [
  {
   "cell_type": "markdown",
   "source": [
    "# 残差网络"
   ],
   "metadata": {
    "collapsed": false
   },
   "id": "2195ca9ae2ef713"
  },
  {
   "cell_type": "code",
   "execution_count": 1,
   "id": "initial_id",
   "metadata": {
    "collapsed": true,
    "ExecuteTime": {
     "end_time": "2024-11-22T02:19:27.606888Z",
     "start_time": "2024-11-22T02:19:22.947374900Z"
    }
   },
   "outputs": [],
   "source": [
    "import time  \n",
    "import torch  \n",
    "from torch import nn, optim  \n",
    "import torch.nn.functional as F  \n",
    "import sys  \n",
    "\n",
    "sys.path.append(\"..\")  \n",
    "import library.d2lzh_pytorch as d2l  \n",
    "device = torch.device('cuda' if torch.cuda.is_available() else  'cpu')"
   ]
  },
  {
   "cell_type": "code",
   "outputs": [],
   "source": [
    "class Residual(nn.Module):\n",
    "    def __init__(self, in_channels, out_channels, use_1x1conv=False, stride=1):\n",
    "        super(Residual, self).__init__()\n",
    "        self.conv1 = nn.Conv2d(in_channels, out_channels, kernel_size=3, stride=stride, padding=1)\n",
    "        self.conv2 = nn.Conv2d(out_channels, out_channels, kernel_size=3, padding=1)\n",
    "        if use_1x1conv:\n",
    "            self.conv3 = nn.Conv2d(in_channels, out_channels, kernel_size=1, stride=stride)\n",
    "        else:\n",
    "            self.conv3 = None\n",
    "        self.bn1 = nn.BatchNorm2d(out_channels)\n",
    "        self.bn2 = nn.BatchNorm2d(out_channels)\n",
    "    \n",
    "    def forward(self, X):\n",
    "        Y = F.relu(self.bn1(self.conv1(X)))\n",
    "        Y = F.relu(self.bn2(self.conv2(Y)))\n",
    "        if self.conv3:\n",
    "            X = self.conv3(X)\n",
    "        return F.relu(Y + X)"
   ],
   "metadata": {
    "collapsed": false,
    "ExecuteTime": {
     "end_time": "2024-11-22T02:46:35.521255500Z",
     "start_time": "2024-11-22T02:46:35.488903900Z"
    }
   },
   "id": "699763c56d02b8a5",
   "execution_count": 20
  },
  {
   "cell_type": "code",
   "outputs": [
    {
     "data": {
      "text/plain": "torch.Size([4, 3, 6, 6])"
     },
     "execution_count": 21,
     "metadata": {},
     "output_type": "execute_result"
    }
   ],
   "source": [
    "blk = Residual(3, 3)\n",
    "X = torch.randn(size=(4, 3, 6, 6))\n",
    "blk(X).shape"
   ],
   "metadata": {
    "collapsed": false,
    "ExecuteTime": {
     "end_time": "2024-11-22T02:46:35.973826500Z",
     "start_time": "2024-11-22T02:46:35.947045Z"
    }
   },
   "id": "a5db3055b14dfeaa",
   "execution_count": 21
  },
  {
   "cell_type": "code",
   "outputs": [
    {
     "data": {
      "text/plain": "torch.Size([4, 3, 3, 3])"
     },
     "execution_count": 31,
     "metadata": {},
     "output_type": "execute_result"
    }
   ],
   "source": [
    "blk = Residual(3, 3, True, 2)\n",
    "X = torch.randn(size=(4, 3, 6, 6))\n",
    "blk(X).shape"
   ],
   "metadata": {
    "collapsed": false,
    "ExecuteTime": {
     "end_time": "2024-11-22T02:47:24.886297700Z",
     "start_time": "2024-11-22T02:47:24.860820400Z"
    }
   },
   "id": "710dffb062efda34",
   "execution_count": 31
  },
  {
   "cell_type": "markdown",
   "source": [
    "# ResNet 模型"
   ],
   "metadata": {
    "collapsed": false
   },
   "id": "50d01d2e0ecc6"
  },
  {
   "cell_type": "code",
   "outputs": [],
   "source": [
    "net = nn.Sequential(\n",
    "    nn.Conv2d(1, 64, kernel_size=7, stride=2, padding=3),\n",
    "    nn.BatchNorm2d(64),\n",
    "    nn.ReLU(),\n",
    "    nn.MaxPool2d(kernel_size=3, stride=2, padding=1)\n",
    ")"
   ],
   "metadata": {
    "collapsed": false,
    "ExecuteTime": {
     "end_time": "2024-11-22T02:48:53.862080800Z",
     "start_time": "2024-11-22T02:48:53.844078300Z"
    }
   },
   "id": "bf12bc599ad2ed97",
   "execution_count": 32
  },
  {
   "cell_type": "markdown",
   "source": [
    "# 残差块"
   ],
   "metadata": {
    "collapsed": false
   },
   "id": "465a6ba3f0d368b7"
  },
  {
   "cell_type": "code",
   "outputs": [],
   "source": [
    "def resnet_block(in_channels, out_channels, num_residuals, first_block=False):\n",
    "    if first_block:\n",
    "        assert in_channels == out_channels # 第一个模块的通道数同输入通道数一致\n",
    "    blk = []\n",
    "    for i in range(num_residuals):\n",
    "        if i == 0 and not first_block:\n",
    "            blk.append(Residual(in_channels, out_channels, use_1x1conv=True, stride=2))\n",
    "        else:\n",
    "            blk.append(Residual(out_channels, out_channels))\n",
    "    return nn.Sequential(*blk)"
   ],
   "metadata": {
    "collapsed": false,
    "ExecuteTime": {
     "end_time": "2024-11-22T02:56:06.068587200Z",
     "start_time": "2024-11-22T02:56:06.040824500Z"
    }
   },
   "id": "ffd3c6659c2a9705",
   "execution_count": 33
  },
  {
   "cell_type": "code",
   "outputs": [],
   "source": [
    "net.add_module('resnet_block1', resnet_block(64, 64, 2, first_block=True))\n",
    "net.add_module('resnet_block2', resnet_block(64, 128, 2))\n",
    "net.add_module('resnet_block3', resnet_block(128, 256, 2))\n",
    "net.add_module('resnet_block4', resnet_block(256, 512, 2))\n",
    "net.add_module('global_avg_pool', d2l.GlobalAvgPool2d()) #  GlobalAvgPool2d的输出: (Batch, 512, 1, 1)\n",
    "net.add_module('fc', nn.Sequential(d2l.FlattenLayer(), nn.Linear(512, 10)))"
   ],
   "metadata": {
    "collapsed": false,
    "ExecuteTime": {
     "end_time": "2024-11-22T02:58:22.122632800Z",
     "start_time": "2024-11-22T02:58:22.061388600Z"
    }
   },
   "id": "f79275dcd0772b3d",
   "execution_count": 34
  },
  {
   "cell_type": "code",
   "outputs": [
    {
     "name": "stdout",
     "output_type": "stream",
     "text": [
      "0 output shape:\t torch.Size([1, 64, 112, 112])\n",
      "1 output shape:\t torch.Size([1, 64, 112, 112])\n",
      "2 output shape:\t torch.Size([1, 64, 112, 112])\n",
      "3 output shape:\t torch.Size([1, 64, 56, 56])\n",
      "resnet_block1 output shape:\t torch.Size([1, 64, 56, 56])\n",
      "resnet_block2 output shape:\t torch.Size([1, 128, 28, 28])\n",
      "resnet_block3 output shape:\t torch.Size([1, 256, 14, 14])\n",
      "resnet_block4 output shape:\t torch.Size([1, 512, 7, 7])\n",
      "global_avg_pool output shape:\t torch.Size([1, 512, 1, 1])\n",
      "fc output shape:\t torch.Size([1, 10])\n"
     ]
    }
   ],
   "source": [
    "X = torch.rand((1, 1, 224, 224))  \n",
    "for name, layer in net.named_children():  \n",
    "    X = layer(X)  \n",
    "    print(name, 'output shape:\\t', X.shape)"
   ],
   "metadata": {
    "collapsed": false,
    "ExecuteTime": {
     "end_time": "2024-11-22T02:58:40.130300300Z",
     "start_time": "2024-11-22T02:58:40.074505100Z"
    }
   },
   "id": "484338f1ac9089dd",
   "execution_count": 35
  },
  {
   "cell_type": "code",
   "outputs": [
    {
     "name": "stdout",
     "output_type": "stream",
     "text": [
      "training on  cuda\n",
      "epoch 1, loss 0.4287, train acc 0.842, test acc 0.869,  time 15.1 sec\n",
      "epoch 2, loss 0.1463, train acc 0.889, test acc 0.865,  time 13.4 sec\n",
      "epoch 3, loss 0.0852, train acc 0.904, test acc 0.893,  time 13.5 sec\n",
      "epoch 4, loss 0.0578, train acc 0.915, test acc 0.890,  time 13.3 sec\n",
      "epoch 5, loss 0.0417, train acc 0.922, test acc 0.900,  time 13.3 sec\n"
     ]
    }
   ],
   "source": [
    "batch_size = 256  \n",
    "train_iter, test_iter =  d2l.load_data_fashion_mnist(batch_size=batch_size)  \n",
    "lr, num_epochs = 0.001, 5  \n",
    "\n",
    "optimizer = torch.optim.Adam(net.parameters(), lr=lr)  \n",
    "d2l.train_ch5(net, train_iter, test_iter, batch_size, optimizer, device, num_epochs)"
   ],
   "metadata": {
    "collapsed": false,
    "ExecuteTime": {
     "end_time": "2024-11-22T03:00:22.402342500Z",
     "start_time": "2024-11-22T02:59:13.430899600Z"
    }
   },
   "id": "3cb2232c5bd29703",
   "execution_count": 36
  },
  {
   "cell_type": "code",
   "outputs": [],
   "source": [],
   "metadata": {
    "collapsed": false
   },
   "id": "ac118126d353b8f8"
  }
 ],
 "metadata": {
  "kernelspec": {
   "display_name": "Python 3",
   "language": "python",
   "name": "python3"
  },
  "language_info": {
   "codemirror_mode": {
    "name": "ipython",
    "version": 2
   },
   "file_extension": ".py",
   "mimetype": "text/x-python",
   "name": "python",
   "nbconvert_exporter": "python",
   "pygments_lexer": "ipython2",
   "version": "2.7.6"
  }
 },
 "nbformat": 4,
 "nbformat_minor": 5
}
