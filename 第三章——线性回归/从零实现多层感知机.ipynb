{
 "cells": [
  {
   "cell_type": "markdown",
   "source": [
    "# 从零实现多层感知机"
   ],
   "metadata": {
    "collapsed": false
   },
   "id": "14188b269ad1988f"
  },
  {
   "cell_type": "code",
   "execution_count": 1,
   "id": "initial_id",
   "metadata": {
    "collapsed": true,
    "ExecuteTime": {
     "end_time": "2024-11-10T16:08:36.707503200Z",
     "start_time": "2024-11-10T16:08:33.840114300Z"
    }
   },
   "outputs": [],
   "source": [
    "import torch\n",
    "import numpy as np\n",
    "import matplotlib.pyplot as plt\n",
    "import sys\n",
    "sys.path.append(\"..\")\n",
    "import library.d2lzh_pytorch as d2l"
   ]
  },
  {
   "cell_type": "code",
   "outputs": [],
   "source": [
    "batch_size = 256\n",
    "train_iter, test_iter = d2l.load_data_fashion_mnist(batch_size=batch_size)"
   ],
   "metadata": {
    "collapsed": false,
    "ExecuteTime": {
     "end_time": "2024-11-10T16:09:11.118833900Z",
     "start_time": "2024-11-10T16:09:11.008326600Z"
    }
   },
   "id": "299b1a0cfc566bcc",
   "execution_count": 2
  },
  {
   "cell_type": "markdown",
   "source": [
    "## 我们在3.6节(softmax回归的从零开始实现)里已经介绍了,Fashion-MNIST数据集中图像形状为 28 * 28,类别数为10。本节中我们依然使用长度为28 * 28 = 784的向量表示每一张图像。因此, 输入个数为784,输出个数为10。实验中,我们设超参数隐藏单元个数为256。"
   ],
   "metadata": {
    "collapsed": false
   },
   "id": "3c28cb1b66b5aaae"
  },
  {
   "cell_type": "code",
   "outputs": [],
   "source": [
    "num_inputs, num_outputs, num_hiddens = 28 * 28, 10, 256\n",
    "\n",
    "W1 = torch.tensor(np.random.normal(0, 0.01, (num_inputs, num_hiddens)), dtype=torch.float)\n",
    "b1 = torch.zeros(num_hiddens, dtype=torch.float)\n",
    "\n",
    "W2 = torch.tensor(np.random.normal(0, 0.01, (num_hiddens, num_outputs)), dtype=torch.float)\n",
    "b2 = torch.zeros(num_outputs, dtype=torch.float)\n",
    "\n",
    "params = [W1, b1, W2, b2]\n",
    "for param in params:\n",
    "    param.requires_grad_(requires_grad=True)"
   ],
   "metadata": {
    "collapsed": false,
    "ExecuteTime": {
     "end_time": "2024-11-10T16:28:54.600991800Z",
     "start_time": "2024-11-10T16:28:54.579704500Z"
    }
   },
   "id": "b14cafe4de888fc3",
   "execution_count": 7
  },
  {
   "cell_type": "markdown",
   "source": [
    "# 定义激活函数"
   ],
   "metadata": {
    "collapsed": false
   },
   "id": "d3f319a0f3a683c3"
  },
  {
   "cell_type": "code",
   "outputs": [],
   "source": [
    "def relu(X):\n",
    "    return torch.max(input=X, other=torch.tensor(0.0))"
   ],
   "metadata": {
    "collapsed": false,
    "ExecuteTime": {
     "end_time": "2024-11-10T16:30:18.962752500Z",
     "start_time": "2024-11-10T16:30:18.944729900Z"
    }
   },
   "id": "a6ab688f82ff0d62",
   "execution_count": 8
  },
  {
   "cell_type": "markdown",
   "source": [
    "# 定义模型"
   ],
   "metadata": {
    "collapsed": false
   },
   "id": "dcceeef9ac063ce4"
  },
  {
   "cell_type": "code",
   "outputs": [],
   "source": [
    "def net(X):\n",
    "    X = X.view(-1, num_inputs)\n",
    "    H = relu(torch.matmul(X, W1) + b1) # matmul 是矩阵乘法\n",
    "    return torch.matmul(H, W2) + b2"
   ],
   "metadata": {
    "collapsed": false,
    "ExecuteTime": {
     "end_time": "2024-11-10T16:35:18.022061100Z",
     "start_time": "2024-11-10T16:35:18.012376Z"
    }
   },
   "id": "33a5f765f4df99cc",
   "execution_count": 9
  },
  {
   "cell_type": "markdown",
   "source": [
    "# 定义损失函数"
   ],
   "metadata": {
    "collapsed": false
   },
   "id": "8f217fe30766754a"
  },
  {
   "cell_type": "code",
   "outputs": [],
   "source": [
    "loss = torch.nn.CrossEntropyLoss()"
   ],
   "metadata": {
    "collapsed": false,
    "ExecuteTime": {
     "end_time": "2024-11-10T16:37:04.197353Z",
     "start_time": "2024-11-10T16:37:04.172333600Z"
    }
   },
   "id": "a5c3bb745322c63d",
   "execution_count": 10
  },
  {
   "cell_type": "markdown",
   "source": [
    "# 训练模型"
   ],
   "metadata": {
    "collapsed": false
   },
   "id": "2ad6c2720c59c66a"
  },
  {
   "cell_type": "code",
   "outputs": [
    {
     "name": "stdout",
     "output_type": "stream",
     "text": [
      "epoch 1, loss 0.0030, train acc 0.715, test acc 0.802\n",
      "epoch 2, loss 0.0019, train acc 0.822, test acc 0.787\n",
      "epoch 3, loss 0.0017, train acc 0.843, test acc 0.806\n",
      "epoch 4, loss 0.0015, train acc 0.858, test acc 0.828\n",
      "epoch 5, loss 0.0014, train acc 0.865, test acc 0.828\n"
     ]
    }
   ],
   "source": [
    "num_epochs = 5\n",
    "lr = 100.0\n",
    "\n",
    "d2l.train_ch3(net, train_iter, test_iter, loss, num_epochs, batch_size, params, lr)"
   ],
   "metadata": {
    "collapsed": false,
    "ExecuteTime": {
     "end_time": "2024-11-10T16:40:10.559889300Z",
     "start_time": "2024-11-10T16:39:28.111055300Z"
    }
   },
   "id": "b099cada22475e2d",
   "execution_count": 11
  },
  {
   "cell_type": "markdown",
   "source": [
    "# 快速实现多层感知机"
   ],
   "metadata": {
    "collapsed": false
   },
   "id": "1bd41ad922df60a6"
  },
  {
   "cell_type": "code",
   "outputs": [],
   "source": [
    "from torch.nn import init\n",
    "from torch import nn, optim\n",
    "net_quick = nn.Sequential(\n",
    "    d2l.FlattenLayer(),\n",
    "    nn.Linear(num_inputs, num_hiddens),\n",
    "    nn.ReLU(),\n",
    "    nn.Linear(num_hiddens, num_outputs)\n",
    ")\n",
    "\n",
    "for param in net_quick.parameters():\n",
    "    init.normal_(param, mean=0, std=0.01)"
   ],
   "metadata": {
    "collapsed": false,
    "ExecuteTime": {
     "end_time": "2024-11-10T16:43:05.494435400Z",
     "start_time": "2024-11-10T16:43:05.457166500Z"
    }
   },
   "id": "ee75df27a94e21d6",
   "execution_count": 12
  },
  {
   "cell_type": "code",
   "outputs": [
    {
     "name": "stdout",
     "output_type": "stream",
     "text": [
      "epoch 1, loss 0.0031, train acc 0.703, test acc 0.756\n",
      "epoch 2, loss 0.0019, train acc 0.823, test acc 0.804\n",
      "epoch 3, loss 0.0017, train acc 0.843, test acc 0.835\n",
      "epoch 4, loss 0.0015, train acc 0.855, test acc 0.764\n",
      "epoch 5, loss 0.0015, train acc 0.864, test acc 0.823\n"
     ]
    }
   ],
   "source": [
    "optimizer = optim.SGD(net_quick.parameters(), lr=0.5)\n",
    "\n",
    "d2l.train_ch3(net_quick, train_iter, test_iter, loss, num_epochs, batch_size, None, None, optimizer)"
   ],
   "metadata": {
    "collapsed": false,
    "ExecuteTime": {
     "end_time": "2024-11-10T16:44:07.604234800Z",
     "start_time": "2024-11-10T16:43:48.804277100Z"
    }
   },
   "id": "7329670a8820b43e",
   "execution_count": 13
  },
  {
   "cell_type": "code",
   "outputs": [],
   "source": [],
   "metadata": {
    "collapsed": false
   },
   "id": "2f2cd81191da18d4"
  }
 ],
 "metadata": {
  "kernelspec": {
   "display_name": "Python 3",
   "language": "python",
   "name": "python3"
  },
  "language_info": {
   "codemirror_mode": {
    "name": "ipython",
    "version": 2
   },
   "file_extension": ".py",
   "mimetype": "text/x-python",
   "name": "python",
   "nbconvert_exporter": "python",
   "pygments_lexer": "ipython2",
   "version": "2.7.6"
  }
 },
 "nbformat": 4,
 "nbformat_minor": 5
}
