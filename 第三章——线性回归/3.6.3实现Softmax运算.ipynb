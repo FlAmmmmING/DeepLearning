{
 "cells": [
  {
   "cell_type": "code",
   "execution_count": 1,
   "id": "initial_id",
   "metadata": {
    "collapsed": true,
    "ExecuteTime": {
     "end_time": "2024-11-09T05:51:34.177346400Z",
     "start_time": "2024-11-09T05:51:31.612345200Z"
    }
   },
   "outputs": [],
   "source": [
    "import torch\n",
    "import torchvision\n",
    "import torchvision.transforms as transforms\n",
    "import matplotlib.pyplot as plt\n",
    "import time\n",
    "import sys\n",
    "import numpy as np\n",
    "sys.path.append('../') # 为了导入library里面的函数包\n",
    "import library.d2lzh_pytorch as d2l"
   ]
  },
  {
   "cell_type": "markdown",
   "source": [
    "#### 代码解释在P67"
   ],
   "metadata": {
    "collapsed": false
   },
   "id": "91ea67d913336e6c"
  },
  {
   "cell_type": "code",
   "outputs": [
    {
     "name": "stdout",
     "output_type": "stream",
     "text": [
      "tensor([[5, 7, 9]])\n",
      "tensor([[ 6],\n",
      "        [15]])\n"
     ]
    }
   ],
   "source": [
    "X = torch.tensor([[1, 2, 3], [4, 5, 6]])\n",
    "print(X.sum(dim=0, keepdim=True))\n",
    "print(X.sum(dim=1, keepdim=True))"
   ],
   "metadata": {
    "collapsed": false,
    "ExecuteTime": {
     "end_time": "2024-11-09T05:52:46.309290700Z",
     "start_time": "2024-11-09T05:52:46.290123100Z"
    }
   },
   "id": "95905dfa4db02e70",
   "execution_count": 5
  },
  {
   "cell_type": "markdown",
   "source": [
    "#### 代码解释在P67"
   ],
   "metadata": {
    "collapsed": false
   },
   "id": "1423d3cd1f3baa05"
  },
  {
   "cell_type": "code",
   "outputs": [],
   "source": [
    "def softmax(X):\n",
    "    X_exp = X.exp()\n",
    "    partition = X_exp.sum(dim=1, keepdim=True)\n",
    "    return X_exp / partition # 这里使用到了广播机制"
   ],
   "metadata": {
    "collapsed": false,
    "ExecuteTime": {
     "end_time": "2024-11-09T06:05:36.832429200Z",
     "start_time": "2024-11-09T06:05:36.809433300Z"
    }
   },
   "id": "7e986b3bd86c55c1",
   "execution_count": 15
  },
  {
   "cell_type": "code",
   "outputs": [
    {
     "name": "stdout",
     "output_type": "stream",
     "text": [
      "tensor([[0.2753, 0.7576, 0.9176, 0.1257, 0.7265],\n",
      "        [0.5244, 0.7635, 0.4377, 0.7681, 0.1285]])\n",
      "tensor([[0.1438, 0.2330, 0.2734, 0.1239, 0.2259],\n",
      "        [0.1947, 0.2473, 0.1785, 0.2484, 0.1311]]) \n",
      " tensor([[1.],\n",
      "        [1.]])\n"
     ]
    }
   ],
   "source": [
    "X = torch.rand(2, 5)\n",
    "X_prob = softmax(X)\n",
    "print(X)\n",
    "print(X_prob, '\\n', X_prob.sum(dim=1, keepdim=True))"
   ],
   "metadata": {
    "collapsed": false,
    "ExecuteTime": {
     "end_time": "2024-11-09T06:05:58.737284600Z",
     "start_time": "2024-11-09T06:05:58.724285100Z"
    }
   },
   "id": "11843361bb4e9fa9",
   "execution_count": 17
  },
  {
   "cell_type": "code",
   "outputs": [],
   "source": [],
   "metadata": {
    "collapsed": false
   },
   "id": "6c55ca28d0ffdae0"
  }
 ],
 "metadata": {
  "kernelspec": {
   "display_name": "Python 3",
   "language": "python",
   "name": "python3"
  },
  "language_info": {
   "codemirror_mode": {
    "name": "ipython",
    "version": 2
   },
   "file_extension": ".py",
   "mimetype": "text/x-python",
   "name": "python",
   "nbconvert_exporter": "python",
   "pygments_lexer": "ipython2",
   "version": "2.7.6"
  }
 },
 "nbformat": 4,
 "nbformat_minor": 5
}
