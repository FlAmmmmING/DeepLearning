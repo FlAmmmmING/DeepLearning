{
 "cells": [
  {
   "cell_type": "markdown",
   "source": [
    "# 丢弃法也是常用的对抗过拟合的手段"
   ],
   "metadata": {
    "collapsed": false
   },
   "id": "950c543672635bab"
  },
  {
   "cell_type": "code",
   "execution_count": 1,
   "id": "initial_id",
   "metadata": {
    "collapsed": true,
    "ExecuteTime": {
     "end_time": "2024-11-12T02:33:42.732522Z",
     "start_time": "2024-11-12T02:33:40.033743200Z"
    }
   },
   "outputs": [],
   "source": [
    "%matplotlib inline\n",
    "import torch  \n",
    "import torch.nn as nn  \n",
    "import numpy as np  \n",
    "import sys\n",
    "sys.path.append(\"..\")  \n",
    "import library.d2lzh_pytorch as d2l"
   ]
  },
  {
   "cell_type": "code",
   "outputs": [],
   "source": [
    "drop_prob1, drop_prob2 = 0.2, 0.5\n",
    "num_inputs, num_outputs, num_hiddens1, num_hiddens2 = 784, 10, 256,  256"
   ],
   "metadata": {
    "collapsed": false,
    "ExecuteTime": {
     "end_time": "2024-11-12T02:39:05.899908600Z",
     "start_time": "2024-11-12T02:39:05.892908800Z"
    }
   },
   "id": "388f97aa01b400e5",
   "execution_count": 3
  },
  {
   "cell_type": "code",
   "outputs": [],
   "source": [
    "net = nn.Sequential(\n",
    "    d2l.FlattenLayer(),\n",
    "    nn.Linear(num_inputs, num_hiddens1),\n",
    "    nn.ReLU(),\n",
    "    nn.Dropout(drop_prob1), # 丢弃法\n",
    "    nn.Linear(num_hiddens1, num_hiddens2),\n",
    "    nn.ReLU(),\n",
    "    nn.Dropout(drop_prob2),\n",
    "    nn.Linear(num_hiddens2, 10)\n",
    ")"
   ],
   "metadata": {
    "collapsed": false,
    "ExecuteTime": {
     "end_time": "2024-11-12T02:40:18.885493900Z",
     "start_time": "2024-11-12T02:40:18.875494100Z"
    }
   },
   "id": "bbe9c39941855d9c",
   "execution_count": 4
  },
  {
   "cell_type": "code",
   "outputs": [],
   "source": [
    "W1 = torch.tensor(np.random.normal(0, 0.01, size=(num_inputs,  num_hiddens1)), dtype=torch.float, requires_grad=True)  \n",
    "b1 = torch.zeros(num_hiddens1, requires_grad=True)  \n",
    "W2 = torch.tensor(np.random.normal(0, 0.01, size=(num_hiddens1,  num_hiddens2)), dtype=torch.float, requires_grad=True)  \n",
    "b2 = torch.zeros(num_hiddens2, requires_grad=True)  \n",
    "W3 = torch.tensor(np.random.normal(0, 0.01, size=(num_hiddens2,  num_outputs)), dtype=torch.float, requires_grad=True)  \n",
    "b3 = torch.zeros(num_outputs, requires_grad=True)  \n",
    "\n",
    "params = [W1, b1, W2, b2, W3, b3]"
   ],
   "metadata": {
    "collapsed": false,
    "ExecuteTime": {
     "end_time": "2024-11-12T02:40:44.883736800Z",
     "start_time": "2024-11-12T02:40:44.845238700Z"
    }
   },
   "id": "a5ec4f54f844a82c",
   "execution_count": 5
  },
  {
   "cell_type": "code",
   "outputs": [],
   "source": [
    "for param in params:\n",
    "    nn.init.normal_(param, std=0.01, mean=0)"
   ],
   "metadata": {
    "collapsed": false,
    "ExecuteTime": {
     "end_time": "2024-11-12T02:41:25.713034900Z",
     "start_time": "2024-11-12T02:41:25.707149300Z"
    }
   },
   "id": "942e24711dd4477e",
   "execution_count": 6
  },
  {
   "cell_type": "code",
   "outputs": [
    {
     "name": "stdout",
     "output_type": "stream",
     "text": [
      "epoch 1, loss 0.0034, train acc 0.670, test acc 0.731\n",
      "epoch 2, loss 0.0021, train acc 0.806, test acc 0.797\n",
      "epoch 3, loss 0.0018, train acc 0.831, test acc 0.767\n",
      "epoch 4, loss 0.0017, train acc 0.844, test acc 0.838\n",
      "epoch 5, loss 0.0016, train acc 0.854, test acc 0.823\n"
     ]
    }
   ],
   "source": [
    "optimizer = torch.optim.SGD(net.parameters(), lr=0.5)\n",
    "batch_size = 256\n",
    "train_iter, test_iter = d2l.load_data_fashion_mnist(batch_size=batch_size)\n",
    "d2l.train_ch3(net, train_iter, test_iter, nn.CrossEntropyLoss(), 5, batch_size=batch_size, optimizer=optimizer)"
   ],
   "metadata": {
    "collapsed": false,
    "ExecuteTime": {
     "end_time": "2024-11-12T02:48:07.343708400Z",
     "start_time": "2024-11-12T02:47:47.512162100Z"
    }
   },
   "id": "c9900027cab096c3",
   "execution_count": 8
  },
  {
   "cell_type": "code",
   "outputs": [],
   "source": [],
   "metadata": {
    "collapsed": false
   },
   "id": "9c63898ff977c811"
  }
 ],
 "metadata": {
  "kernelspec": {
   "display_name": "Python 3",
   "language": "python",
   "name": "python3"
  },
  "language_info": {
   "codemirror_mode": {
    "name": "ipython",
    "version": 2
   },
   "file_extension": ".py",
   "mimetype": "text/x-python",
   "name": "python",
   "nbconvert_exporter": "python",
   "pygments_lexer": "ipython2",
   "version": "2.7.6"
  }
 },
 "nbformat": 4,
 "nbformat_minor": 5
}
