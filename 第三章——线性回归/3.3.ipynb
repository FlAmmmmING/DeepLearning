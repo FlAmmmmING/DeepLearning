{
 "cells": [
  {
   "cell_type": "markdown",
   "source": [
    "# 线性回归的简洁实现"
   ],
   "metadata": {
    "collapsed": false
   },
   "id": "ac859263df6cc511"
  },
  {
   "cell_type": "code",
   "execution_count": 1,
   "id": "initial_id",
   "metadata": {
    "collapsed": true,
    "ExecuteTime": {
     "end_time": "2024-11-08T06:27:03.971130900Z",
     "start_time": "2024-11-08T06:27:01.913045800Z"
    }
   },
   "outputs": [],
   "source": [
    "%matplotlib inline\n",
    "import matplotlib.pyplot as plt\n",
    "from matplotlib_inline.backend_inline import set_matplotlib_formats\n",
    "import numpy as np\n",
    "import torch\n",
    "from IPython import display\n",
    "import random\n",
    "\n",
    "\n",
    "num_input = 2\n",
    "num_example = 1000\n",
    "true_w = [2, -3.4]\n",
    "true_b = 4.2\n",
    "# torch.from_numpy(np.random.normal(0, 1, (num_example, num_input))) 意思是生成一个  (num_example, num_input) 指定生成数组的形状，即生成一个大小为 (num_example, num_input) 的矩阵，矩阵中的每个元素都是独立抽样得到的符合 N (0, 1) 分布的值\n",
    "features = torch.from_numpy(np.random.normal(0, 1, (num_example, num_input)))\n",
    "labels = true_w[0] * features[:, 0] + true_w[1] * features[:, 1] + true_b\n",
    "# 添加噪声\n",
    "labels += torch.from_numpy(np.random.normal(0, 0.01, size=labels.size()))\n",
    "# features"
   ]
  },
  {
   "cell_type": "markdown",
   "source": [
    "# 读取数据"
   ],
   "metadata": {
    "collapsed": false
   },
   "id": "dffc58b83bb0fd4d"
  },
  {
   "cell_type": "code",
   "outputs": [],
   "source": [
    "import torch.utils.data as Data\n",
    "from torch import nn\n",
    "\n",
    "batch_size = 10\n",
    "# 将训练数据的特征和标签组合\n",
    "dataset = Data.TensorDataset(features, labels)\n",
    "# 随机读取小样本\n",
    "data_iter = Data.DataLoader(dataset, batch_size=batch_size, shuffle=True)"
   ],
   "metadata": {
    "collapsed": false,
    "ExecuteTime": {
     "end_time": "2024-11-08T06:31:16.814897200Z",
     "start_time": "2024-11-08T06:31:16.800899200Z"
    }
   },
   "id": "d9791d840fec00b0",
   "execution_count": 5
  },
  {
   "cell_type": "code",
   "outputs": [
    {
     "name": "stdout",
     "output_type": "stream",
     "text": [
      "tensor([[-0.9471,  1.0378],\n",
      "        [-1.1339,  0.1654],\n",
      "        [ 0.4611,  1.1529],\n",
      "        [-1.4478, -0.6733],\n",
      "        [-0.3608, -0.0716],\n",
      "        [-0.0559,  2.2544],\n",
      "        [-0.3233, -0.6429],\n",
      "        [-1.3127, -0.3244],\n",
      "        [ 0.1497,  1.4442],\n",
      "        [-0.2571, -0.3098]], dtype=torch.float64) \n",
      " tensor([-1.2340,  1.3799,  1.2081,  3.5815,  3.7195, -3.5926,  5.7389,  2.6871,\n",
      "        -0.3928,  4.7445], dtype=torch.float64)\n"
     ]
    }
   ],
   "source": [
    "for X, y in data_iter:\n",
    "    print(X,'\\n', y)\n",
    "    break"
   ],
   "metadata": {
    "collapsed": false,
    "ExecuteTime": {
     "end_time": "2024-11-08T06:55:44.878511700Z",
     "start_time": "2024-11-08T06:55:44.868Z"
    }
   },
   "id": "da63bb7ec3723eb0",
   "execution_count": 31
  },
  {
   "cell_type": "markdown",
   "source": [
    "# 定义模型"
   ],
   "metadata": {
    "collapsed": false
   },
   "id": "7fda2a3f8f0aa131"
  },
  {
   "cell_type": "code",
   "outputs": [],
   "source": [
    "class LinearNet(nn.Module):\n",
    "    def __init__(self, n_features):\n",
    "        super(LinearNet, self).__init__()\n",
    "        self.linear = nn.Linear(in_features=n_features, out_features=1)\n",
    "    # forward 向前传播\n",
    "    def forward(self, x):\n",
    "        y = self.linear(x)\n",
    "        return y\n",
    "\n",
    "# net = LinearNet(num_input)\n",
    "# print(net)"
   ],
   "metadata": {
    "collapsed": false,
    "ExecuteTime": {
     "end_time": "2024-11-08T07:03:32.711974600Z",
     "start_time": "2024-11-08T07:03:32.696977300Z"
    }
   },
   "id": "83582ccca83df9ae",
   "execution_count": 42
  },
  {
   "cell_type": "code",
   "outputs": [
    {
     "name": "stdout",
     "output_type": "stream",
     "text": [
      "Sequential(\n",
      "  (0): Linear(in_features=2, out_features=1, bias=True)\n",
      ")\n",
      "Parameter containing:\n",
      "tensor([[-0.1750,  0.4688]], dtype=torch.float64, requires_grad=True)\n"
     ]
    }
   ],
   "source": [
    "net = nn.Sequential(\n",
    "    nn.Linear(num_input, 1, dtype=torch.double)\n",
    ")\n",
    "print(net)\n",
    "print(net[0].weight)"
   ],
   "metadata": {
    "collapsed": false,
    "ExecuteTime": {
     "end_time": "2024-11-08T07:26:53.158342100Z",
     "start_time": "2024-11-08T07:26:53.146685900Z"
    }
   },
   "id": "6b64a57c8e53c28e",
   "execution_count": 66
  },
  {
   "cell_type": "code",
   "outputs": [
    {
     "name": "stdout",
     "output_type": "stream",
     "text": [
      "Parameter containing:\n",
      "tensor([[ 0.6731, -0.6546]], dtype=torch.float64, requires_grad=True)\n",
      "Parameter containing:\n",
      "tensor([-0.7008], dtype=torch.float64, requires_grad=True)\n"
     ]
    }
   ],
   "source": [
    "# 可以通过 net.parameters() 来查看模型所有的可学习参数, 此函数将返回一个生成器\n",
    "for param in net.parameters():\n",
    "    print(param)"
   ],
   "metadata": {
    "collapsed": false,
    "ExecuteTime": {
     "end_time": "2024-11-08T07:07:55.898623200Z",
     "start_time": "2024-11-08T07:07:55.876623800Z"
    }
   },
   "id": "710b36774d8f46b5",
   "execution_count": 57
  },
  {
   "cell_type": "markdown",
   "source": [
    "# 初始化模型参数\n",
    "## 我们通过 init.normal_ 将权重参数每个元素初始化为随机采样于均值为0、标准差为0.01的正态分布。偏差会初始化为零。"
   ],
   "metadata": {
    "collapsed": false
   },
   "id": "5fc1ce89748b8479"
  },
  {
   "cell_type": "code",
   "outputs": [
    {
     "data": {
      "text/plain": "Parameter containing:\ntensor([0.], dtype=torch.float64, requires_grad=True)"
     },
     "execution_count": 58,
     "metadata": {},
     "output_type": "execute_result"
    }
   ],
   "source": [
    "from torch.nn import init\n",
    "init.normal_(net[0].weight, mean=0, std=0.01)\n",
    "init.constant_(net[0].bias, val=0)"
   ],
   "metadata": {
    "collapsed": false,
    "ExecuteTime": {
     "end_time": "2024-11-08T07:07:57.872088400Z",
     "start_time": "2024-11-08T07:07:57.838542800Z"
    }
   },
   "id": "1b9f1b3334834c12",
   "execution_count": 58
  },
  {
   "cell_type": "code",
   "outputs": [],
   "source": [
    "# 定义损失函数\n",
    "loss = nn.MSELoss() # 均方误差损失 0.5 * (y_hat - y) ** 2"
   ],
   "metadata": {
    "collapsed": false,
    "ExecuteTime": {
     "end_time": "2024-11-08T07:07:58.296420300Z",
     "start_time": "2024-11-08T07:07:58.289384400Z"
    }
   },
   "id": "33c3e09d3b72f6eb",
   "execution_count": 59
  },
  {
   "cell_type": "code",
   "outputs": [
    {
     "name": "stdout",
     "output_type": "stream",
     "text": [
      "SGD (\n",
      "Parameter Group 0\n",
      "    dampening: 0\n",
      "    differentiable: False\n",
      "    foreach: None\n",
      "    lr: 0.03\n",
      "    maximize: False\n",
      "    momentum: 0\n",
      "    nesterov: False\n",
      "    weight_decay: 0\n",
      ")\n"
     ]
    }
   ],
   "source": [
    "# 定义优化算法\n",
    "optimizer = torch.optim.SGD(net.parameters(), lr=0.03)\n",
    "print(optimizer)"
   ],
   "metadata": {
    "collapsed": false,
    "ExecuteTime": {
     "end_time": "2024-11-08T07:07:58.704388900Z",
     "start_time": "2024-11-08T07:07:58.683377300Z"
    }
   },
   "id": "f1eca4e9339ff919",
   "execution_count": 60
  },
  {
   "cell_type": "markdown",
   "source": [
    "# 训练模型"
   ],
   "metadata": {
    "collapsed": false
   },
   "id": "2c29b3a3b6631066"
  },
  {
   "cell_type": "code",
   "outputs": [
    {
     "name": "stdout",
     "output_type": "stream",
     "text": [
      "epoch: 1, loss: 0.000088\n",
      "epoch: 2, loss: 0.000159\n",
      "epoch: 3, loss: 0.000157\n",
      "epoch: 4, loss: 0.000060\n",
      "epoch: 5, loss: 0.000077\n",
      "epoch: 6, loss: 0.000057\n",
      "epoch: 7, loss: 0.000085\n",
      "epoch: 8, loss: 0.000134\n",
      "epoch: 9, loss: 0.000052\n",
      "epoch: 10, loss: 0.000089\n"
     ]
    }
   ],
   "source": [
    "num_epochs = 10\n",
    "for epoch in range(1, num_epochs + 1):\n",
    "    for X, y in data_iter:\n",
    "        output = net(X)\n",
    "        l = loss(output, y.view(-1, 1)) # 计算损失\n",
    "        optimizer.zero_grad() # 梯度清零\n",
    "        l.backward() # 反向传播\n",
    "        optimizer.step()\n",
    "    print('epoch: %d, loss: %f' % (epoch, l.item()))"
   ],
   "metadata": {
    "collapsed": false,
    "ExecuteTime": {
     "end_time": "2024-11-08T07:08:33.927397600Z",
     "start_time": "2024-11-08T07:08:33.719193Z"
    }
   },
   "id": "356931f1dddda0f7",
   "execution_count": 62
  },
  {
   "cell_type": "code",
   "outputs": [],
   "source": [
    "dense = net[0]"
   ],
   "metadata": {
    "collapsed": false,
    "ExecuteTime": {
     "end_time": "2024-11-08T07:08:53.385431600Z",
     "start_time": "2024-11-08T07:08:53.373430300Z"
    }
   },
   "id": "657dbd1f00ead2a4",
   "execution_count": 63
  },
  {
   "cell_type": "code",
   "outputs": [
    {
     "name": "stdout",
     "output_type": "stream",
     "text": [
      "[2, -3.4] Parameter containing:\n",
      "tensor([[ 1.9996, -3.4004]], dtype=torch.float64, requires_grad=True)\n",
      "4.2 Parameter containing:\n",
      "tensor([4.2003], dtype=torch.float64, requires_grad=True)\n"
     ]
    }
   ],
   "source": [
    "print(true_w, dense.weight)\n",
    "print(true_b, dense.bias)"
   ],
   "metadata": {
    "collapsed": false,
    "ExecuteTime": {
     "end_time": "2024-11-08T07:09:20.593308500Z",
     "start_time": "2024-11-08T07:09:20.582307200Z"
    }
   },
   "id": "fa0514f88beb0f86",
   "execution_count": 64
  },
  {
   "cell_type": "code",
   "outputs": [],
   "source": [],
   "metadata": {
    "collapsed": false
   },
   "id": "623c29034b28c60f"
  }
 ],
 "metadata": {
  "kernelspec": {
   "display_name": "Python 3",
   "language": "python",
   "name": "python3"
  },
  "language_info": {
   "codemirror_mode": {
    "name": "ipython",
    "version": 2
   },
   "file_extension": ".py",
   "mimetype": "text/x-python",
   "name": "python",
   "nbconvert_exporter": "python",
   "pygments_lexer": "ipython2",
   "version": "2.7.6"
  }
 },
 "nbformat": 4,
 "nbformat_minor": 5
}
