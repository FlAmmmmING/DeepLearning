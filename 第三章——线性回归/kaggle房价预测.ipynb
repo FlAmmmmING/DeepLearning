{
 "cells": [
  {
   "cell_type": "markdown",
   "source": [
    "# 网址 https://www.kaggle.com/c/house-prices-advanced-regression-techniques"
   ],
   "metadata": {
    "collapsed": false
   },
   "id": "18c0a5acfe130ac5"
  },
  {
   "cell_type": "code",
   "execution_count": 12,
   "id": "initial_id",
   "metadata": {
    "collapsed": true,
    "ExecuteTime": {
     "end_time": "2024-11-12T06:36:42.142824Z",
     "start_time": "2024-11-12T06:36:42.131820100Z"
    }
   },
   "outputs": [
    {
     "name": "stdout",
     "output_type": "stream",
     "text": [
      "2.0.1\n"
     ]
    }
   ],
   "source": [
    "from torch.utils.data import TensorDataset, DataLoader\n",
    "%matplotlib inline\n",
    "import torch\n",
    "import torch.nn as nn\n",
    "import pandas as pd\n",
    "import sys\n",
    "sys.path.append('..')\n",
    "import library.d2lzh_pytorch as d2l\n",
    "\n",
    "print(torch.__version__)\n",
    "torch.set_default_tensor_type('torch.FloatTensor')"
   ]
  },
  {
   "cell_type": "code",
   "outputs": [],
   "source": [
    "train_data = pd.read_csv('../Datasets/Kaggle_house/train.csv')\n",
    "test_data = pd.read_csv('../Datasets/Kaggle_house/test.csv')"
   ],
   "metadata": {
    "collapsed": false,
    "ExecuteTime": {
     "end_time": "2024-11-12T06:36:42.792935900Z",
     "start_time": "2024-11-12T06:36:42.735416400Z"
    }
   },
   "id": "896dea3e33d7306",
   "execution_count": 13
  },
  {
   "cell_type": "code",
   "outputs": [
    {
     "data": {
      "text/plain": "(1460, 81)"
     },
     "execution_count": 14,
     "metadata": {},
     "output_type": "execute_result"
    }
   ],
   "source": [
    "train_data.shape"
   ],
   "metadata": {
    "collapsed": false,
    "ExecuteTime": {
     "end_time": "2024-11-12T06:36:43.181642500Z",
     "start_time": "2024-11-12T06:36:43.170644Z"
    }
   },
   "id": "4e16291d6895a32e",
   "execution_count": 14
  },
  {
   "cell_type": "code",
   "outputs": [
    {
     "data": {
      "text/plain": "(1459, 80)"
     },
     "execution_count": 15,
     "metadata": {},
     "output_type": "execute_result"
    }
   ],
   "source": [
    "test_data.shape"
   ],
   "metadata": {
    "collapsed": false,
    "ExecuteTime": {
     "end_time": "2024-11-12T06:36:43.669865600Z",
     "start_time": "2024-11-12T06:36:43.647341700Z"
    }
   },
   "id": "7b939d4fc6860738",
   "execution_count": 15
  },
  {
   "cell_type": "code",
   "outputs": [
    {
     "data": {
      "text/plain": "   Id  MSSubClass MSZoning  LotFrontage  LotArea Street Alley LotShape  \\\n0   1          60       RL         65.0     8450   Pave   NaN      Reg   \n1   2          20       RL         80.0     9600   Pave   NaN      Reg   \n2   3          60       RL         68.0    11250   Pave   NaN      IR1   \n3   4          70       RL         60.0     9550   Pave   NaN      IR1   \n4   5          60       RL         84.0    14260   Pave   NaN      IR1   \n\n  LandContour Utilities  ... PoolArea PoolQC Fence MiscFeature MiscVal MoSold  \\\n0         Lvl    AllPub  ...        0    NaN   NaN         NaN       0      2   \n1         Lvl    AllPub  ...        0    NaN   NaN         NaN       0      5   \n2         Lvl    AllPub  ...        0    NaN   NaN         NaN       0      9   \n3         Lvl    AllPub  ...        0    NaN   NaN         NaN       0      2   \n4         Lvl    AllPub  ...        0    NaN   NaN         NaN       0     12   \n\n  YrSold  SaleType  SaleCondition  SalePrice  \n0   2008        WD         Normal     208500  \n1   2007        WD         Normal     181500  \n2   2008        WD         Normal     223500  \n3   2006        WD        Abnorml     140000  \n4   2008        WD         Normal     250000  \n\n[5 rows x 81 columns]",
      "text/html": "<div>\n<style scoped>\n    .dataframe tbody tr th:only-of-type {\n        vertical-align: middle;\n    }\n\n    .dataframe tbody tr th {\n        vertical-align: top;\n    }\n\n    .dataframe thead th {\n        text-align: right;\n    }\n</style>\n<table border=\"1\" class=\"dataframe\">\n  <thead>\n    <tr style=\"text-align: right;\">\n      <th></th>\n      <th>Id</th>\n      <th>MSSubClass</th>\n      <th>MSZoning</th>\n      <th>LotFrontage</th>\n      <th>LotArea</th>\n      <th>Street</th>\n      <th>Alley</th>\n      <th>LotShape</th>\n      <th>LandContour</th>\n      <th>Utilities</th>\n      <th>...</th>\n      <th>PoolArea</th>\n      <th>PoolQC</th>\n      <th>Fence</th>\n      <th>MiscFeature</th>\n      <th>MiscVal</th>\n      <th>MoSold</th>\n      <th>YrSold</th>\n      <th>SaleType</th>\n      <th>SaleCondition</th>\n      <th>SalePrice</th>\n    </tr>\n  </thead>\n  <tbody>\n    <tr>\n      <th>0</th>\n      <td>1</td>\n      <td>60</td>\n      <td>RL</td>\n      <td>65.0</td>\n      <td>8450</td>\n      <td>Pave</td>\n      <td>NaN</td>\n      <td>Reg</td>\n      <td>Lvl</td>\n      <td>AllPub</td>\n      <td>...</td>\n      <td>0</td>\n      <td>NaN</td>\n      <td>NaN</td>\n      <td>NaN</td>\n      <td>0</td>\n      <td>2</td>\n      <td>2008</td>\n      <td>WD</td>\n      <td>Normal</td>\n      <td>208500</td>\n    </tr>\n    <tr>\n      <th>1</th>\n      <td>2</td>\n      <td>20</td>\n      <td>RL</td>\n      <td>80.0</td>\n      <td>9600</td>\n      <td>Pave</td>\n      <td>NaN</td>\n      <td>Reg</td>\n      <td>Lvl</td>\n      <td>AllPub</td>\n      <td>...</td>\n      <td>0</td>\n      <td>NaN</td>\n      <td>NaN</td>\n      <td>NaN</td>\n      <td>0</td>\n      <td>5</td>\n      <td>2007</td>\n      <td>WD</td>\n      <td>Normal</td>\n      <td>181500</td>\n    </tr>\n    <tr>\n      <th>2</th>\n      <td>3</td>\n      <td>60</td>\n      <td>RL</td>\n      <td>68.0</td>\n      <td>11250</td>\n      <td>Pave</td>\n      <td>NaN</td>\n      <td>IR1</td>\n      <td>Lvl</td>\n      <td>AllPub</td>\n      <td>...</td>\n      <td>0</td>\n      <td>NaN</td>\n      <td>NaN</td>\n      <td>NaN</td>\n      <td>0</td>\n      <td>9</td>\n      <td>2008</td>\n      <td>WD</td>\n      <td>Normal</td>\n      <td>223500</td>\n    </tr>\n    <tr>\n      <th>3</th>\n      <td>4</td>\n      <td>70</td>\n      <td>RL</td>\n      <td>60.0</td>\n      <td>9550</td>\n      <td>Pave</td>\n      <td>NaN</td>\n      <td>IR1</td>\n      <td>Lvl</td>\n      <td>AllPub</td>\n      <td>...</td>\n      <td>0</td>\n      <td>NaN</td>\n      <td>NaN</td>\n      <td>NaN</td>\n      <td>0</td>\n      <td>2</td>\n      <td>2006</td>\n      <td>WD</td>\n      <td>Abnorml</td>\n      <td>140000</td>\n    </tr>\n    <tr>\n      <th>4</th>\n      <td>5</td>\n      <td>60</td>\n      <td>RL</td>\n      <td>84.0</td>\n      <td>14260</td>\n      <td>Pave</td>\n      <td>NaN</td>\n      <td>IR1</td>\n      <td>Lvl</td>\n      <td>AllPub</td>\n      <td>...</td>\n      <td>0</td>\n      <td>NaN</td>\n      <td>NaN</td>\n      <td>NaN</td>\n      <td>0</td>\n      <td>12</td>\n      <td>2008</td>\n      <td>WD</td>\n      <td>Normal</td>\n      <td>250000</td>\n    </tr>\n  </tbody>\n</table>\n<p>5 rows × 81 columns</p>\n</div>"
     },
     "execution_count": 16,
     "metadata": {},
     "output_type": "execute_result"
    }
   ],
   "source": [
    "train_data.head()"
   ],
   "metadata": {
    "collapsed": false,
    "ExecuteTime": {
     "end_time": "2024-11-12T06:36:44.050111800Z",
     "start_time": "2024-11-12T06:36:44.002704Z"
    }
   },
   "id": "58ac403e9d967819",
   "execution_count": 16
  },
  {
   "cell_type": "code",
   "outputs": [
    {
     "data": {
      "text/plain": "     Id  MSSubClass MSZoning  LotFrontage  LotArea Street Alley LotShape  \\\n0  1461          20       RH         80.0    11622   Pave   NaN      Reg   \n1  1462          20       RL         81.0    14267   Pave   NaN      IR1   \n2  1463          60       RL         74.0    13830   Pave   NaN      IR1   \n3  1464          60       RL         78.0     9978   Pave   NaN      IR1   \n4  1465         120       RL         43.0     5005   Pave   NaN      IR1   \n\n  LandContour Utilities  ... ScreenPorch PoolArea PoolQC  Fence MiscFeature  \\\n0         Lvl    AllPub  ...         120        0    NaN  MnPrv         NaN   \n1         Lvl    AllPub  ...           0        0    NaN    NaN        Gar2   \n2         Lvl    AllPub  ...           0        0    NaN  MnPrv         NaN   \n3         Lvl    AllPub  ...           0        0    NaN    NaN         NaN   \n4         HLS    AllPub  ...         144        0    NaN    NaN         NaN   \n\n  MiscVal MoSold  YrSold  SaleType  SaleCondition  \n0       0      6    2010        WD         Normal  \n1   12500      6    2010        WD         Normal  \n2       0      3    2010        WD         Normal  \n3       0      6    2010        WD         Normal  \n4       0      1    2010        WD         Normal  \n\n[5 rows x 80 columns]",
      "text/html": "<div>\n<style scoped>\n    .dataframe tbody tr th:only-of-type {\n        vertical-align: middle;\n    }\n\n    .dataframe tbody tr th {\n        vertical-align: top;\n    }\n\n    .dataframe thead th {\n        text-align: right;\n    }\n</style>\n<table border=\"1\" class=\"dataframe\">\n  <thead>\n    <tr style=\"text-align: right;\">\n      <th></th>\n      <th>Id</th>\n      <th>MSSubClass</th>\n      <th>MSZoning</th>\n      <th>LotFrontage</th>\n      <th>LotArea</th>\n      <th>Street</th>\n      <th>Alley</th>\n      <th>LotShape</th>\n      <th>LandContour</th>\n      <th>Utilities</th>\n      <th>...</th>\n      <th>ScreenPorch</th>\n      <th>PoolArea</th>\n      <th>PoolQC</th>\n      <th>Fence</th>\n      <th>MiscFeature</th>\n      <th>MiscVal</th>\n      <th>MoSold</th>\n      <th>YrSold</th>\n      <th>SaleType</th>\n      <th>SaleCondition</th>\n    </tr>\n  </thead>\n  <tbody>\n    <tr>\n      <th>0</th>\n      <td>1461</td>\n      <td>20</td>\n      <td>RH</td>\n      <td>80.0</td>\n      <td>11622</td>\n      <td>Pave</td>\n      <td>NaN</td>\n      <td>Reg</td>\n      <td>Lvl</td>\n      <td>AllPub</td>\n      <td>...</td>\n      <td>120</td>\n      <td>0</td>\n      <td>NaN</td>\n      <td>MnPrv</td>\n      <td>NaN</td>\n      <td>0</td>\n      <td>6</td>\n      <td>2010</td>\n      <td>WD</td>\n      <td>Normal</td>\n    </tr>\n    <tr>\n      <th>1</th>\n      <td>1462</td>\n      <td>20</td>\n      <td>RL</td>\n      <td>81.0</td>\n      <td>14267</td>\n      <td>Pave</td>\n      <td>NaN</td>\n      <td>IR1</td>\n      <td>Lvl</td>\n      <td>AllPub</td>\n      <td>...</td>\n      <td>0</td>\n      <td>0</td>\n      <td>NaN</td>\n      <td>NaN</td>\n      <td>Gar2</td>\n      <td>12500</td>\n      <td>6</td>\n      <td>2010</td>\n      <td>WD</td>\n      <td>Normal</td>\n    </tr>\n    <tr>\n      <th>2</th>\n      <td>1463</td>\n      <td>60</td>\n      <td>RL</td>\n      <td>74.0</td>\n      <td>13830</td>\n      <td>Pave</td>\n      <td>NaN</td>\n      <td>IR1</td>\n      <td>Lvl</td>\n      <td>AllPub</td>\n      <td>...</td>\n      <td>0</td>\n      <td>0</td>\n      <td>NaN</td>\n      <td>MnPrv</td>\n      <td>NaN</td>\n      <td>0</td>\n      <td>3</td>\n      <td>2010</td>\n      <td>WD</td>\n      <td>Normal</td>\n    </tr>\n    <tr>\n      <th>3</th>\n      <td>1464</td>\n      <td>60</td>\n      <td>RL</td>\n      <td>78.0</td>\n      <td>9978</td>\n      <td>Pave</td>\n      <td>NaN</td>\n      <td>IR1</td>\n      <td>Lvl</td>\n      <td>AllPub</td>\n      <td>...</td>\n      <td>0</td>\n      <td>0</td>\n      <td>NaN</td>\n      <td>NaN</td>\n      <td>NaN</td>\n      <td>0</td>\n      <td>6</td>\n      <td>2010</td>\n      <td>WD</td>\n      <td>Normal</td>\n    </tr>\n    <tr>\n      <th>4</th>\n      <td>1465</td>\n      <td>120</td>\n      <td>RL</td>\n      <td>43.0</td>\n      <td>5005</td>\n      <td>Pave</td>\n      <td>NaN</td>\n      <td>IR1</td>\n      <td>HLS</td>\n      <td>AllPub</td>\n      <td>...</td>\n      <td>144</td>\n      <td>0</td>\n      <td>NaN</td>\n      <td>NaN</td>\n      <td>NaN</td>\n      <td>0</td>\n      <td>1</td>\n      <td>2010</td>\n      <td>WD</td>\n      <td>Normal</td>\n    </tr>\n  </tbody>\n</table>\n<p>5 rows × 80 columns</p>\n</div>"
     },
     "execution_count": 17,
     "metadata": {},
     "output_type": "execute_result"
    }
   ],
   "source": [
    "test_data.head()"
   ],
   "metadata": {
    "collapsed": false,
    "ExecuteTime": {
     "end_time": "2024-11-12T06:36:45.141385Z",
     "start_time": "2024-11-12T06:36:45.077377300Z"
    }
   },
   "id": "9edcf2bb0d5f9d19",
   "execution_count": 17
  },
  {
   "cell_type": "code",
   "outputs": [
    {
     "data": {
      "text/plain": "   MSSubClass MSZoning  LotFrontage  LotArea Street Alley LotShape  \\\n0          60       RL         65.0     8450   Pave   NaN      Reg   \n1          20       RL         80.0     9600   Pave   NaN      Reg   \n2          60       RL         68.0    11250   Pave   NaN      IR1   \n3          70       RL         60.0     9550   Pave   NaN      IR1   \n4          60       RL         84.0    14260   Pave   NaN      IR1   \n\n  LandContour Utilities LotConfig  ... ScreenPorch PoolArea PoolQC Fence  \\\n0         Lvl    AllPub    Inside  ...           0        0    NaN   NaN   \n1         Lvl    AllPub       FR2  ...           0        0    NaN   NaN   \n2         Lvl    AllPub    Inside  ...           0        0    NaN   NaN   \n3         Lvl    AllPub    Corner  ...           0        0    NaN   NaN   \n4         Lvl    AllPub       FR2  ...           0        0    NaN   NaN   \n\n  MiscFeature MiscVal  MoSold  YrSold  SaleType  SaleCondition  \n0         NaN       0       2    2008        WD         Normal  \n1         NaN       0       5    2007        WD         Normal  \n2         NaN       0       9    2008        WD         Normal  \n3         NaN       0       2    2006        WD        Abnorml  \n4         NaN       0      12    2008        WD         Normal  \n\n[5 rows x 79 columns]",
      "text/html": "<div>\n<style scoped>\n    .dataframe tbody tr th:only-of-type {\n        vertical-align: middle;\n    }\n\n    .dataframe tbody tr th {\n        vertical-align: top;\n    }\n\n    .dataframe thead th {\n        text-align: right;\n    }\n</style>\n<table border=\"1\" class=\"dataframe\">\n  <thead>\n    <tr style=\"text-align: right;\">\n      <th></th>\n      <th>MSSubClass</th>\n      <th>MSZoning</th>\n      <th>LotFrontage</th>\n      <th>LotArea</th>\n      <th>Street</th>\n      <th>Alley</th>\n      <th>LotShape</th>\n      <th>LandContour</th>\n      <th>Utilities</th>\n      <th>LotConfig</th>\n      <th>...</th>\n      <th>ScreenPorch</th>\n      <th>PoolArea</th>\n      <th>PoolQC</th>\n      <th>Fence</th>\n      <th>MiscFeature</th>\n      <th>MiscVal</th>\n      <th>MoSold</th>\n      <th>YrSold</th>\n      <th>SaleType</th>\n      <th>SaleCondition</th>\n    </tr>\n  </thead>\n  <tbody>\n    <tr>\n      <th>0</th>\n      <td>60</td>\n      <td>RL</td>\n      <td>65.0</td>\n      <td>8450</td>\n      <td>Pave</td>\n      <td>NaN</td>\n      <td>Reg</td>\n      <td>Lvl</td>\n      <td>AllPub</td>\n      <td>Inside</td>\n      <td>...</td>\n      <td>0</td>\n      <td>0</td>\n      <td>NaN</td>\n      <td>NaN</td>\n      <td>NaN</td>\n      <td>0</td>\n      <td>2</td>\n      <td>2008</td>\n      <td>WD</td>\n      <td>Normal</td>\n    </tr>\n    <tr>\n      <th>1</th>\n      <td>20</td>\n      <td>RL</td>\n      <td>80.0</td>\n      <td>9600</td>\n      <td>Pave</td>\n      <td>NaN</td>\n      <td>Reg</td>\n      <td>Lvl</td>\n      <td>AllPub</td>\n      <td>FR2</td>\n      <td>...</td>\n      <td>0</td>\n      <td>0</td>\n      <td>NaN</td>\n      <td>NaN</td>\n      <td>NaN</td>\n      <td>0</td>\n      <td>5</td>\n      <td>2007</td>\n      <td>WD</td>\n      <td>Normal</td>\n    </tr>\n    <tr>\n      <th>2</th>\n      <td>60</td>\n      <td>RL</td>\n      <td>68.0</td>\n      <td>11250</td>\n      <td>Pave</td>\n      <td>NaN</td>\n      <td>IR1</td>\n      <td>Lvl</td>\n      <td>AllPub</td>\n      <td>Inside</td>\n      <td>...</td>\n      <td>0</td>\n      <td>0</td>\n      <td>NaN</td>\n      <td>NaN</td>\n      <td>NaN</td>\n      <td>0</td>\n      <td>9</td>\n      <td>2008</td>\n      <td>WD</td>\n      <td>Normal</td>\n    </tr>\n    <tr>\n      <th>3</th>\n      <td>70</td>\n      <td>RL</td>\n      <td>60.0</td>\n      <td>9550</td>\n      <td>Pave</td>\n      <td>NaN</td>\n      <td>IR1</td>\n      <td>Lvl</td>\n      <td>AllPub</td>\n      <td>Corner</td>\n      <td>...</td>\n      <td>0</td>\n      <td>0</td>\n      <td>NaN</td>\n      <td>NaN</td>\n      <td>NaN</td>\n      <td>0</td>\n      <td>2</td>\n      <td>2006</td>\n      <td>WD</td>\n      <td>Abnorml</td>\n    </tr>\n    <tr>\n      <th>4</th>\n      <td>60</td>\n      <td>RL</td>\n      <td>84.0</td>\n      <td>14260</td>\n      <td>Pave</td>\n      <td>NaN</td>\n      <td>IR1</td>\n      <td>Lvl</td>\n      <td>AllPub</td>\n      <td>FR2</td>\n      <td>...</td>\n      <td>0</td>\n      <td>0</td>\n      <td>NaN</td>\n      <td>NaN</td>\n      <td>NaN</td>\n      <td>0</td>\n      <td>12</td>\n      <td>2008</td>\n      <td>WD</td>\n      <td>Normal</td>\n    </tr>\n  </tbody>\n</table>\n<p>5 rows × 79 columns</p>\n</div>"
     },
     "execution_count": 18,
     "metadata": {},
     "output_type": "execute_result"
    }
   ],
   "source": [
    "all_features = pd.concat((train_data.iloc[:, 1:-1], test_data.iloc[:, 1:]))\n",
    "all_features.head()"
   ],
   "metadata": {
    "collapsed": false,
    "ExecuteTime": {
     "end_time": "2024-11-12T06:36:46.261047600Z",
     "start_time": "2024-11-12T06:36:46.201526200Z"
    }
   },
   "id": "d8293eaba4cb6c74",
   "execution_count": 18
  },
  {
   "cell_type": "markdown",
   "source": [
    "# 对数据进行预处理——标准化\n",
    "对于缺失的特征值,我们将其替换成该特征的均值"
   ],
   "metadata": {
    "collapsed": false
   },
   "id": "76cb59ccb0b53f45"
  },
  {
   "cell_type": "code",
   "outputs": [
    {
     "data": {
      "text/plain": "MSSubClass               float64\nLotFrontage              float64\nLotArea                  float64\nOverallQual              float64\nOverallCond              float64\n                          ...   \nSaleCondition_Alloca     float64\nSaleCondition_Family     float64\nSaleCondition_Normal     float64\nSaleCondition_Partial    float64\nSaleCondition_nan        float64\nLength: 353, dtype: object"
     },
     "execution_count": 22,
     "metadata": {},
     "output_type": "execute_result"
    }
   ],
   "source": [
    "numeric_features = all_features.dtypes[all_features.dtypes != 'object'].index # 筛选出中所有数值类型的列的数据类型信息。\n",
    "all_features[numeric_features] = all_features[numeric_features].apply(\n",
    "    lambda x: (x - x.mean()) / x.std() # 标准化操作\n",
    ")\n",
    "# 标准化后,每个特征的均值变为0,所以可以直接用0来替换缺失值\n",
    "all_features = all_features.fillna(0)\n",
    "all_features.dtypes"
   ],
   "metadata": {
    "collapsed": false,
    "ExecuteTime": {
     "end_time": "2024-11-12T06:37:30.113363900Z",
     "start_time": "2024-11-12T06:37:29.914311700Z"
    }
   },
   "id": "4244d930c7627ad5",
   "execution_count": 22
  },
  {
   "cell_type": "code",
   "outputs": [
    {
     "data": {
      "text/plain": "   MSSubClass  LotFrontage   LotArea  OverallQual  OverallCond  YearBuilt  \\\n0    0.067320    -0.184443 -0.217841     0.646073    -0.507197   1.046078   \n1   -0.873466     0.458096 -0.072032    -0.063174     2.187904   0.154737   \n2    0.067320    -0.055935  0.137173     0.646073    -0.507197   0.980053   \n3    0.302516    -0.398622 -0.078371     0.646073    -0.507197  -1.859033   \n4    0.067320     0.629439  0.518814     1.355319    -0.507197   0.947040   \n\n   YearRemodAdd  MasVnrArea  BsmtFinSF1  BsmtFinSF2  ...  SaleType_Oth  \\\n0      0.896679    0.523038    0.580708    -0.29303  ...         False   \n1     -0.395536   -0.569893    1.177709    -0.29303  ...         False   \n2      0.848819    0.333448    0.097840    -0.29303  ...         False   \n3     -0.682695   -0.569893   -0.494771    -0.29303  ...         False   \n4      0.753100    1.381770    0.468770    -0.29303  ...         False   \n\n   SaleType_WD  SaleType_nan  SaleCondition_Abnorml  SaleCondition_AdjLand  \\\n0         True         False                  False                  False   \n1         True         False                  False                  False   \n2         True         False                  False                  False   \n3         True         False                   True                  False   \n4         True         False                  False                  False   \n\n   SaleCondition_Alloca  SaleCondition_Family  SaleCondition_Normal  \\\n0                 False                 False                  True   \n1                 False                 False                  True   \n2                 False                 False                  True   \n3                 False                 False                 False   \n4                 False                 False                  True   \n\n   SaleCondition_Partial  SaleCondition_nan  \n0                  False              False  \n1                  False              False  \n2                  False              False  \n3                  False              False  \n4                  False              False  \n\n[5 rows x 353 columns]",
      "text/html": "<div>\n<style scoped>\n    .dataframe tbody tr th:only-of-type {\n        vertical-align: middle;\n    }\n\n    .dataframe tbody tr th {\n        vertical-align: top;\n    }\n\n    .dataframe thead th {\n        text-align: right;\n    }\n</style>\n<table border=\"1\" class=\"dataframe\">\n  <thead>\n    <tr style=\"text-align: right;\">\n      <th></th>\n      <th>MSSubClass</th>\n      <th>LotFrontage</th>\n      <th>LotArea</th>\n      <th>OverallQual</th>\n      <th>OverallCond</th>\n      <th>YearBuilt</th>\n      <th>YearRemodAdd</th>\n      <th>MasVnrArea</th>\n      <th>BsmtFinSF1</th>\n      <th>BsmtFinSF2</th>\n      <th>...</th>\n      <th>SaleType_Oth</th>\n      <th>SaleType_WD</th>\n      <th>SaleType_nan</th>\n      <th>SaleCondition_Abnorml</th>\n      <th>SaleCondition_AdjLand</th>\n      <th>SaleCondition_Alloca</th>\n      <th>SaleCondition_Family</th>\n      <th>SaleCondition_Normal</th>\n      <th>SaleCondition_Partial</th>\n      <th>SaleCondition_nan</th>\n    </tr>\n  </thead>\n  <tbody>\n    <tr>\n      <th>0</th>\n      <td>0.067320</td>\n      <td>-0.184443</td>\n      <td>-0.217841</td>\n      <td>0.646073</td>\n      <td>-0.507197</td>\n      <td>1.046078</td>\n      <td>0.896679</td>\n      <td>0.523038</td>\n      <td>0.580708</td>\n      <td>-0.29303</td>\n      <td>...</td>\n      <td>False</td>\n      <td>True</td>\n      <td>False</td>\n      <td>False</td>\n      <td>False</td>\n      <td>False</td>\n      <td>False</td>\n      <td>True</td>\n      <td>False</td>\n      <td>False</td>\n    </tr>\n    <tr>\n      <th>1</th>\n      <td>-0.873466</td>\n      <td>0.458096</td>\n      <td>-0.072032</td>\n      <td>-0.063174</td>\n      <td>2.187904</td>\n      <td>0.154737</td>\n      <td>-0.395536</td>\n      <td>-0.569893</td>\n      <td>1.177709</td>\n      <td>-0.29303</td>\n      <td>...</td>\n      <td>False</td>\n      <td>True</td>\n      <td>False</td>\n      <td>False</td>\n      <td>False</td>\n      <td>False</td>\n      <td>False</td>\n      <td>True</td>\n      <td>False</td>\n      <td>False</td>\n    </tr>\n    <tr>\n      <th>2</th>\n      <td>0.067320</td>\n      <td>-0.055935</td>\n      <td>0.137173</td>\n      <td>0.646073</td>\n      <td>-0.507197</td>\n      <td>0.980053</td>\n      <td>0.848819</td>\n      <td>0.333448</td>\n      <td>0.097840</td>\n      <td>-0.29303</td>\n      <td>...</td>\n      <td>False</td>\n      <td>True</td>\n      <td>False</td>\n      <td>False</td>\n      <td>False</td>\n      <td>False</td>\n      <td>False</td>\n      <td>True</td>\n      <td>False</td>\n      <td>False</td>\n    </tr>\n    <tr>\n      <th>3</th>\n      <td>0.302516</td>\n      <td>-0.398622</td>\n      <td>-0.078371</td>\n      <td>0.646073</td>\n      <td>-0.507197</td>\n      <td>-1.859033</td>\n      <td>-0.682695</td>\n      <td>-0.569893</td>\n      <td>-0.494771</td>\n      <td>-0.29303</td>\n      <td>...</td>\n      <td>False</td>\n      <td>True</td>\n      <td>False</td>\n      <td>True</td>\n      <td>False</td>\n      <td>False</td>\n      <td>False</td>\n      <td>False</td>\n      <td>False</td>\n      <td>False</td>\n    </tr>\n    <tr>\n      <th>4</th>\n      <td>0.067320</td>\n      <td>0.629439</td>\n      <td>0.518814</td>\n      <td>1.355319</td>\n      <td>-0.507197</td>\n      <td>0.947040</td>\n      <td>0.753100</td>\n      <td>1.381770</td>\n      <td>0.468770</td>\n      <td>-0.29303</td>\n      <td>...</td>\n      <td>False</td>\n      <td>True</td>\n      <td>False</td>\n      <td>False</td>\n      <td>False</td>\n      <td>False</td>\n      <td>False</td>\n      <td>True</td>\n      <td>False</td>\n      <td>False</td>\n    </tr>\n  </tbody>\n</table>\n<p>5 rows × 353 columns</p>\n</div>"
     },
     "execution_count": 20,
     "metadata": {},
     "output_type": "execute_result"
    }
   ],
   "source": [
    "# dummy_na=True将缺失值也当作合法的特征值并为其创建指示特征\n",
    "all_features = pd.get_dummies(all_features, dummy_na=True)\n",
    "all_features.head()"
   ],
   "metadata": {
    "collapsed": false,
    "ExecuteTime": {
     "end_time": "2024-11-12T06:36:48.987725700Z",
     "start_time": "2024-11-12T06:36:48.936041Z"
    }
   },
   "id": "a4fbf23c4cb6e46d",
   "execution_count": 20
  },
  {
   "cell_type": "code",
   "outputs": [],
   "source": [
    "n_train_data = train_data.shape[0]\n",
    "train_features = torch.tensor(all_features[:n_train_data].values, dtype=torch.float)\n",
    "test_features = torch.tensor(all_features[n_train_data:].values, dtype=torch.float)\n",
    "train_labels = torch.tensor(train_data.SalePrice, dtype=torch.float).view(-1, 1)"
   ],
   "metadata": {
    "collapsed": false,
    "ExecuteTime": {
     "end_time": "2024-11-12T06:37:32.564868600Z",
     "start_time": "2024-11-12T06:37:32.535140600Z"
    }
   },
   "id": "f04f88274eb5c2dc",
   "execution_count": 23
  },
  {
   "cell_type": "code",
   "outputs": [],
   "source": [
    "loss = torch.nn.MSELoss()\n",
    "\n",
    "def get_net(features_num):\n",
    "    net = nn.Linear(features_num, 1)\n",
    "    for param in net.parameters():\n",
    "        nn.init.normal_(param, mean=0, std=0.01)\n",
    "    return net"
   ],
   "metadata": {
    "collapsed": false,
    "ExecuteTime": {
     "end_time": "2024-11-12T06:37:33.776699500Z",
     "start_time": "2024-11-12T06:37:33.745701900Z"
    }
   },
   "id": "98ce903f4a643167",
   "execution_count": 24
  },
  {
   "cell_type": "markdown",
   "source": [
    "## 对数均方根误差"
   ],
   "metadata": {
    "collapsed": false
   },
   "id": "5d22093915724888"
  },
  {
   "cell_type": "code",
   "outputs": [],
   "source": [
    "def log_rmse(net, features, labels):\n",
    "    with torch.no_grad(): # 关闭梯度计算\n",
    "        # 将小于1的值设置成1，使得取对数的时候更加稳定\n",
    "        clipped_preds = torch.max(net(features), torch.tensor(1.0))\n",
    "        rmse = torch.sqrt(loss(clipped_preds.log(), labels.log()).mean())\n",
    "        return rmse.item()"
   ],
   "metadata": {
    "collapsed": false,
    "ExecuteTime": {
     "end_time": "2024-11-12T06:37:35.076631Z",
     "start_time": "2024-11-12T06:37:35.054786200Z"
    }
   },
   "id": "d39a4341b8455f7e",
   "execution_count": 25
  },
  {
   "cell_type": "code",
   "outputs": [],
   "source": [
    "def train(net, train_features, train_labels, test_features, test_labels, num_epochs, learning_rate, weight_decay, batch_size):\n",
    "    train_ls, test_ls = [], []\n",
    "    dataset = TensorDataset(train_features, train_labels)\n",
    "    train_iter = DataLoader(dataset, batch_size=batch_size, shuffle=True)\n",
    "    # Adam 优化算法\n",
    "    optimizer = torch.optim.Adam(net.parameters(), lr=learning_rate, weight_decay=weight_decay)\n",
    "    net = net.float()\n",
    "    for epoch in range(num_epochs):\n",
    "        for X, y in train_iter:\n",
    "            l = loss(net(X.float()), y.float())\n",
    "            optimizer.zero_grad()\n",
    "            l.backward()\n",
    "            optimizer.step()\n",
    "        train_ls.append(log_rmse(net, train_features, train_labels))\n",
    "        if test_labels is not None:\n",
    "            test_ls.append(log_rmse(net, test_features, test_labels))\n",
    "    return train_ls, test_ls"
   ],
   "metadata": {
    "collapsed": false,
    "ExecuteTime": {
     "end_time": "2024-11-12T06:37:35.536246300Z",
     "start_time": "2024-11-12T06:37:35.530247100Z"
    }
   },
   "id": "99a5be26a11d8dfe",
   "execution_count": 26
  },
  {
   "cell_type": "markdown",
   "source": [
    "# K折交叉检验"
   ],
   "metadata": {
    "collapsed": false
   },
   "id": "7488b2bb992ceaad"
  },
  {
   "cell_type": "code",
   "outputs": [],
   "source": [
    "\n",
    "def get_k_fold_data(k, i, X, y):\n",
    "    # 确保折数大于1\n",
    "    assert k > 1\n",
    "\n",
    "    # 每一折的大小\n",
    "    fold_size = X.shape[0] // k\n",
    "\n",
    "    # 初始化训练集和验证集\n",
    "    X_train, y_train = None, None\n",
    "\n",
    "    # 遍历每一折，分割数据\n",
    "    for j in range(k):\n",
    "        idx = slice(j * fold_size, (j + 1) * fold_size)  # 当前折的数据索引\n",
    "        X_part, y_part = X[idx, :], y[idx]  # 提取当前折的数据\n",
    "\n",
    "        if j == i:  # 如果是第i折，作为验证集\n",
    "            X_valid, y_valid = X_part, y_part\n",
    "        elif X_train is None:  # 初始化训练集\n",
    "            X_train, y_train = X_part, y_part\n",
    "        else:  # 其余的折数据合并到训练集中\n",
    "            X_train = torch.cat((X_train, X_part), dim=0)\n",
    "            y_train = torch.cat((y_train, y_part), dim=0)\n",
    "\n",
    "    return X_train, y_train, X_valid, y_valid\n"
   ],
   "metadata": {
    "collapsed": false,
    "ExecuteTime": {
     "end_time": "2024-11-12T06:37:36.365697300Z",
     "start_time": "2024-11-12T06:37:36.343715900Z"
    }
   },
   "id": "562bf892a3bfafb3",
   "execution_count": 27
  },
  {
   "cell_type": "code",
   "outputs": [],
   "source": [
    "def k_fold(k, X_train, y_train, num_epochs, learning_rate, weight_decay, batch_size):\n",
    "    train_l_sum, valid_l_sum = 0, 0  # 初始化训练和验证的总误差\n",
    "    \n",
    "    # 遍历每一折交叉验证\n",
    "    for i in range(k):\n",
    "        # 获取第i折的训练集和验证集\n",
    "        data = get_k_fold_data(k, i, X_train, y_train)\n",
    "        \n",
    "        # 初始化网络模型\n",
    "        net = get_net(X_train.shape[1])\n",
    "        \n",
    "        # 训练网络并返回训练和验证的误差\n",
    "        train_ls, valid_ls = train(net, *data, num_epochs, learning_rate, weight_decay, batch_size)\n",
    "        \n",
    "        # 累加训练集和验证集的误差\n",
    "        train_l_sum += train_ls[-1]\n",
    "        valid_l_sum += valid_ls[-1]\n",
    "        \n",
    "        # 在第一次折时绘制训练和验证的误差曲线\n",
    "        if i == 0:\n",
    "            d2l.semilogy(range(1, num_epochs + 1), train_ls, 'epochs', 'rmse', \n",
    "                         range(1, num_epochs + 1), valid_ls, ['train', 'valid'])\n",
    "        \n",
    "        # 打印每一折的训练和验证误差\n",
    "        print(f'fold {i}, train rmse {train_ls[-1]:.6f}, valid rmse {valid_ls[-1]:.6f}')\n",
    "    \n",
    "    # 返回训练和验证的平均误差\n",
    "    return train_l_sum / k, valid_l_sum / k\n"
   ],
   "metadata": {
    "collapsed": false,
    "ExecuteTime": {
     "end_time": "2024-11-12T06:37:37.165737100Z",
     "start_time": "2024-11-12T06:37:37.131738800Z"
    }
   },
   "id": "c8ea422013fd24d2",
   "execution_count": 28
  },
  {
   "cell_type": "code",
   "outputs": [
    {
     "name": "stdout",
     "output_type": "stream",
     "text": [
      "fold 0, train rmse 2.113259, valid rmse 3.898379\n",
      "fold 1, train rmse 1.782911, valid rmse 3.460099\n",
      "fold 2, train rmse 1.775721, valid rmse 3.619259\n",
      "fold 3, train rmse 2.021788, valid rmse 3.280700\n",
      "fold 4, train rmse 1.964308, valid rmse 3.889385\n",
      "fold 5, train rmse 2.093841, valid rmse 3.567985\n",
      "fold 6, train rmse 1.690577, valid rmse 3.421982\n",
      "fold 7, train rmse 1.920906, valid rmse 2.652519\n",
      "fold 8, train rmse 1.601486, valid rmse 3.651492\n",
      "fold 9, train rmse 1.735048, valid rmse 2.776429\n",
      "10-fold validation: avg train rmse 1.869985, avg valid rmse 3.421823\n"
     ]
    },
    {
     "data": {
      "text/plain": "<Figure size 350x250 with 1 Axes>",
      "image/svg+xml": "<?xml version=\"1.0\" encoding=\"utf-8\" standalone=\"no\"?>\n<!DOCTYPE svg PUBLIC \"-//W3C//DTD SVG 1.1//EN\"\n  \"http://www.w3.org/Graphics/SVG/1.1/DTD/svg11.dtd\">\n<svg xmlns:xlink=\"http://www.w3.org/1999/xlink\" width=\"265.644602pt\" height=\"183.35625pt\" viewBox=\"0 0 265.644602 183.35625\" xmlns=\"http://www.w3.org/2000/svg\" version=\"1.1\">\n <metadata>\n  <rdf:RDF xmlns:dc=\"http://purl.org/dc/elements/1.1/\" xmlns:cc=\"http://creativecommons.org/ns#\" xmlns:rdf=\"http://www.w3.org/1999/02/22-rdf-syntax-ns#\">\n   <cc:Work>\n    <dc:type rdf:resource=\"http://purl.org/dc/dcmitype/StillImage\"/>\n    <dc:date>2024-11-12T14:38:41.613139</dc:date>\n    <dc:format>image/svg+xml</dc:format>\n    <dc:creator>\n     <cc:Agent>\n      <dc:title>Matplotlib v3.8.4, https://matplotlib.org/</dc:title>\n     </cc:Agent>\n    </dc:creator>\n   </cc:Work>\n  </rdf:RDF>\n </metadata>\n <defs>\n  <style type=\"text/css\">*{stroke-linejoin: round; stroke-linecap: butt}</style>\n </defs>\n <g id=\"figure_1\">\n  <g id=\"patch_1\">\n   <path d=\"M 0 183.35625 \nL 265.644602 183.35625 \nL 265.644602 0 \nL 0 0 \nz\n\" style=\"fill: #ffffff\"/>\n  </g>\n  <g id=\"axes_1\">\n   <g id=\"patch_2\">\n    <path d=\"M 62.478125 145.8 \nL 257.778125 145.8 \nL 257.778125 7.2 \nL 62.478125 7.2 \nz\n\" style=\"fill: #ffffff\"/>\n   </g>\n   <g id=\"matplotlib.axis_1\">\n    <g id=\"xtick_1\">\n     <g id=\"line2d_1\">\n      <defs>\n       <path id=\"md0a364a07d\" d=\"M 0 0 \nL 0 3.5 \n\" style=\"stroke: #000000; stroke-width: 0.8\"/>\n      </defs>\n      <g>\n       <use xlink:href=\"#md0a364a07d\" x=\"70.999595\" y=\"145.8\" style=\"stroke: #000000; stroke-width: 0.8\"/>\n      </g>\n     </g>\n     <g id=\"text_1\">\n      <!-- 0 -->\n      <g transform=\"translate(67.818345 160.398438) scale(0.1 -0.1)\">\n       <defs>\n        <path id=\"DejaVuSans-30\" d=\"M 2034 4250 \nQ 1547 4250 1301 3770 \nQ 1056 3291 1056 2328 \nQ 1056 1369 1301 889 \nQ 1547 409 2034 409 \nQ 2525 409 2770 889 \nQ 3016 1369 3016 2328 \nQ 3016 3291 2770 3770 \nQ 2525 4250 2034 4250 \nz\nM 2034 4750 \nQ 2819 4750 3233 4129 \nQ 3647 3509 3647 2328 \nQ 3647 1150 3233 529 \nQ 2819 -91 2034 -91 \nQ 1250 -91 836 529 \nQ 422 1150 422 2328 \nQ 422 3509 836 4129 \nQ 1250 4750 2034 4750 \nz\n\" transform=\"scale(0.015625)\"/>\n       </defs>\n       <use xlink:href=\"#DejaVuSans-30\"/>\n      </g>\n     </g>\n    </g>\n    <g id=\"xtick_2\">\n     <g id=\"line2d_2\">\n      <g>\n       <use xlink:href=\"#md0a364a07d\" x=\"106.579847\" y=\"145.8\" style=\"stroke: #000000; stroke-width: 0.8\"/>\n      </g>\n     </g>\n     <g id=\"text_2\">\n      <!-- 100 -->\n      <g transform=\"translate(97.036097 160.398438) scale(0.1 -0.1)\">\n       <defs>\n        <path id=\"DejaVuSans-31\" d=\"M 794 531 \nL 1825 531 \nL 1825 4091 \nL 703 3866 \nL 703 4441 \nL 1819 4666 \nL 2450 4666 \nL 2450 531 \nL 3481 531 \nL 3481 0 \nL 794 0 \nL 794 531 \nz\n\" transform=\"scale(0.015625)\"/>\n       </defs>\n       <use xlink:href=\"#DejaVuSans-31\"/>\n       <use xlink:href=\"#DejaVuSans-30\" x=\"63.623047\"/>\n       <use xlink:href=\"#DejaVuSans-30\" x=\"127.246094\"/>\n      </g>\n     </g>\n    </g>\n    <g id=\"xtick_3\">\n     <g id=\"line2d_3\">\n      <g>\n       <use xlink:href=\"#md0a364a07d\" x=\"142.160098\" y=\"145.8\" style=\"stroke: #000000; stroke-width: 0.8\"/>\n      </g>\n     </g>\n     <g id=\"text_3\">\n      <!-- 200 -->\n      <g transform=\"translate(132.616348 160.398438) scale(0.1 -0.1)\">\n       <defs>\n        <path id=\"DejaVuSans-32\" d=\"M 1228 531 \nL 3431 531 \nL 3431 0 \nL 469 0 \nL 469 531 \nQ 828 903 1448 1529 \nQ 2069 2156 2228 2338 \nQ 2531 2678 2651 2914 \nQ 2772 3150 2772 3378 \nQ 2772 3750 2511 3984 \nQ 2250 4219 1831 4219 \nQ 1534 4219 1204 4116 \nQ 875 4013 500 3803 \nL 500 4441 \nQ 881 4594 1212 4672 \nQ 1544 4750 1819 4750 \nQ 2544 4750 2975 4387 \nQ 3406 4025 3406 3419 \nQ 3406 3131 3298 2873 \nQ 3191 2616 2906 2266 \nQ 2828 2175 2409 1742 \nQ 1991 1309 1228 531 \nz\n\" transform=\"scale(0.015625)\"/>\n       </defs>\n       <use xlink:href=\"#DejaVuSans-32\"/>\n       <use xlink:href=\"#DejaVuSans-30\" x=\"63.623047\"/>\n       <use xlink:href=\"#DejaVuSans-30\" x=\"127.246094\"/>\n      </g>\n     </g>\n    </g>\n    <g id=\"xtick_4\">\n     <g id=\"line2d_4\">\n      <g>\n       <use xlink:href=\"#md0a364a07d\" x=\"177.740349\" y=\"145.8\" style=\"stroke: #000000; stroke-width: 0.8\"/>\n      </g>\n     </g>\n     <g id=\"text_4\">\n      <!-- 300 -->\n      <g transform=\"translate(168.196599 160.398438) scale(0.1 -0.1)\">\n       <defs>\n        <path id=\"DejaVuSans-33\" d=\"M 2597 2516 \nQ 3050 2419 3304 2112 \nQ 3559 1806 3559 1356 \nQ 3559 666 3084 287 \nQ 2609 -91 1734 -91 \nQ 1441 -91 1130 -33 \nQ 819 25 488 141 \nL 488 750 \nQ 750 597 1062 519 \nQ 1375 441 1716 441 \nQ 2309 441 2620 675 \nQ 2931 909 2931 1356 \nQ 2931 1769 2642 2001 \nQ 2353 2234 1838 2234 \nL 1294 2234 \nL 1294 2753 \nL 1863 2753 \nQ 2328 2753 2575 2939 \nQ 2822 3125 2822 3475 \nQ 2822 3834 2567 4026 \nQ 2313 4219 1838 4219 \nQ 1578 4219 1281 4162 \nQ 984 4106 628 3988 \nL 628 4550 \nQ 988 4650 1302 4700 \nQ 1616 4750 1894 4750 \nQ 2613 4750 3031 4423 \nQ 3450 4097 3450 3541 \nQ 3450 3153 3228 2886 \nQ 3006 2619 2597 2516 \nz\n\" transform=\"scale(0.015625)\"/>\n       </defs>\n       <use xlink:href=\"#DejaVuSans-33\"/>\n       <use xlink:href=\"#DejaVuSans-30\" x=\"63.623047\"/>\n       <use xlink:href=\"#DejaVuSans-30\" x=\"127.246094\"/>\n      </g>\n     </g>\n    </g>\n    <g id=\"xtick_5\">\n     <g id=\"line2d_5\">\n      <g>\n       <use xlink:href=\"#md0a364a07d\" x=\"213.320601\" y=\"145.8\" style=\"stroke: #000000; stroke-width: 0.8\"/>\n      </g>\n     </g>\n     <g id=\"text_5\">\n      <!-- 400 -->\n      <g transform=\"translate(203.776851 160.398438) scale(0.1 -0.1)\">\n       <defs>\n        <path id=\"DejaVuSans-34\" d=\"M 2419 4116 \nL 825 1625 \nL 2419 1625 \nL 2419 4116 \nz\nM 2253 4666 \nL 3047 4666 \nL 3047 1625 \nL 3713 1625 \nL 3713 1100 \nL 3047 1100 \nL 3047 0 \nL 2419 0 \nL 2419 1100 \nL 313 1100 \nL 313 1709 \nL 2253 4666 \nz\n\" transform=\"scale(0.015625)\"/>\n       </defs>\n       <use xlink:href=\"#DejaVuSans-34\"/>\n       <use xlink:href=\"#DejaVuSans-30\" x=\"63.623047\"/>\n       <use xlink:href=\"#DejaVuSans-30\" x=\"127.246094\"/>\n      </g>\n     </g>\n    </g>\n    <g id=\"xtick_6\">\n     <g id=\"line2d_6\">\n      <g>\n       <use xlink:href=\"#md0a364a07d\" x=\"248.900852\" y=\"145.8\" style=\"stroke: #000000; stroke-width: 0.8\"/>\n      </g>\n     </g>\n     <g id=\"text_6\">\n      <!-- 500 -->\n      <g transform=\"translate(239.357102 160.398438) scale(0.1 -0.1)\">\n       <defs>\n        <path id=\"DejaVuSans-35\" d=\"M 691 4666 \nL 3169 4666 \nL 3169 4134 \nL 1269 4134 \nL 1269 2991 \nQ 1406 3038 1543 3061 \nQ 1681 3084 1819 3084 \nQ 2600 3084 3056 2656 \nQ 3513 2228 3513 1497 \nQ 3513 744 3044 326 \nQ 2575 -91 1722 -91 \nQ 1428 -91 1123 -41 \nQ 819 9 494 109 \nL 494 744 \nQ 775 591 1075 516 \nQ 1375 441 1709 441 \nQ 2250 441 2565 725 \nQ 2881 1009 2881 1497 \nQ 2881 1984 2565 2268 \nQ 2250 2553 1709 2553 \nQ 1456 2553 1204 2497 \nQ 953 2441 691 2322 \nL 691 4666 \nz\n\" transform=\"scale(0.015625)\"/>\n       </defs>\n       <use xlink:href=\"#DejaVuSans-35\"/>\n       <use xlink:href=\"#DejaVuSans-30\" x=\"63.623047\"/>\n       <use xlink:href=\"#DejaVuSans-30\" x=\"127.246094\"/>\n      </g>\n     </g>\n    </g>\n    <g id=\"text_7\">\n     <!-- epochs -->\n     <g transform=\"translate(142.295313 174.076563) scale(0.1 -0.1)\">\n      <defs>\n       <path id=\"DejaVuSans-65\" d=\"M 3597 1894 \nL 3597 1613 \nL 953 1613 \nQ 991 1019 1311 708 \nQ 1631 397 2203 397 \nQ 2534 397 2845 478 \nQ 3156 559 3463 722 \nL 3463 178 \nQ 3153 47 2828 -22 \nQ 2503 -91 2169 -91 \nQ 1331 -91 842 396 \nQ 353 884 353 1716 \nQ 353 2575 817 3079 \nQ 1281 3584 2069 3584 \nQ 2775 3584 3186 3129 \nQ 3597 2675 3597 1894 \nz\nM 3022 2063 \nQ 3016 2534 2758 2815 \nQ 2500 3097 2075 3097 \nQ 1594 3097 1305 2825 \nQ 1016 2553 972 2059 \nL 3022 2063 \nz\n\" transform=\"scale(0.015625)\"/>\n       <path id=\"DejaVuSans-70\" d=\"M 1159 525 \nL 1159 -1331 \nL 581 -1331 \nL 581 3500 \nL 1159 3500 \nL 1159 2969 \nQ 1341 3281 1617 3432 \nQ 1894 3584 2278 3584 \nQ 2916 3584 3314 3078 \nQ 3713 2572 3713 1747 \nQ 3713 922 3314 415 \nQ 2916 -91 2278 -91 \nQ 1894 -91 1617 61 \nQ 1341 213 1159 525 \nz\nM 3116 1747 \nQ 3116 2381 2855 2742 \nQ 2594 3103 2138 3103 \nQ 1681 3103 1420 2742 \nQ 1159 2381 1159 1747 \nQ 1159 1113 1420 752 \nQ 1681 391 2138 391 \nQ 2594 391 2855 752 \nQ 3116 1113 3116 1747 \nz\n\" transform=\"scale(0.015625)\"/>\n       <path id=\"DejaVuSans-6f\" d=\"M 1959 3097 \nQ 1497 3097 1228 2736 \nQ 959 2375 959 1747 \nQ 959 1119 1226 758 \nQ 1494 397 1959 397 \nQ 2419 397 2687 759 \nQ 2956 1122 2956 1747 \nQ 2956 2369 2687 2733 \nQ 2419 3097 1959 3097 \nz\nM 1959 3584 \nQ 2709 3584 3137 3096 \nQ 3566 2609 3566 1747 \nQ 3566 888 3137 398 \nQ 2709 -91 1959 -91 \nQ 1206 -91 779 398 \nQ 353 888 353 1747 \nQ 353 2609 779 3096 \nQ 1206 3584 1959 3584 \nz\n\" transform=\"scale(0.015625)\"/>\n       <path id=\"DejaVuSans-63\" d=\"M 3122 3366 \nL 3122 2828 \nQ 2878 2963 2633 3030 \nQ 2388 3097 2138 3097 \nQ 1578 3097 1268 2742 \nQ 959 2388 959 1747 \nQ 959 1106 1268 751 \nQ 1578 397 2138 397 \nQ 2388 397 2633 464 \nQ 2878 531 3122 666 \nL 3122 134 \nQ 2881 22 2623 -34 \nQ 2366 -91 2075 -91 \nQ 1284 -91 818 406 \nQ 353 903 353 1747 \nQ 353 2603 823 3093 \nQ 1294 3584 2113 3584 \nQ 2378 3584 2631 3529 \nQ 2884 3475 3122 3366 \nz\n\" transform=\"scale(0.015625)\"/>\n       <path id=\"DejaVuSans-68\" d=\"M 3513 2113 \nL 3513 0 \nL 2938 0 \nL 2938 2094 \nQ 2938 2591 2744 2837 \nQ 2550 3084 2163 3084 \nQ 1697 3084 1428 2787 \nQ 1159 2491 1159 1978 \nL 1159 0 \nL 581 0 \nL 581 4863 \nL 1159 4863 \nL 1159 2956 \nQ 1366 3272 1645 3428 \nQ 1925 3584 2291 3584 \nQ 2894 3584 3203 3211 \nQ 3513 2838 3513 2113 \nz\n\" transform=\"scale(0.015625)\"/>\n       <path id=\"DejaVuSans-73\" d=\"M 2834 3397 \nL 2834 2853 \nQ 2591 2978 2328 3040 \nQ 2066 3103 1784 3103 \nQ 1356 3103 1142 2972 \nQ 928 2841 928 2578 \nQ 928 2378 1081 2264 \nQ 1234 2150 1697 2047 \nL 1894 2003 \nQ 2506 1872 2764 1633 \nQ 3022 1394 3022 966 \nQ 3022 478 2636 193 \nQ 2250 -91 1575 -91 \nQ 1294 -91 989 -36 \nQ 684 19 347 128 \nL 347 722 \nQ 666 556 975 473 \nQ 1284 391 1588 391 \nQ 1994 391 2212 530 \nQ 2431 669 2431 922 \nQ 2431 1156 2273 1281 \nQ 2116 1406 1581 1522 \nL 1381 1569 \nQ 847 1681 609 1914 \nQ 372 2147 372 2553 \nQ 372 3047 722 3315 \nQ 1072 3584 1716 3584 \nQ 2034 3584 2315 3537 \nQ 2597 3491 2834 3397 \nz\n\" transform=\"scale(0.015625)\"/>\n      </defs>\n      <use xlink:href=\"#DejaVuSans-65\"/>\n      <use xlink:href=\"#DejaVuSans-70\" x=\"61.523438\"/>\n      <use xlink:href=\"#DejaVuSans-6f\" x=\"125\"/>\n      <use xlink:href=\"#DejaVuSans-63\" x=\"186.181641\"/>\n      <use xlink:href=\"#DejaVuSans-68\" x=\"241.162109\"/>\n      <use xlink:href=\"#DejaVuSans-73\" x=\"304.541016\"/>\n     </g>\n    </g>\n   </g>\n   <g id=\"matplotlib.axis_2\">\n    <g id=\"ytick_1\">\n     <g id=\"line2d_7\">\n      <defs>\n       <path id=\"m085d8482b3\" d=\"M 0 0 \nL -2 0 \n\" style=\"stroke: #000000; stroke-width: 0.6\"/>\n      </defs>\n      <g>\n       <use xlink:href=\"#m085d8482b3\" x=\"62.478125\" y=\"144.33122\" style=\"stroke: #000000; stroke-width: 0.6\"/>\n      </g>\n     </g>\n     <g id=\"text_8\">\n      <!-- $\\mathdefault{2\\times10^{0}}$ -->\n      <g transform=\"translate(20.878125 148.130439) scale(0.1 -0.1)\">\n       <defs>\n        <path id=\"DejaVuSans-d7\" d=\"M 4488 3438 \nL 3059 2003 \nL 4488 575 \nL 4116 197 \nL 2681 1631 \nL 1247 197 \nL 878 575 \nL 2303 2003 \nL 878 3438 \nL 1247 3816 \nL 2681 2381 \nL 4116 3816 \nL 4488 3438 \nz\n\" transform=\"scale(0.015625)\"/>\n       </defs>\n       <use xlink:href=\"#DejaVuSans-32\" transform=\"translate(0 0.765625)\"/>\n       <use xlink:href=\"#DejaVuSans-d7\" transform=\"translate(83.105469 0.765625)\"/>\n       <use xlink:href=\"#DejaVuSans-31\" transform=\"translate(186.376953 0.765625)\"/>\n       <use xlink:href=\"#DejaVuSans-30\" transform=\"translate(250 0.765625)\"/>\n       <use xlink:href=\"#DejaVuSans-30\" transform=\"translate(314.580078 39.046875) scale(0.7)\"/>\n      </g>\n     </g>\n    </g>\n    <g id=\"ytick_2\">\n     <g id=\"line2d_8\">\n      <g>\n       <use xlink:href=\"#m085d8482b3\" x=\"62.478125\" y=\"108.769505\" style=\"stroke: #000000; stroke-width: 0.6\"/>\n      </g>\n     </g>\n     <g id=\"text_9\">\n      <!-- $\\mathdefault{3\\times10^{0}}$ -->\n      <g transform=\"translate(20.878125 112.568723) scale(0.1 -0.1)\">\n       <use xlink:href=\"#DejaVuSans-33\" transform=\"translate(0 0.765625)\"/>\n       <use xlink:href=\"#DejaVuSans-d7\" transform=\"translate(83.105469 0.765625)\"/>\n       <use xlink:href=\"#DejaVuSans-31\" transform=\"translate(186.376953 0.765625)\"/>\n       <use xlink:href=\"#DejaVuSans-30\" transform=\"translate(250 0.765625)\"/>\n       <use xlink:href=\"#DejaVuSans-30\" transform=\"translate(314.580078 39.046875) scale(0.7)\"/>\n      </g>\n     </g>\n    </g>\n    <g id=\"ytick_3\">\n     <g id=\"line2d_9\">\n      <g>\n       <use xlink:href=\"#m085d8482b3\" x=\"62.478125\" y=\"83.538066\" style=\"stroke: #000000; stroke-width: 0.6\"/>\n      </g>\n     </g>\n     <g id=\"text_10\">\n      <!-- $\\mathdefault{4\\times10^{0}}$ -->\n      <g transform=\"translate(20.878125 87.337284) scale(0.1 -0.1)\">\n       <use xlink:href=\"#DejaVuSans-34\" transform=\"translate(0 0.765625)\"/>\n       <use xlink:href=\"#DejaVuSans-d7\" transform=\"translate(83.105469 0.765625)\"/>\n       <use xlink:href=\"#DejaVuSans-31\" transform=\"translate(186.376953 0.765625)\"/>\n       <use xlink:href=\"#DejaVuSans-30\" transform=\"translate(250 0.765625)\"/>\n       <use xlink:href=\"#DejaVuSans-30\" transform=\"translate(314.580078 39.046875) scale(0.7)\"/>\n      </g>\n     </g>\n    </g>\n    <g id=\"ytick_4\">\n     <g id=\"line2d_10\">\n      <g>\n       <use xlink:href=\"#m085d8482b3\" x=\"62.478125\" y=\"63.967041\" style=\"stroke: #000000; stroke-width: 0.6\"/>\n      </g>\n     </g>\n    </g>\n    <g id=\"ytick_5\">\n     <g id=\"line2d_11\">\n      <g>\n       <use xlink:href=\"#m085d8482b3\" x=\"62.478125\" y=\"47.97635\" style=\"stroke: #000000; stroke-width: 0.6\"/>\n      </g>\n     </g>\n     <g id=\"text_11\">\n      <!-- $\\mathdefault{6\\times10^{0}}$ -->\n      <g transform=\"translate(20.878125 51.775569) scale(0.1 -0.1)\">\n       <defs>\n        <path id=\"DejaVuSans-36\" d=\"M 2113 2584 \nQ 1688 2584 1439 2293 \nQ 1191 2003 1191 1497 \nQ 1191 994 1439 701 \nQ 1688 409 2113 409 \nQ 2538 409 2786 701 \nQ 3034 994 3034 1497 \nQ 3034 2003 2786 2293 \nQ 2538 2584 2113 2584 \nz\nM 3366 4563 \nL 3366 3988 \nQ 3128 4100 2886 4159 \nQ 2644 4219 2406 4219 \nQ 1781 4219 1451 3797 \nQ 1122 3375 1075 2522 \nQ 1259 2794 1537 2939 \nQ 1816 3084 2150 3084 \nQ 2853 3084 3261 2657 \nQ 3669 2231 3669 1497 \nQ 3669 778 3244 343 \nQ 2819 -91 2113 -91 \nQ 1303 -91 875 529 \nQ 447 1150 447 2328 \nQ 447 3434 972 4092 \nQ 1497 4750 2381 4750 \nQ 2619 4750 2861 4703 \nQ 3103 4656 3366 4563 \nz\n\" transform=\"scale(0.015625)\"/>\n       </defs>\n       <use xlink:href=\"#DejaVuSans-36\" transform=\"translate(0 0.765625)\"/>\n       <use xlink:href=\"#DejaVuSans-d7\" transform=\"translate(83.105469 0.765625)\"/>\n       <use xlink:href=\"#DejaVuSans-31\" transform=\"translate(186.376953 0.765625)\"/>\n       <use xlink:href=\"#DejaVuSans-30\" transform=\"translate(250 0.765625)\"/>\n       <use xlink:href=\"#DejaVuSans-30\" transform=\"translate(314.580078 39.046875) scale(0.7)\"/>\n      </g>\n     </g>\n    </g>\n    <g id=\"ytick_6\">\n     <g id=\"line2d_12\">\n      <g>\n       <use xlink:href=\"#m085d8482b3\" x=\"62.478125\" y=\"34.456413\" style=\"stroke: #000000; stroke-width: 0.6\"/>\n      </g>\n     </g>\n    </g>\n    <g id=\"ytick_7\">\n     <g id=\"line2d_13\">\n      <g>\n       <use xlink:href=\"#m085d8482b3\" x=\"62.478125\" y=\"22.744911\" style=\"stroke: #000000; stroke-width: 0.6\"/>\n      </g>\n     </g>\n    </g>\n    <g id=\"ytick_8\">\n     <g id=\"line2d_14\">\n      <g>\n       <use xlink:href=\"#m085d8482b3\" x=\"62.478125\" y=\"12.414634\" style=\"stroke: #000000; stroke-width: 0.6\"/>\n      </g>\n     </g>\n    </g>\n    <g id=\"text_12\">\n     <!-- rmse -->\n     <g transform=\"translate(14.798437 89.019531) rotate(-90) scale(0.1 -0.1)\">\n      <defs>\n       <path id=\"DejaVuSans-72\" d=\"M 2631 2963 \nQ 2534 3019 2420 3045 \nQ 2306 3072 2169 3072 \nQ 1681 3072 1420 2755 \nQ 1159 2438 1159 1844 \nL 1159 0 \nL 581 0 \nL 581 3500 \nL 1159 3500 \nL 1159 2956 \nQ 1341 3275 1631 3429 \nQ 1922 3584 2338 3584 \nQ 2397 3584 2469 3576 \nQ 2541 3569 2628 3553 \nL 2631 2963 \nz\n\" transform=\"scale(0.015625)\"/>\n       <path id=\"DejaVuSans-6d\" d=\"M 3328 2828 \nQ 3544 3216 3844 3400 \nQ 4144 3584 4550 3584 \nQ 5097 3584 5394 3201 \nQ 5691 2819 5691 2113 \nL 5691 0 \nL 5113 0 \nL 5113 2094 \nQ 5113 2597 4934 2840 \nQ 4756 3084 4391 3084 \nQ 3944 3084 3684 2787 \nQ 3425 2491 3425 1978 \nL 3425 0 \nL 2847 0 \nL 2847 2094 \nQ 2847 2600 2669 2842 \nQ 2491 3084 2119 3084 \nQ 1678 3084 1418 2786 \nQ 1159 2488 1159 1978 \nL 1159 0 \nL 581 0 \nL 581 3500 \nL 1159 3500 \nL 1159 2956 \nQ 1356 3278 1631 3431 \nQ 1906 3584 2284 3584 \nQ 2666 3584 2933 3390 \nQ 3200 3197 3328 2828 \nz\n\" transform=\"scale(0.015625)\"/>\n      </defs>\n      <use xlink:href=\"#DejaVuSans-72\"/>\n      <use xlink:href=\"#DejaVuSans-6d\" x=\"39.363281\"/>\n      <use xlink:href=\"#DejaVuSans-73\" x=\"136.775391\"/>\n      <use xlink:href=\"#DejaVuSans-65\" x=\"188.875\"/>\n     </g>\n    </g>\n   </g>\n   <g id=\"line2d_15\">\n    <path d=\"M 71.355398 15.656206 \nL 71.7112 17.334414 \nL 73.13441 18.805995 \nL 74.201818 19.456999 \nL 74.55762 19.350948 \nL 75.269225 19.810374 \nL 75.98083 19.857162 \nL 76.336633 20.022889 \nL 76.692435 20.042585 \nL 77.048238 20.235909 \nL 77.759843 20.234842 \nL 79.538856 20.665989 \nL 79.894658 20.911373 \nL 83.452683 21.424497 \nL 83.808486 21.715197 \nL 84.520091 21.656648 \nL 84.875893 21.965922 \nL 85.231696 21.891278 \nL 85.587498 22.144065 \nL 86.299103 22.358819 \nL 87.366511 22.955222 \nL 88.433918 23.277795 \nL 88.789721 23.462631 \nL 89.145523 23.447722 \nL 89.501326 23.583343 \nL 90.212931 24.060781 \nL 90.568733 24.325704 \nL 91.636141 24.645124 \nL 92.347746 25.054686 \nL 93.415154 25.199795 \nL 94.126759 25.353788 \nL 95.905771 26.329891 \nL 96.261574 26.607614 \nL 96.617376 27.038438 \nL 98.396389 27.240031 \nL 99.107994 27.365508 \nL 99.463796 27.723117 \nL 99.819599 27.717136 \nL 100.531204 27.997945 \nL 100.887006 28.297787 \nL 101.242809 28.200784 \nL 103.021821 29.213645 \nL 103.377624 29.532658 \nL 104.089229 29.773947 \nL 104.445032 29.84249 \nL 105.512439 30.587516 \nL 106.224044 31.280535 \nL 106.579847 31.466153 \nL 108.003057 32.596816 \nL 108.714662 32.907817 \nL 109.070464 33.18995 \nL 109.426267 33.307358 \nL 109.782069 33.713746 \nL 110.493674 33.958552 \nL 110.849477 34.525511 \nL 111.205279 34.541011 \nL 112.272687 34.943249 \nL 112.628489 35.031295 \nL 113.340094 35.347172 \nL 117.965527 37.831392 \nL 118.32133 37.728825 \nL 118.677132 38.163624 \nL 119.388737 38.23882 \nL 119.74454 38.519933 \nL 120.100342 39.372232 \nL 120.456145 39.684297 \nL 121.523552 39.950515 \nL 121.879355 40.128618 \nL 122.235157 40.666319 \nL 122.946762 41.173706 \nL 123.302565 41.194129 \nL 123.658367 41.361597 \nL 124.01417 41.73406 \nL 124.369972 41.758471 \nL 124.725775 42.147803 \nL 125.43738 42.614505 \nL 125.793182 42.957569 \nL 126.148985 43.108558 \nL 126.504787 43.757461 \nL 126.86059 43.537333 \nL 127.216392 43.457907 \nL 127.572195 44.323665 \nL 127.927997 44.505463 \nL 128.2838 44.897458 \nL 128.995405 44.973161 \nL 129.351208 45.283426 \nL 129.70701 45.173066 \nL 130.062813 45.200979 \nL 130.418615 45.972633 \nL 130.774418 46.398793 \nL 131.13022 46.087109 \nL 131.841825 47.393653 \nL 132.197628 47.480594 \nL 132.55343 47.403493 \nL 132.909233 47.579464 \nL 133.265035 47.620892 \nL 133.97664 48.047859 \nL 134.332443 48.283802 \nL 134.688245 48.342885 \nL 135.044048 48.700219 \nL 135.39985 48.600745 \nL 136.467258 49.386803 \nL 136.82306 49.404945 \nL 137.178863 49.827167 \nL 137.890468 49.796931 \nL 138.24627 49.735772 \nL 138.602073 50.317876 \nL 138.957875 50.626463 \nL 139.313678 50.770104 \nL 139.66948 50.783187 \nL 140.025283 50.924915 \nL 140.381085 50.870363 \nL 141.448493 51.791098 \nL 142.160098 52.266443 \nL 142.515901 52.152367 \nL 142.871703 52.823772 \nL 143.939111 53.375103 \nL 144.650716 54.306308 \nL 145.362321 54.410395 \nL 145.718123 54.853761 \nL 146.429728 55.225094 \nL 146.785531 55.075607 \nL 147.141333 55.486289 \nL 147.497136 56.186261 \nL 147.852938 56.176885 \nL 148.208741 56.996904 \nL 148.564543 57.168024 \nL 148.920346 57.171956 \nL 149.276148 57.343255 \nL 149.631951 58.195588 \nL 150.699358 59.140285 \nL 151.055161 59.077127 \nL 152.122568 60.159614 \nL 152.478371 61.105144 \nL 152.834173 60.844734 \nL 153.545778 61.698152 \nL 153.901581 61.744395 \nL 154.257384 62.050946 \nL 154.613186 62.191078 \nL 155.324791 62.939855 \nL 155.680594 63.100736 \nL 156.036396 63.095361 \nL 156.748001 64.003718 \nL 157.103804 64.240821 \nL 157.459606 64.141602 \nL 157.815409 64.391593 \nL 158.171211 64.349066 \nL 158.882816 65.089996 \nL 159.594421 65.054582 \nL 159.950224 65.461146 \nL 160.306026 65.369426 \nL 160.661829 66.010386 \nL 161.017631 66.212309 \nL 161.373434 66.165794 \nL 161.729236 66.566499 \nL 162.085039 66.625943 \nL 163.508249 67.286792 \nL 164.219854 67.454315 \nL 165.287261 67.913995 \nL 165.643064 68.319033 \nL 165.998866 68.220634 \nL 166.354669 68.574247 \nL 166.710472 68.410055 \nL 167.066274 69.140922 \nL 167.422077 69.372045 \nL 167.777879 69.420284 \nL 168.489484 70.131338 \nL 168.845287 70.56026 \nL 169.201089 70.378074 \nL 169.556892 71.164249 \nL 169.912694 71.302604 \nL 170.624299 71.374394 \nL 170.980102 71.506601 \nL 171.691707 72.231259 \nL 172.403312 72.470618 \nL 172.759114 72.655527 \nL 174.182324 72.723599 \nL 174.893929 73.215038 \nL 175.249732 73.951114 \nL 175.605534 73.771416 \nL 175.961337 74.267791 \nL 176.317139 74.335423 \nL 176.672942 74.972654 \nL 177.028744 74.91663 \nL 177.384547 75.012252 \nL 177.740349 75.372267 \nL 178.096152 75.562982 \nL 178.451954 75.909175 \nL 178.807757 76.036932 \nL 179.16356 75.999804 \nL 180.230967 77.327168 \nL 180.58677 78.09433 \nL 182.00998 78.322052 \nL 182.721585 79.802077 \nL 183.43319 79.592103 \nL 183.788992 79.366388 \nL 184.144795 79.858334 \nL 184.500597 80.552027 \nL 184.8564 80.455644 \nL 185.212202 80.903864 \nL 185.568005 81.099932 \nL 185.923807 81.609193 \nL 186.27961 81.606564 \nL 186.991215 83.364584 \nL 187.347017 83.294199 \nL 187.70282 82.786532 \nL 188.058622 84.294476 \nL 188.414425 84.804263 \nL 188.770227 84.096073 \nL 189.12603 84.900074 \nL 189.481832 86.178249 \nL 189.837635 86.328374 \nL 190.193437 86.777527 \nL 190.54924 86.796146 \nL 190.905042 87.027687 \nL 191.260845 86.812836 \nL 191.616647 87.505771 \nL 194.107265 89.187228 \nL 194.463068 89.784102 \nL 194.81887 91.649853 \nL 195.174673 91.05482 \nL 195.530475 90.766516 \nL 195.886278 92.298824 \nL 196.24208 92.268709 \nL 197.309488 94.069891 \nL 198.376895 94.631384 \nL 198.732698 95.250081 \nL 199.0885 95.625019 \nL 199.444303 95.794813 \nL 199.800105 96.973279 \nL 200.155908 96.425041 \nL 200.867513 97.386478 \nL 201.223315 97.519233 \nL 201.579118 98.266536 \nL 201.93492 98.287241 \nL 202.290723 98.98324 \nL 202.646525 98.907345 \nL 203.002328 99.86388 \nL 203.35813 99.863635 \nL 203.713933 100.406393 \nL 204.069735 100.458601 \nL 204.425538 100.723661 \nL 204.781341 100.676647 \nL 205.137143 101.007502 \nL 205.492946 101.81049 \nL 205.848748 101.321104 \nL 206.560353 103.20119 \nL 206.916156 103.58153 \nL 207.271958 103.196794 \nL 207.627761 102.57192 \nL 207.983563 104.140355 \nL 208.695168 104.850657 \nL 209.050971 104.809473 \nL 210.474181 105.305385 \nL 210.829983 105.770943 \nL 211.541588 105.972371 \nL 211.897391 106.533038 \nL 212.608996 106.626917 \nL 212.964798 106.698966 \nL 213.676403 107.567411 \nL 214.032206 107.778119 \nL 216.878626 108.176561 \nL 217.234429 108.142457 \nL 217.946034 109.094081 \nL 218.301836 109.19793 \nL 218.657639 109.143768 \nL 220.080849 109.402823 \nL 220.436651 109.407429 \nL 220.792454 109.718475 \nL 221.504059 110.676564 \nL 221.859861 110.201975 \nL 222.215664 111.191611 \nL 222.571466 110.608626 \nL 222.927269 111.343542 \nL 223.283071 112.816738 \nL 223.638874 112.914181 \nL 223.994676 113.431293 \nL 224.706281 113.479609 \nL 225.062084 114.057692 \nL 225.417886 114.149165 \nL 225.773689 115.597769 \nL 226.485294 115.964891 \nL 227.196899 115.700888 \nL 227.908504 116.042796 \nL 228.620109 117.981128 \nL 230.399122 118.541603 \nL 230.754924 119.163726 \nL 231.110727 119.239658 \nL 231.822332 120.423909 \nL 232.178134 119.819138 \nL 232.533937 120.237641 \nL 232.889739 121.805886 \nL 233.245542 121.636476 \nL 233.957147 124.208594 \nL 234.312949 123.519496 \nL 234.668752 124.367045 \nL 236.447764 125.007928 \nL 237.159369 125.101319 \nL 237.515172 125.695264 \nL 237.870974 125.672771 \nL 238.226777 126.946274 \nL 238.582579 126.352393 \nL 239.294184 127.893168 \nL 239.649987 128.479186 \nL 240.005789 128.476411 \nL 240.361592 129.096227 \nL 240.717394 128.962134 \nL 241.073197 129.596735 \nL 241.428999 129.604407 \nL 241.784802 129.749845 \nL 242.140605 131.086934 \nL 242.496407 131.114907 \nL 242.85221 131.574825 \nL 243.208012 132.81494 \nL 243.563815 132.852127 \nL 243.919617 132.176551 \nL 244.631222 133.884942 \nL 245.342827 134.003388 \nL 245.69863 134.8386 \nL 246.054432 134.312639 \nL 246.766037 135.613849 \nL 247.12184 136.041416 \nL 247.477642 136.165841 \nL 247.833445 136.155963 \nL 248.189247 138.310187 \nL 248.54505 138.150601 \nL 248.900852 139.5 \nL 248.900852 139.5 \n\" clip-path=\"url(#p6625fc948c)\" style=\"fill: none; stroke: #1f77b4; stroke-width: 1.5; stroke-linecap: square\"/>\n   </g>\n   <g id=\"line2d_16\">\n    <path d=\"M 71.355398 13.5 \nL 71.7112 15.1045 \nL 72.422805 15.76909 \nL 72.778608 15.768684 \nL 73.13441 15.584931 \nL 74.55762 15.956713 \nL 75.269225 16.063967 \nL 75.98083 16.55906 \nL 76.692435 16.592544 \nL 77.048238 16.548674 \nL 77.40404 16.162157 \nL 77.759843 16.163835 \nL 78.471448 16.909174 \nL 78.827251 16.561603 \nL 80.606263 16.655972 \nL 80.962066 16.233816 \nL 83.096881 16.263836 \nL 83.808486 16.183867 \nL 84.164288 15.789775 \nL 89.145523 15.815992 \nL 89.501326 16.215957 \nL 91.280339 16.332945 \nL 97.684784 16.417107 \nL 99.463796 16.508399 \nL 99.819599 16.897671 \nL 100.175401 16.936833 \nL 100.531204 16.532883 \nL 100.887006 16.534977 \nL 101.242809 16.929876 \nL 101.598611 16.550983 \nL 103.733427 16.582008 \nL 104.089229 17.275268 \nL 104.800834 17.523243 \nL 105.156637 18.000513 \nL 105.512439 18.037654 \nL 105.868242 18.541206 \nL 109.782069 18.761833 \nL 110.137872 19.275029 \nL 112.984292 19.401104 \nL 115.474909 19.466778 \nL 115.830712 19.955653 \nL 119.388737 20.100097 \nL 119.74454 20.509113 \nL 120.100342 20.120206 \nL 120.456145 20.604666 \nL 121.879355 20.68149 \nL 122.235157 21.990465 \nL 122.59096 21.681197 \nL 122.946762 22.287034 \nL 124.369972 22.430632 \nL 126.504787 22.567443 \nL 127.927997 22.615454 \nL 128.2838 23.087947 \nL 129.351208 23.179554 \nL 129.70701 23.727617 \nL 130.062813 23.719851 \nL 130.418615 24.683489 \nL 131.13022 24.905857 \nL 134.332443 25.19686 \nL 134.688245 25.718666 \nL 135.044048 26.694437 \nL 135.39985 26.31263 \nL 136.111455 27.461007 \nL 136.467258 27.351711 \nL 136.82306 27.684688 \nL 138.24627 27.770337 \nL 138.602073 28.408052 \nL 141.448493 28.703226 \nL 143.583308 28.803857 \nL 143.939111 29.360462 \nL 144.294913 29.327446 \nL 144.650716 29.068612 \nL 145.006518 29.954505 \nL 145.362321 30.030279 \nL 146.073926 31.222237 \nL 147.141333 31.569827 \nL 148.208741 31.691777 \nL 149.987753 31.824506 \nL 150.343556 33.106121 \nL 151.055161 33.113188 \nL 151.410963 33.78404 \nL 152.122568 34.005205 \nL 152.834173 34.132775 \nL 153.189976 35.404256 \nL 153.901581 35.644646 \nL 154.968989 35.877656 \nL 156.036396 35.885149 \nL 157.103804 36.048035 \nL 157.459606 36.079896 \nL 157.815409 36.689906 \nL 158.171211 36.097657 \nL 158.527014 36.135394 \nL 159.594421 38.242107 \nL 159.950224 38.293611 \nL 160.306026 37.653446 \nL 160.661829 38.519751 \nL 161.017631 38.579171 \nL 161.373434 38.45672 \nL 161.729236 38.680304 \nL 162.440841 38.722695 \nL 162.796644 39.410875 \nL 167.422077 39.883543 \nL 167.777879 40.686124 \nL 168.133682 40.547313 \nL 168.489484 40.767508 \nL 168.845287 40.726845 \nL 169.201089 40.005457 \nL 169.556892 41.45925 \nL 170.268497 41.623601 \nL 171.335904 41.741474 \nL 171.691707 43.169725 \nL 172.759114 43.572108 \nL 173.114917 43.600676 \nL 173.470719 44.255074 \nL 173.826522 43.690367 \nL 174.182324 43.684088 \nL 174.538127 44.627082 \nL 174.893929 44.703646 \nL 175.249732 45.426837 \nL 175.605534 45.544514 \nL 175.961337 46.91694 \nL 176.317139 47.369865 \nL 176.672942 46.727929 \nL 177.384547 48.589472 \nL 177.740349 48.801179 \nL 178.096152 49.6943 \nL 178.451954 49.698366 \nL 178.807757 49.983295 \nL 179.16356 49.980007 \nL 179.519362 50.137808 \nL 180.230967 50.245952 \nL 180.58677 53.157608 \nL 180.942572 53.4266 \nL 181.298375 53.20166 \nL 181.654177 53.672928 \nL 182.365782 53.84364 \nL 183.788992 54.065878 \nL 184.144795 54.072349 \nL 184.500597 54.971906 \nL 184.8564 54.77668 \nL 185.212202 55.281673 \nL 185.568005 55.337903 \nL 185.923807 56.359555 \nL 186.27961 56.412896 \nL 187.347017 56.81833 \nL 187.70282 56.812779 \nL 188.058622 58.058759 \nL 188.414425 57.941765 \nL 188.770227 58.190388 \nL 189.12603 58.205636 \nL 189.481832 59.5216 \nL 190.905042 59.901385 \nL 192.684055 60.138977 \nL 199.444303 60.701916 \nL 200.51171 60.77153 \nL 200.867513 62.046216 \nL 201.579118 62.121721 \nL 202.290723 62.250196 \nL 206.916156 62.617139 \nL 207.983563 62.654113 \nL 208.339366 64.650256 \nL 208.695168 63.936977 \nL 209.050971 65.03829 \nL 209.406773 65.288722 \nL 211.185786 65.568446 \nL 211.541588 65.604154 \nL 211.897391 67.02495 \nL 212.253193 66.901159 \nL 212.608996 67.236119 \nL 215.099613 67.547005 \nL 215.455416 69.128323 \nL 216.878626 69.263066 \nL 217.234429 69.260357 \nL 217.590231 70.822225 \nL 218.301836 71.180794 \nL 219.013441 71.100688 \nL 219.725046 71.299776 \nL 221.148256 71.429903 \nL 221.504059 72.8919 \nL 222.927269 73.0875 \nL 223.283071 73.310153 \nL 225.417886 73.505831 \nL 226.485294 73.668288 \nL 227.196899 73.628601 \nL 231.466529 73.940795 \nL 233.245542 74.013925 \nL 233.601344 75.714732 \nL 233.957147 76.856521 \nL 234.312949 75.431671 \nL 234.668752 77.613032 \nL 235.380357 77.690268 \nL 235.736159 79.326358 \nL 236.091962 79.679336 \nL 237.159369 80.025834 \nL 237.515172 80.951137 \nL 237.870974 80.061622 \nL 238.226777 81.575662 \nL 238.582579 80.199271 \nL 238.938382 82.226664 \nL 239.294184 82.401323 \nL 240.005789 82.489599 \nL 240.717394 82.678563 \nL 241.428999 82.693286 \nL 242.140605 82.86756 \nL 243.919617 82.977758 \nL 244.27542 85.292323 \nL 245.342827 85.42619 \nL 245.69863 85.359666 \nL 246.054432 85.507439 \nL 247.12184 85.63492 \nL 247.477642 85.707413 \nL 247.833445 85.633731 \nL 248.54505 85.767815 \nL 248.900852 85.795054 \nL 248.900852 85.795054 \n\" clip-path=\"url(#p6625fc948c)\" style=\"fill: none; stroke-dasharray: 1.5,2.475; stroke-dashoffset: 0; stroke: #ff7f0e; stroke-width: 1.5\"/>\n   </g>\n   <g id=\"patch_3\">\n    <path d=\"M 62.478125 145.8 \nL 62.478125 7.2 \n\" style=\"fill: none; stroke: #000000; stroke-width: 0.8; stroke-linejoin: miter; stroke-linecap: square\"/>\n   </g>\n   <g id=\"patch_4\">\n    <path d=\"M 257.778125 145.8 \nL 257.778125 7.2 \n\" style=\"fill: none; stroke: #000000; stroke-width: 0.8; stroke-linejoin: miter; stroke-linecap: square\"/>\n   </g>\n   <g id=\"patch_5\">\n    <path d=\"M 62.478125 145.8 \nL 257.778125 145.8 \n\" style=\"fill: none; stroke: #000000; stroke-width: 0.8; stroke-linejoin: miter; stroke-linecap: square\"/>\n   </g>\n   <g id=\"patch_6\">\n    <path d=\"M 62.478125 7.2 \nL 257.778125 7.2 \n\" style=\"fill: none; stroke: #000000; stroke-width: 0.8; stroke-linejoin: miter; stroke-linecap: square\"/>\n   </g>\n   <g id=\"legend_1\">\n    <g id=\"patch_7\">\n     <path d=\"M 194.826563 44.55625 \nL 250.778125 44.55625 \nQ 252.778125 44.55625 252.778125 42.55625 \nL 252.778125 14.2 \nQ 252.778125 12.2 250.778125 12.2 \nL 194.826563 12.2 \nQ 192.826563 12.2 192.826563 14.2 \nL 192.826563 42.55625 \nQ 192.826563 44.55625 194.826563 44.55625 \nz\n\" style=\"fill: #ffffff; opacity: 0.8; stroke: #cccccc; stroke-linejoin: miter\"/>\n    </g>\n    <g id=\"line2d_17\">\n     <path d=\"M 196.826563 20.298438 \nL 206.826563 20.298438 \nL 216.826563 20.298438 \n\" style=\"fill: none; stroke: #1f77b4; stroke-width: 1.5; stroke-linecap: square\"/>\n    </g>\n    <g id=\"text_13\">\n     <!-- train -->\n     <g transform=\"translate(224.826563 23.798438) scale(0.1 -0.1)\">\n      <defs>\n       <path id=\"DejaVuSans-74\" d=\"M 1172 4494 \nL 1172 3500 \nL 2356 3500 \nL 2356 3053 \nL 1172 3053 \nL 1172 1153 \nQ 1172 725 1289 603 \nQ 1406 481 1766 481 \nL 2356 481 \nL 2356 0 \nL 1766 0 \nQ 1100 0 847 248 \nQ 594 497 594 1153 \nL 594 3053 \nL 172 3053 \nL 172 3500 \nL 594 3500 \nL 594 4494 \nL 1172 4494 \nz\n\" transform=\"scale(0.015625)\"/>\n       <path id=\"DejaVuSans-61\" d=\"M 2194 1759 \nQ 1497 1759 1228 1600 \nQ 959 1441 959 1056 \nQ 959 750 1161 570 \nQ 1363 391 1709 391 \nQ 2188 391 2477 730 \nQ 2766 1069 2766 1631 \nL 2766 1759 \nL 2194 1759 \nz\nM 3341 1997 \nL 3341 0 \nL 2766 0 \nL 2766 531 \nQ 2569 213 2275 61 \nQ 1981 -91 1556 -91 \nQ 1019 -91 701 211 \nQ 384 513 384 1019 \nQ 384 1609 779 1909 \nQ 1175 2209 1959 2209 \nL 2766 2209 \nL 2766 2266 \nQ 2766 2663 2505 2880 \nQ 2244 3097 1772 3097 \nQ 1472 3097 1187 3025 \nQ 903 2953 641 2809 \nL 641 3341 \nQ 956 3463 1253 3523 \nQ 1550 3584 1831 3584 \nQ 2591 3584 2966 3190 \nQ 3341 2797 3341 1997 \nz\n\" transform=\"scale(0.015625)\"/>\n       <path id=\"DejaVuSans-69\" d=\"M 603 3500 \nL 1178 3500 \nL 1178 0 \nL 603 0 \nL 603 3500 \nz\nM 603 4863 \nL 1178 4863 \nL 1178 4134 \nL 603 4134 \nL 603 4863 \nz\n\" transform=\"scale(0.015625)\"/>\n       <path id=\"DejaVuSans-6e\" d=\"M 3513 2113 \nL 3513 0 \nL 2938 0 \nL 2938 2094 \nQ 2938 2591 2744 2837 \nQ 2550 3084 2163 3084 \nQ 1697 3084 1428 2787 \nQ 1159 2491 1159 1978 \nL 1159 0 \nL 581 0 \nL 581 3500 \nL 1159 3500 \nL 1159 2956 \nQ 1366 3272 1645 3428 \nQ 1925 3584 2291 3584 \nQ 2894 3584 3203 3211 \nQ 3513 2838 3513 2113 \nz\n\" transform=\"scale(0.015625)\"/>\n      </defs>\n      <use xlink:href=\"#DejaVuSans-74\"/>\n      <use xlink:href=\"#DejaVuSans-72\" x=\"39.208984\"/>\n      <use xlink:href=\"#DejaVuSans-61\" x=\"80.322266\"/>\n      <use xlink:href=\"#DejaVuSans-69\" x=\"141.601562\"/>\n      <use xlink:href=\"#DejaVuSans-6e\" x=\"169.384766\"/>\n     </g>\n    </g>\n    <g id=\"line2d_18\">\n     <path d=\"M 196.826563 34.976562 \nL 206.826563 34.976562 \nL 216.826563 34.976562 \n\" style=\"fill: none; stroke-dasharray: 1.5,2.475; stroke-dashoffset: 0; stroke: #ff7f0e; stroke-width: 1.5\"/>\n    </g>\n    <g id=\"text_14\">\n     <!-- valid -->\n     <g transform=\"translate(224.826563 38.476562) scale(0.1 -0.1)\">\n      <defs>\n       <path id=\"DejaVuSans-76\" d=\"M 191 3500 \nL 800 3500 \nL 1894 563 \nL 2988 3500 \nL 3597 3500 \nL 2284 0 \nL 1503 0 \nL 191 3500 \nz\n\" transform=\"scale(0.015625)\"/>\n       <path id=\"DejaVuSans-6c\" d=\"M 603 4863 \nL 1178 4863 \nL 1178 0 \nL 603 0 \nL 603 4863 \nz\n\" transform=\"scale(0.015625)\"/>\n       <path id=\"DejaVuSans-64\" d=\"M 2906 2969 \nL 2906 4863 \nL 3481 4863 \nL 3481 0 \nL 2906 0 \nL 2906 525 \nQ 2725 213 2448 61 \nQ 2172 -91 1784 -91 \nQ 1150 -91 751 415 \nQ 353 922 353 1747 \nQ 353 2572 751 3078 \nQ 1150 3584 1784 3584 \nQ 2172 3584 2448 3432 \nQ 2725 3281 2906 2969 \nz\nM 947 1747 \nQ 947 1113 1208 752 \nQ 1469 391 1925 391 \nQ 2381 391 2643 752 \nQ 2906 1113 2906 1747 \nQ 2906 2381 2643 2742 \nQ 2381 3103 1925 3103 \nQ 1469 3103 1208 2742 \nQ 947 2381 947 1747 \nz\n\" transform=\"scale(0.015625)\"/>\n      </defs>\n      <use xlink:href=\"#DejaVuSans-76\"/>\n      <use xlink:href=\"#DejaVuSans-61\" x=\"59.179688\"/>\n      <use xlink:href=\"#DejaVuSans-6c\" x=\"120.458984\"/>\n      <use xlink:href=\"#DejaVuSans-69\" x=\"148.242188\"/>\n      <use xlink:href=\"#DejaVuSans-64\" x=\"176.025391\"/>\n     </g>\n    </g>\n   </g>\n  </g>\n </g>\n <defs>\n  <clipPath id=\"p6625fc948c\">\n   <rect x=\"62.478125\" y=\"7.2\" width=\"195.3\" height=\"138.6\"/>\n  </clipPath>\n </defs>\n</svg>\n"
     },
     "metadata": {},
     "output_type": "display_data"
    }
   ],
   "source": [
    "k, num_epochs, lr, weight_decay, batch_size = 10, 500, 10, 0, 64  \n",
    "train_l, valid_l = k_fold(k, train_features, train_labels, num_epochs, lr, weight_decay, batch_size)\n",
    "print('%d-fold validation: avg train rmse %f, avg valid rmse %f' %  (k, train_l, valid_l))"
   ],
   "metadata": {
    "collapsed": false,
    "ExecuteTime": {
     "end_time": "2024-11-12T06:38:41.670633900Z",
     "start_time": "2024-11-12T06:37:38.100449600Z"
    }
   },
   "id": "9209ccd58a236f18",
   "execution_count": 29
  },
  {
   "cell_type": "code",
   "outputs": [],
   "source": [
    "def train_and_pred(train_features, test_features, train_labels, test_data, num_epochs, lr, weight_decay, batch_size):\n",
    "    # 初始化模型\n",
    "    net = get_net(train_features.shape[1])\n",
    "\n",
    "    # 训练模型并记录训练误差\n",
    "    train_ls, _ = train(net, train_features, train_labels, None, None, num_epochs, lr, weight_decay, batch_size)\n",
    "\n",
    "    # 绘制训练误差随epoch变化的曲线\n",
    "    d2l.semilogy(range(1, num_epochs + 1), train_ls, 'epochs', 'rmse')\n",
    "\n",
    "    # 打印最终的训练RMSE\n",
    "    print('train rmse %f' % train_ls[-1])\n",
    "\n",
    "    # 使用训练好的模型进行预测\n",
    "    preds = net(test_features).detach().numpy()\n",
    "\n",
    "    # 将预测结果添加到测试数据中\n",
    "    test_data['SalePrice'] = pd.Series(preds.reshape(1, -1)[0])\n",
    "\n",
    "    # 创建提交文件并保存\n",
    "    submission = pd.concat([test_data['Id'], test_data['SalePrice']], axis=1)\n",
    "    submission.to_csv('./submission.csv', index=False)\n"
   ],
   "metadata": {
    "collapsed": false,
    "ExecuteTime": {
     "end_time": "2024-11-12T06:38:41.706175Z",
     "start_time": "2024-11-12T06:38:41.673632900Z"
    }
   },
   "id": "72c1e18bef73c147",
   "execution_count": 30
  },
  {
   "cell_type": "code",
   "outputs": [
    {
     "name": "stdout",
     "output_type": "stream",
     "text": [
      "train rmse 1.571473\n"
     ]
    },
    {
     "data": {
      "text/plain": "<Figure size 350x250 with 1 Axes>",
      "image/svg+xml": "<?xml version=\"1.0\" encoding=\"utf-8\" standalone=\"no\"?>\n<!DOCTYPE svg PUBLIC \"-//W3C//DTD SVG 1.1//EN\"\n  \"http://www.w3.org/Graphics/SVG/1.1/DTD/svg11.dtd\">\n<svg xmlns:xlink=\"http://www.w3.org/1999/xlink\" width=\"265.644602pt\" height=\"183.35625pt\" viewBox=\"0 0 265.644602 183.35625\" xmlns=\"http://www.w3.org/2000/svg\" version=\"1.1\">\n <metadata>\n  <rdf:RDF xmlns:dc=\"http://purl.org/dc/elements/1.1/\" xmlns:cc=\"http://creativecommons.org/ns#\" xmlns:rdf=\"http://www.w3.org/1999/02/22-rdf-syntax-ns#\">\n   <cc:Work>\n    <dc:type rdf:resource=\"http://purl.org/dc/dcmitype/StillImage\"/>\n    <dc:date>2024-11-12T14:38:49.577889</dc:date>\n    <dc:format>image/svg+xml</dc:format>\n    <dc:creator>\n     <cc:Agent>\n      <dc:title>Matplotlib v3.8.4, https://matplotlib.org/</dc:title>\n     </cc:Agent>\n    </dc:creator>\n   </cc:Work>\n  </rdf:RDF>\n </metadata>\n <defs>\n  <style type=\"text/css\">*{stroke-linejoin: round; stroke-linecap: butt}</style>\n </defs>\n <g id=\"figure_1\">\n  <g id=\"patch_1\">\n   <path d=\"M 0 183.35625 \nL 265.644602 183.35625 \nL 265.644602 0 \nL 0 0 \nz\n\" style=\"fill: #ffffff\"/>\n  </g>\n  <g id=\"axes_1\">\n   <g id=\"patch_2\">\n    <path d=\"M 62.478125 145.8 \nL 257.778125 145.8 \nL 257.778125 7.2 \nL 62.478125 7.2 \nz\n\" style=\"fill: #ffffff\"/>\n   </g>\n   <g id=\"matplotlib.axis_1\">\n    <g id=\"xtick_1\">\n     <g id=\"line2d_1\">\n      <defs>\n       <path id=\"mc13cac6e32\" d=\"M 0 0 \nL 0 3.5 \n\" style=\"stroke: #000000; stroke-width: 0.8\"/>\n      </defs>\n      <g>\n       <use xlink:href=\"#mc13cac6e32\" x=\"70.999595\" y=\"145.8\" style=\"stroke: #000000; stroke-width: 0.8\"/>\n      </g>\n     </g>\n     <g id=\"text_1\">\n      <!-- 0 -->\n      <g transform=\"translate(67.818345 160.398438) scale(0.1 -0.1)\">\n       <defs>\n        <path id=\"DejaVuSans-30\" d=\"M 2034 4250 \nQ 1547 4250 1301 3770 \nQ 1056 3291 1056 2328 \nQ 1056 1369 1301 889 \nQ 1547 409 2034 409 \nQ 2525 409 2770 889 \nQ 3016 1369 3016 2328 \nQ 3016 3291 2770 3770 \nQ 2525 4250 2034 4250 \nz\nM 2034 4750 \nQ 2819 4750 3233 4129 \nQ 3647 3509 3647 2328 \nQ 3647 1150 3233 529 \nQ 2819 -91 2034 -91 \nQ 1250 -91 836 529 \nQ 422 1150 422 2328 \nQ 422 3509 836 4129 \nQ 1250 4750 2034 4750 \nz\n\" transform=\"scale(0.015625)\"/>\n       </defs>\n       <use xlink:href=\"#DejaVuSans-30\"/>\n      </g>\n     </g>\n    </g>\n    <g id=\"xtick_2\">\n     <g id=\"line2d_2\">\n      <g>\n       <use xlink:href=\"#mc13cac6e32\" x=\"106.579847\" y=\"145.8\" style=\"stroke: #000000; stroke-width: 0.8\"/>\n      </g>\n     </g>\n     <g id=\"text_2\">\n      <!-- 100 -->\n      <g transform=\"translate(97.036097 160.398438) scale(0.1 -0.1)\">\n       <defs>\n        <path id=\"DejaVuSans-31\" d=\"M 794 531 \nL 1825 531 \nL 1825 4091 \nL 703 3866 \nL 703 4441 \nL 1819 4666 \nL 2450 4666 \nL 2450 531 \nL 3481 531 \nL 3481 0 \nL 794 0 \nL 794 531 \nz\n\" transform=\"scale(0.015625)\"/>\n       </defs>\n       <use xlink:href=\"#DejaVuSans-31\"/>\n       <use xlink:href=\"#DejaVuSans-30\" x=\"63.623047\"/>\n       <use xlink:href=\"#DejaVuSans-30\" x=\"127.246094\"/>\n      </g>\n     </g>\n    </g>\n    <g id=\"xtick_3\">\n     <g id=\"line2d_3\">\n      <g>\n       <use xlink:href=\"#mc13cac6e32\" x=\"142.160098\" y=\"145.8\" style=\"stroke: #000000; stroke-width: 0.8\"/>\n      </g>\n     </g>\n     <g id=\"text_3\">\n      <!-- 200 -->\n      <g transform=\"translate(132.616348 160.398438) scale(0.1 -0.1)\">\n       <defs>\n        <path id=\"DejaVuSans-32\" d=\"M 1228 531 \nL 3431 531 \nL 3431 0 \nL 469 0 \nL 469 531 \nQ 828 903 1448 1529 \nQ 2069 2156 2228 2338 \nQ 2531 2678 2651 2914 \nQ 2772 3150 2772 3378 \nQ 2772 3750 2511 3984 \nQ 2250 4219 1831 4219 \nQ 1534 4219 1204 4116 \nQ 875 4013 500 3803 \nL 500 4441 \nQ 881 4594 1212 4672 \nQ 1544 4750 1819 4750 \nQ 2544 4750 2975 4387 \nQ 3406 4025 3406 3419 \nQ 3406 3131 3298 2873 \nQ 3191 2616 2906 2266 \nQ 2828 2175 2409 1742 \nQ 1991 1309 1228 531 \nz\n\" transform=\"scale(0.015625)\"/>\n       </defs>\n       <use xlink:href=\"#DejaVuSans-32\"/>\n       <use xlink:href=\"#DejaVuSans-30\" x=\"63.623047\"/>\n       <use xlink:href=\"#DejaVuSans-30\" x=\"127.246094\"/>\n      </g>\n     </g>\n    </g>\n    <g id=\"xtick_4\">\n     <g id=\"line2d_4\">\n      <g>\n       <use xlink:href=\"#mc13cac6e32\" x=\"177.740349\" y=\"145.8\" style=\"stroke: #000000; stroke-width: 0.8\"/>\n      </g>\n     </g>\n     <g id=\"text_4\">\n      <!-- 300 -->\n      <g transform=\"translate(168.196599 160.398438) scale(0.1 -0.1)\">\n       <defs>\n        <path id=\"DejaVuSans-33\" d=\"M 2597 2516 \nQ 3050 2419 3304 2112 \nQ 3559 1806 3559 1356 \nQ 3559 666 3084 287 \nQ 2609 -91 1734 -91 \nQ 1441 -91 1130 -33 \nQ 819 25 488 141 \nL 488 750 \nQ 750 597 1062 519 \nQ 1375 441 1716 441 \nQ 2309 441 2620 675 \nQ 2931 909 2931 1356 \nQ 2931 1769 2642 2001 \nQ 2353 2234 1838 2234 \nL 1294 2234 \nL 1294 2753 \nL 1863 2753 \nQ 2328 2753 2575 2939 \nQ 2822 3125 2822 3475 \nQ 2822 3834 2567 4026 \nQ 2313 4219 1838 4219 \nQ 1578 4219 1281 4162 \nQ 984 4106 628 3988 \nL 628 4550 \nQ 988 4650 1302 4700 \nQ 1616 4750 1894 4750 \nQ 2613 4750 3031 4423 \nQ 3450 4097 3450 3541 \nQ 3450 3153 3228 2886 \nQ 3006 2619 2597 2516 \nz\n\" transform=\"scale(0.015625)\"/>\n       </defs>\n       <use xlink:href=\"#DejaVuSans-33\"/>\n       <use xlink:href=\"#DejaVuSans-30\" x=\"63.623047\"/>\n       <use xlink:href=\"#DejaVuSans-30\" x=\"127.246094\"/>\n      </g>\n     </g>\n    </g>\n    <g id=\"xtick_5\">\n     <g id=\"line2d_5\">\n      <g>\n       <use xlink:href=\"#mc13cac6e32\" x=\"213.320601\" y=\"145.8\" style=\"stroke: #000000; stroke-width: 0.8\"/>\n      </g>\n     </g>\n     <g id=\"text_5\">\n      <!-- 400 -->\n      <g transform=\"translate(203.776851 160.398438) scale(0.1 -0.1)\">\n       <defs>\n        <path id=\"DejaVuSans-34\" d=\"M 2419 4116 \nL 825 1625 \nL 2419 1625 \nL 2419 4116 \nz\nM 2253 4666 \nL 3047 4666 \nL 3047 1625 \nL 3713 1625 \nL 3713 1100 \nL 3047 1100 \nL 3047 0 \nL 2419 0 \nL 2419 1100 \nL 313 1100 \nL 313 1709 \nL 2253 4666 \nz\n\" transform=\"scale(0.015625)\"/>\n       </defs>\n       <use xlink:href=\"#DejaVuSans-34\"/>\n       <use xlink:href=\"#DejaVuSans-30\" x=\"63.623047\"/>\n       <use xlink:href=\"#DejaVuSans-30\" x=\"127.246094\"/>\n      </g>\n     </g>\n    </g>\n    <g id=\"xtick_6\">\n     <g id=\"line2d_6\">\n      <g>\n       <use xlink:href=\"#mc13cac6e32\" x=\"248.900852\" y=\"145.8\" style=\"stroke: #000000; stroke-width: 0.8\"/>\n      </g>\n     </g>\n     <g id=\"text_6\">\n      <!-- 500 -->\n      <g transform=\"translate(239.357102 160.398438) scale(0.1 -0.1)\">\n       <defs>\n        <path id=\"DejaVuSans-35\" d=\"M 691 4666 \nL 3169 4666 \nL 3169 4134 \nL 1269 4134 \nL 1269 2991 \nQ 1406 3038 1543 3061 \nQ 1681 3084 1819 3084 \nQ 2600 3084 3056 2656 \nQ 3513 2228 3513 1497 \nQ 3513 744 3044 326 \nQ 2575 -91 1722 -91 \nQ 1428 -91 1123 -41 \nQ 819 9 494 109 \nL 494 744 \nQ 775 591 1075 516 \nQ 1375 441 1709 441 \nQ 2250 441 2565 725 \nQ 2881 1009 2881 1497 \nQ 2881 1984 2565 2268 \nQ 2250 2553 1709 2553 \nQ 1456 2553 1204 2497 \nQ 953 2441 691 2322 \nL 691 4666 \nz\n\" transform=\"scale(0.015625)\"/>\n       </defs>\n       <use xlink:href=\"#DejaVuSans-35\"/>\n       <use xlink:href=\"#DejaVuSans-30\" x=\"63.623047\"/>\n       <use xlink:href=\"#DejaVuSans-30\" x=\"127.246094\"/>\n      </g>\n     </g>\n    </g>\n    <g id=\"text_7\">\n     <!-- epochs -->\n     <g transform=\"translate(142.295313 174.076563) scale(0.1 -0.1)\">\n      <defs>\n       <path id=\"DejaVuSans-65\" d=\"M 3597 1894 \nL 3597 1613 \nL 953 1613 \nQ 991 1019 1311 708 \nQ 1631 397 2203 397 \nQ 2534 397 2845 478 \nQ 3156 559 3463 722 \nL 3463 178 \nQ 3153 47 2828 -22 \nQ 2503 -91 2169 -91 \nQ 1331 -91 842 396 \nQ 353 884 353 1716 \nQ 353 2575 817 3079 \nQ 1281 3584 2069 3584 \nQ 2775 3584 3186 3129 \nQ 3597 2675 3597 1894 \nz\nM 3022 2063 \nQ 3016 2534 2758 2815 \nQ 2500 3097 2075 3097 \nQ 1594 3097 1305 2825 \nQ 1016 2553 972 2059 \nL 3022 2063 \nz\n\" transform=\"scale(0.015625)\"/>\n       <path id=\"DejaVuSans-70\" d=\"M 1159 525 \nL 1159 -1331 \nL 581 -1331 \nL 581 3500 \nL 1159 3500 \nL 1159 2969 \nQ 1341 3281 1617 3432 \nQ 1894 3584 2278 3584 \nQ 2916 3584 3314 3078 \nQ 3713 2572 3713 1747 \nQ 3713 922 3314 415 \nQ 2916 -91 2278 -91 \nQ 1894 -91 1617 61 \nQ 1341 213 1159 525 \nz\nM 3116 1747 \nQ 3116 2381 2855 2742 \nQ 2594 3103 2138 3103 \nQ 1681 3103 1420 2742 \nQ 1159 2381 1159 1747 \nQ 1159 1113 1420 752 \nQ 1681 391 2138 391 \nQ 2594 391 2855 752 \nQ 3116 1113 3116 1747 \nz\n\" transform=\"scale(0.015625)\"/>\n       <path id=\"DejaVuSans-6f\" d=\"M 1959 3097 \nQ 1497 3097 1228 2736 \nQ 959 2375 959 1747 \nQ 959 1119 1226 758 \nQ 1494 397 1959 397 \nQ 2419 397 2687 759 \nQ 2956 1122 2956 1747 \nQ 2956 2369 2687 2733 \nQ 2419 3097 1959 3097 \nz\nM 1959 3584 \nQ 2709 3584 3137 3096 \nQ 3566 2609 3566 1747 \nQ 3566 888 3137 398 \nQ 2709 -91 1959 -91 \nQ 1206 -91 779 398 \nQ 353 888 353 1747 \nQ 353 2609 779 3096 \nQ 1206 3584 1959 3584 \nz\n\" transform=\"scale(0.015625)\"/>\n       <path id=\"DejaVuSans-63\" d=\"M 3122 3366 \nL 3122 2828 \nQ 2878 2963 2633 3030 \nQ 2388 3097 2138 3097 \nQ 1578 3097 1268 2742 \nQ 959 2388 959 1747 \nQ 959 1106 1268 751 \nQ 1578 397 2138 397 \nQ 2388 397 2633 464 \nQ 2878 531 3122 666 \nL 3122 134 \nQ 2881 22 2623 -34 \nQ 2366 -91 2075 -91 \nQ 1284 -91 818 406 \nQ 353 903 353 1747 \nQ 353 2603 823 3093 \nQ 1294 3584 2113 3584 \nQ 2378 3584 2631 3529 \nQ 2884 3475 3122 3366 \nz\n\" transform=\"scale(0.015625)\"/>\n       <path id=\"DejaVuSans-68\" d=\"M 3513 2113 \nL 3513 0 \nL 2938 0 \nL 2938 2094 \nQ 2938 2591 2744 2837 \nQ 2550 3084 2163 3084 \nQ 1697 3084 1428 2787 \nQ 1159 2491 1159 1978 \nL 1159 0 \nL 581 0 \nL 581 4863 \nL 1159 4863 \nL 1159 2956 \nQ 1366 3272 1645 3428 \nQ 1925 3584 2291 3584 \nQ 2894 3584 3203 3211 \nQ 3513 2838 3513 2113 \nz\n\" transform=\"scale(0.015625)\"/>\n       <path id=\"DejaVuSans-73\" d=\"M 2834 3397 \nL 2834 2853 \nQ 2591 2978 2328 3040 \nQ 2066 3103 1784 3103 \nQ 1356 3103 1142 2972 \nQ 928 2841 928 2578 \nQ 928 2378 1081 2264 \nQ 1234 2150 1697 2047 \nL 1894 2003 \nQ 2506 1872 2764 1633 \nQ 3022 1394 3022 966 \nQ 3022 478 2636 193 \nQ 2250 -91 1575 -91 \nQ 1294 -91 989 -36 \nQ 684 19 347 128 \nL 347 722 \nQ 666 556 975 473 \nQ 1284 391 1588 391 \nQ 1994 391 2212 530 \nQ 2431 669 2431 922 \nQ 2431 1156 2273 1281 \nQ 2116 1406 1581 1522 \nL 1381 1569 \nQ 847 1681 609 1914 \nQ 372 2147 372 2553 \nQ 372 3047 722 3315 \nQ 1072 3584 1716 3584 \nQ 2034 3584 2315 3537 \nQ 2597 3491 2834 3397 \nz\n\" transform=\"scale(0.015625)\"/>\n      </defs>\n      <use xlink:href=\"#DejaVuSans-65\"/>\n      <use xlink:href=\"#DejaVuSans-70\" x=\"61.523438\"/>\n      <use xlink:href=\"#DejaVuSans-6f\" x=\"125\"/>\n      <use xlink:href=\"#DejaVuSans-63\" x=\"186.181641\"/>\n      <use xlink:href=\"#DejaVuSans-68\" x=\"241.162109\"/>\n      <use xlink:href=\"#DejaVuSans-73\" x=\"304.541016\"/>\n     </g>\n    </g>\n   </g>\n   <g id=\"matplotlib.axis_2\">\n    <g id=\"ytick_1\">\n     <g id=\"line2d_7\">\n      <defs>\n       <path id=\"m06d98df6c8\" d=\"M 0 0 \nL -2 0 \n\" style=\"stroke: #000000; stroke-width: 0.6\"/>\n      </defs>\n      <g>\n       <use xlink:href=\"#m06d98df6c8\" x=\"62.478125\" y=\"121.661608\" style=\"stroke: #000000; stroke-width: 0.6\"/>\n      </g>\n     </g>\n     <g id=\"text_8\">\n      <!-- $\\mathdefault{2\\times10^{0}}$ -->\n      <g transform=\"translate(20.878125 125.460826) scale(0.1 -0.1)\">\n       <defs>\n        <path id=\"DejaVuSans-d7\" d=\"M 4488 3438 \nL 3059 2003 \nL 4488 575 \nL 4116 197 \nL 2681 1631 \nL 1247 197 \nL 878 575 \nL 2303 2003 \nL 878 3438 \nL 1247 3816 \nL 2681 2381 \nL 4116 3816 \nL 4488 3438 \nz\n\" transform=\"scale(0.015625)\"/>\n       </defs>\n       <use xlink:href=\"#DejaVuSans-32\" transform=\"translate(0 0.765625)\"/>\n       <use xlink:href=\"#DejaVuSans-d7\" transform=\"translate(83.105469 0.765625)\"/>\n       <use xlink:href=\"#DejaVuSans-31\" transform=\"translate(186.376953 0.765625)\"/>\n       <use xlink:href=\"#DejaVuSans-30\" transform=\"translate(250 0.765625)\"/>\n       <use xlink:href=\"#DejaVuSans-30\" transform=\"translate(314.580078 39.046875) scale(0.7)\"/>\n      </g>\n     </g>\n    </g>\n    <g id=\"ytick_2\">\n     <g id=\"line2d_8\">\n      <g>\n       <use xlink:href=\"#m06d98df6c8\" x=\"62.478125\" y=\"91.666422\" style=\"stroke: #000000; stroke-width: 0.6\"/>\n      </g>\n     </g>\n     <g id=\"text_9\">\n      <!-- $\\mathdefault{3\\times10^{0}}$ -->\n      <g transform=\"translate(20.878125 95.465641) scale(0.1 -0.1)\">\n       <use xlink:href=\"#DejaVuSans-33\" transform=\"translate(0 0.765625)\"/>\n       <use xlink:href=\"#DejaVuSans-d7\" transform=\"translate(83.105469 0.765625)\"/>\n       <use xlink:href=\"#DejaVuSans-31\" transform=\"translate(186.376953 0.765625)\"/>\n       <use xlink:href=\"#DejaVuSans-30\" transform=\"translate(250 0.765625)\"/>\n       <use xlink:href=\"#DejaVuSans-30\" transform=\"translate(314.580078 39.046875) scale(0.7)\"/>\n      </g>\n     </g>\n    </g>\n    <g id=\"ytick_3\">\n     <g id=\"line2d_9\">\n      <g>\n       <use xlink:href=\"#m06d98df6c8\" x=\"62.478125\" y=\"70.3845\" style=\"stroke: #000000; stroke-width: 0.6\"/>\n      </g>\n     </g>\n     <g id=\"text_10\">\n      <!-- $\\mathdefault{4\\times10^{0}}$ -->\n      <g transform=\"translate(20.878125 74.183718) scale(0.1 -0.1)\">\n       <use xlink:href=\"#DejaVuSans-34\" transform=\"translate(0 0.765625)\"/>\n       <use xlink:href=\"#DejaVuSans-d7\" transform=\"translate(83.105469 0.765625)\"/>\n       <use xlink:href=\"#DejaVuSans-31\" transform=\"translate(186.376953 0.765625)\"/>\n       <use xlink:href=\"#DejaVuSans-30\" transform=\"translate(250 0.765625)\"/>\n       <use xlink:href=\"#DejaVuSans-30\" transform=\"translate(314.580078 39.046875) scale(0.7)\"/>\n      </g>\n     </g>\n    </g>\n    <g id=\"ytick_4\">\n     <g id=\"line2d_10\">\n      <g>\n       <use xlink:href=\"#m06d98df6c8\" x=\"62.478125\" y=\"53.876958\" style=\"stroke: #000000; stroke-width: 0.6\"/>\n      </g>\n     </g>\n    </g>\n    <g id=\"ytick_5\">\n     <g id=\"line2d_11\">\n      <g>\n       <use xlink:href=\"#m06d98df6c8\" x=\"62.478125\" y=\"40.389314\" style=\"stroke: #000000; stroke-width: 0.6\"/>\n      </g>\n     </g>\n     <g id=\"text_11\">\n      <!-- $\\mathdefault{6\\times10^{0}}$ -->\n      <g transform=\"translate(20.878125 44.188533) scale(0.1 -0.1)\">\n       <defs>\n        <path id=\"DejaVuSans-36\" d=\"M 2113 2584 \nQ 1688 2584 1439 2293 \nQ 1191 2003 1191 1497 \nQ 1191 994 1439 701 \nQ 1688 409 2113 409 \nQ 2538 409 2786 701 \nQ 3034 994 3034 1497 \nQ 3034 2003 2786 2293 \nQ 2538 2584 2113 2584 \nz\nM 3366 4563 \nL 3366 3988 \nQ 3128 4100 2886 4159 \nQ 2644 4219 2406 4219 \nQ 1781 4219 1451 3797 \nQ 1122 3375 1075 2522 \nQ 1259 2794 1537 2939 \nQ 1816 3084 2150 3084 \nQ 2853 3084 3261 2657 \nQ 3669 2231 3669 1497 \nQ 3669 778 3244 343 \nQ 2819 -91 2113 -91 \nQ 1303 -91 875 529 \nQ 447 1150 447 2328 \nQ 447 3434 972 4092 \nQ 1497 4750 2381 4750 \nQ 2619 4750 2861 4703 \nQ 3103 4656 3366 4563 \nz\n\" transform=\"scale(0.015625)\"/>\n       </defs>\n       <use xlink:href=\"#DejaVuSans-36\" transform=\"translate(0 0.765625)\"/>\n       <use xlink:href=\"#DejaVuSans-d7\" transform=\"translate(83.105469 0.765625)\"/>\n       <use xlink:href=\"#DejaVuSans-31\" transform=\"translate(186.376953 0.765625)\"/>\n       <use xlink:href=\"#DejaVuSans-30\" transform=\"translate(250 0.765625)\"/>\n       <use xlink:href=\"#DejaVuSans-30\" transform=\"translate(314.580078 39.046875) scale(0.7)\"/>\n      </g>\n     </g>\n    </g>\n    <g id=\"ytick_6\">\n     <g id=\"line2d_12\">\n      <g>\n       <use xlink:href=\"#m06d98df6c8\" x=\"62.478125\" y=\"28.985674\" style=\"stroke: #000000; stroke-width: 0.6\"/>\n      </g>\n     </g>\n    </g>\n    <g id=\"ytick_7\">\n     <g id=\"line2d_13\">\n      <g>\n       <use xlink:href=\"#m06d98df6c8\" x=\"62.478125\" y=\"19.107392\" style=\"stroke: #000000; stroke-width: 0.6\"/>\n      </g>\n     </g>\n    </g>\n    <g id=\"ytick_8\">\n     <g id=\"line2d_14\">\n      <g>\n       <use xlink:href=\"#m06d98df6c8\" x=\"62.478125\" y=\"10.394129\" style=\"stroke: #000000; stroke-width: 0.6\"/>\n      </g>\n     </g>\n    </g>\n    <g id=\"text_12\">\n     <!-- rmse -->\n     <g transform=\"translate(14.798437 89.019531) rotate(-90) scale(0.1 -0.1)\">\n      <defs>\n       <path id=\"DejaVuSans-72\" d=\"M 2631 2963 \nQ 2534 3019 2420 3045 \nQ 2306 3072 2169 3072 \nQ 1681 3072 1420 2755 \nQ 1159 2438 1159 1844 \nL 1159 0 \nL 581 0 \nL 581 3500 \nL 1159 3500 \nL 1159 2956 \nQ 1341 3275 1631 3429 \nQ 1922 3584 2338 3584 \nQ 2397 3584 2469 3576 \nQ 2541 3569 2628 3553 \nL 2631 2963 \nz\n\" transform=\"scale(0.015625)\"/>\n       <path id=\"DejaVuSans-6d\" d=\"M 3328 2828 \nQ 3544 3216 3844 3400 \nQ 4144 3584 4550 3584 \nQ 5097 3584 5394 3201 \nQ 5691 2819 5691 2113 \nL 5691 0 \nL 5113 0 \nL 5113 2094 \nQ 5113 2597 4934 2840 \nQ 4756 3084 4391 3084 \nQ 3944 3084 3684 2787 \nQ 3425 2491 3425 1978 \nL 3425 0 \nL 2847 0 \nL 2847 2094 \nQ 2847 2600 2669 2842 \nQ 2491 3084 2119 3084 \nQ 1678 3084 1418 2786 \nQ 1159 2488 1159 1978 \nL 1159 0 \nL 581 0 \nL 581 3500 \nL 1159 3500 \nL 1159 2956 \nQ 1356 3278 1631 3431 \nQ 1906 3584 2284 3584 \nQ 2666 3584 2933 3390 \nQ 3200 3197 3328 2828 \nz\n\" transform=\"scale(0.015625)\"/>\n      </defs>\n      <use xlink:href=\"#DejaVuSans-72\"/>\n      <use xlink:href=\"#DejaVuSans-6d\" x=\"39.363281\"/>\n      <use xlink:href=\"#DejaVuSans-73\" x=\"136.775391\"/>\n      <use xlink:href=\"#DejaVuSans-65\" x=\"188.875\"/>\n     </g>\n    </g>\n   </g>\n   <g id=\"line2d_15\">\n    <path d=\"M 71.355398 13.5 \nL 72.067003 15.397317 \nL 73.13441 15.898539 \nL 74.201818 16.234452 \nL 75.98083 16.333063 \nL 76.336633 16.485418 \nL 76.692435 16.49307 \nL 77.048238 16.360164 \nL 77.759843 16.39763 \nL 78.471448 16.725727 \nL 79.183053 16.582839 \nL 79.538856 16.719109 \nL 80.250461 17.186225 \nL 80.962066 17.295382 \nL 81.317868 17.297395 \nL 82.029473 17.49056 \nL 82.385276 17.503891 \nL 82.741078 17.756524 \nL 83.096881 17.766717 \nL 83.452683 17.908572 \nL 83.808486 17.866856 \nL 85.587498 18.374333 \nL 86.299103 18.737541 \nL 87.010708 18.888613 \nL 87.722313 19.13054 \nL 88.078116 19.109089 \nL 88.789721 19.579274 \nL 90.212931 20.155632 \nL 91.636141 20.71702 \nL 92.347746 21.121938 \nL 94.126759 21.524082 \nL 94.838364 21.857928 \nL 95.905771 22.03261 \nL 96.617376 22.307814 \nL 97.328981 22.743967 \nL 99.819599 23.935109 \nL 100.175401 24.249083 \nL 101.242809 24.655541 \nL 101.954414 24.955398 \nL 102.310216 25.092011 \nL 102.666019 25.353674 \nL 103.021821 25.407161 \nL 104.800834 26.370451 \nL 105.512439 26.581154 \nL 105.868242 26.654694 \nL 106.224044 26.887471 \nL 106.935649 27.17953 \nL 107.291452 27.579251 \nL 111.205279 29.050483 \nL 111.916884 29.742937 \nL 113.340094 30.314134 \nL 114.051699 30.690708 \nL 114.407502 30.824002 \nL 114.763304 31.271039 \nL 115.119107 31.15694 \nL 115.474909 31.472911 \nL 115.830712 31.516519 \nL 116.186515 31.872808 \nL 116.542317 31.903777 \nL 117.253922 32.494186 \nL 117.965527 32.628507 \nL 118.677132 33.04449 \nL 120.100342 33.777849 \nL 120.456145 33.99468 \nL 120.811947 34.013788 \nL 122.59096 35.204479 \nL 123.302565 35.455616 \nL 123.658367 35.784673 \nL 124.01417 35.938428 \nL 124.369972 35.848463 \nL 125.43738 36.777202 \nL 125.793182 36.781552 \nL 127.216392 37.432679 \nL 127.572195 37.694043 \nL 128.2838 37.760869 \nL 128.995405 38.218919 \nL 130.062813 38.656818 \nL 130.418615 39.418237 \nL 130.774418 39.691459 \nL 131.13022 39.50521 \nL 131.841825 40.003039 \nL 132.55343 40.970781 \nL 132.909233 40.795379 \nL 133.265035 40.917624 \nL 133.97664 41.678535 \nL 134.688245 42.09378 \nL 135.044048 42.068498 \nL 135.39985 42.525473 \nL 135.755653 43.228383 \nL 136.111455 42.943157 \nL 136.467258 43.463336 \nL 136.82306 43.711551 \nL 137.178863 43.601304 \nL 137.534665 44.119173 \nL 137.890468 44.376197 \nL 138.24627 44.378561 \nL 138.602073 44.513878 \nL 138.957875 45.244851 \nL 139.313678 45.252334 \nL 139.66948 45.827073 \nL 140.025283 46.042012 \nL 140.381085 45.990988 \nL 141.09269 46.431979 \nL 142.515901 46.786838 \nL 143.227506 47.174621 \nL 143.583308 47.071493 \nL 144.650716 47.769299 \nL 145.006518 48.080439 \nL 145.362321 48.144519 \nL 145.718123 48.52639 \nL 146.073926 48.573283 \nL 146.785531 49.135931 \nL 148.208741 49.752724 \nL 148.564543 50.428081 \nL 149.276148 50.294229 \nL 149.631951 50.623521 \nL 149.987753 51.112767 \nL 150.699358 51.270506 \nL 152.478371 51.96492 \nL 152.834173 52.592436 \nL 153.545778 52.801355 \nL 154.613186 53.074486 \nL 154.968989 53.309308 \nL 155.324791 54.242165 \nL 155.680594 54.339993 \nL 156.392199 54.993659 \nL 156.748001 54.870899 \nL 157.459606 55.040401 \nL 158.527014 56.181876 \nL 158.882816 56.361387 \nL 159.238619 56.740016 \nL 159.594421 57.545576 \nL 160.306026 57.934511 \nL 160.661829 58.027297 \nL 161.017631 57.974991 \nL 161.373434 58.891343 \nL 161.729236 58.659903 \nL 162.085039 59.515544 \nL 162.440841 59.475621 \nL 162.796644 59.570064 \nL 163.508249 60.078405 \nL 163.864051 60.062947 \nL 164.219854 60.648541 \nL 164.575656 60.429244 \nL 165.643064 61.041637 \nL 165.998866 60.76581 \nL 166.710472 61.61792 \nL 167.066274 61.613643 \nL 167.422077 61.834317 \nL 167.777879 61.772295 \nL 168.133682 62.037073 \nL 168.845287 62.161631 \nL 169.201089 62.15303 \nL 169.912694 62.907061 \nL 170.268497 62.672902 \nL 170.624299 62.835397 \nL 170.980102 63.154086 \nL 171.335904 63.773723 \nL 171.691707 63.709498 \nL 172.047509 64.060412 \nL 172.403312 63.905419 \nL 172.759114 64.311756 \nL 173.114917 65.105491 \nL 173.470719 65.468775 \nL 173.826522 65.218517 \nL 174.182324 65.704566 \nL 174.538127 64.887733 \nL 175.249732 66.27594 \nL 175.605534 66.406898 \nL 175.961337 66.234774 \nL 177.028744 67.369329 \nL 177.384547 67.55952 \nL 177.740349 68.07454 \nL 178.096152 68.152237 \nL 178.451954 68.729213 \nL 178.807757 68.851969 \nL 179.16356 69.385642 \nL 179.519362 69.569879 \nL 179.875165 69.990794 \nL 180.58677 70.092092 \nL 180.942572 70.651741 \nL 181.298375 71.542496 \nL 182.00998 72.105275 \nL 182.365782 72.290831 \nL 183.077387 72.934951 \nL 183.43319 73.154827 \nL 183.788992 73.802705 \nL 184.144795 73.904766 \nL 184.500597 74.179593 \nL 184.8564 74.287652 \nL 185.212202 74.736459 \nL 185.568005 74.642066 \nL 185.923807 74.823953 \nL 186.27961 75.330715 \nL 186.635412 75.507064 \nL 186.991215 75.299993 \nL 187.347017 75.969972 \nL 187.70282 75.959165 \nL 188.058622 76.376295 \nL 188.414425 76.452502 \nL 188.770227 77.316456 \nL 189.12603 77.380628 \nL 189.481832 77.573032 \nL 190.193437 78.3265 \nL 190.54924 78.012728 \nL 190.905042 78.333015 \nL 191.260845 79.148863 \nL 191.97245 80.078774 \nL 192.328253 80.036808 \nL 192.684055 80.154969 \nL 193.039858 80.459607 \nL 193.39566 81.518479 \nL 193.751463 81.761857 \nL 194.107265 81.629274 \nL 194.81887 82.158667 \nL 195.530475 82.520492 \nL 195.886278 83.216508 \nL 196.597883 83.748322 \nL 196.953685 83.71532 \nL 197.309488 84.894802 \nL 198.021093 86.095309 \nL 198.376895 85.847529 \nL 198.732698 86.186382 \nL 199.0885 86.215797 \nL 199.444303 86.510879 \nL 199.800105 86.417846 \nL 200.51171 87.287166 \nL 200.867513 87.158311 \nL 201.223315 88.611895 \nL 201.579118 88.788138 \nL 202.290723 88.772861 \nL 202.646525 89.016039 \nL 203.35813 89.075372 \nL 203.713933 89.910647 \nL 204.425538 90.032802 \nL 204.781341 90.401747 \nL 205.137143 90.595065 \nL 205.492946 91.188691 \nL 205.848748 91.528091 \nL 206.204551 92.444209 \nL 206.560353 92.056327 \nL 206.916156 91.990451 \nL 207.627761 92.535792 \nL 208.695168 94.022732 \nL 209.050971 93.444051 \nL 209.762576 94.960163 \nL 210.118378 94.685877 \nL 210.474181 95.092943 \nL 210.829983 95.249526 \nL 211.185786 94.947471 \nL 211.541588 95.399051 \nL 211.897391 95.41576 \nL 212.253193 95.066494 \nL 212.608996 95.504071 \nL 212.964798 95.486673 \nL 213.320601 96.822532 \nL 213.676403 97.006579 \nL 214.032206 96.706096 \nL 214.743811 97.462914 \nL 215.099613 96.789685 \nL 215.811218 99.349517 \nL 216.167021 99.580249 \nL 216.522823 100.519206 \nL 216.878626 99.762709 \nL 217.234429 101.84862 \nL 217.590231 102.02022 \nL 217.946034 102.468127 \nL 218.301836 102.659307 \nL 218.657639 103.060564 \nL 219.013441 103.068287 \nL 219.369244 103.675119 \nL 219.725046 103.430946 \nL 220.080849 103.885327 \nL 220.436651 104.936365 \nL 220.792454 104.009013 \nL 221.148256 103.967525 \nL 221.504059 104.909689 \nL 221.859861 105.171487 \nL 222.215664 106.606323 \nL 222.571466 107.053995 \nL 222.927269 107.283436 \nL 223.283071 107.307583 \nL 223.638874 107.807912 \nL 223.994676 108.864198 \nL 224.350479 108.625136 \nL 224.706281 109.638162 \nL 225.062084 109.542801 \nL 225.417886 110.160169 \nL 225.773689 111.158813 \nL 226.129491 110.984769 \nL 226.841096 111.305746 \nL 227.196899 113.899826 \nL 227.552701 114.416784 \nL 227.908504 117.042171 \nL 228.264306 116.467767 \nL 228.620109 116.749052 \nL 228.975911 117.480564 \nL 229.331714 117.383077 \nL 229.687517 116.766383 \nL 230.043319 117.215197 \nL 230.399122 119.11604 \nL 230.754924 118.035202 \nL 231.110727 118.062254 \nL 231.822332 120.245012 \nL 232.178134 119.651106 \nL 232.533937 120.351632 \nL 232.889739 120.597882 \nL 233.245542 119.836622 \nL 233.601344 120.768145 \nL 233.957147 120.858387 \nL 234.668752 122.332437 \nL 235.024554 120.992939 \nL 235.380357 123.094935 \nL 235.736159 122.348947 \nL 236.091962 123.945761 \nL 236.447764 124.299672 \nL 236.803567 124.438138 \nL 237.159369 125.319098 \nL 237.515172 124.661649 \nL 237.870974 125.43192 \nL 238.226777 125.471528 \nL 238.582579 124.940926 \nL 238.938382 125.377639 \nL 239.294184 127.187617 \nL 239.649987 127.485953 \nL 240.005789 125.954586 \nL 240.361592 127.034648 \nL 240.717394 127.64999 \nL 241.073197 127.88224 \nL 241.428999 127.948122 \nL 241.784802 128.746033 \nL 242.140605 128.849775 \nL 242.496407 129.807371 \nL 242.85221 130.110469 \nL 243.208012 129.894657 \nL 244.27542 130.388632 \nL 244.987025 132.027022 \nL 245.342827 132.503403 \nL 245.69863 131.546371 \nL 246.054432 133.433267 \nL 246.410235 133.343241 \nL 247.12184 135.829873 \nL 247.477642 134.704329 \nL 247.833445 136.948071 \nL 248.189247 138.335453 \nL 248.54505 136.347202 \nL 248.900852 139.5 \nL 248.900852 139.5 \n\" clip-path=\"url(#p7a3b769393)\" style=\"fill: none; stroke: #1f77b4; stroke-width: 1.5; stroke-linecap: square\"/>\n   </g>\n   <g id=\"patch_3\">\n    <path d=\"M 62.478125 145.8 \nL 62.478125 7.2 \n\" style=\"fill: none; stroke: #000000; stroke-width: 0.8; stroke-linejoin: miter; stroke-linecap: square\"/>\n   </g>\n   <g id=\"patch_4\">\n    <path d=\"M 257.778125 145.8 \nL 257.778125 7.2 \n\" style=\"fill: none; stroke: #000000; stroke-width: 0.8; stroke-linejoin: miter; stroke-linecap: square\"/>\n   </g>\n   <g id=\"patch_5\">\n    <path d=\"M 62.478125 145.8 \nL 257.778125 145.8 \n\" style=\"fill: none; stroke: #000000; stroke-width: 0.8; stroke-linejoin: miter; stroke-linecap: square\"/>\n   </g>\n   <g id=\"patch_6\">\n    <path d=\"M 62.478125 7.2 \nL 257.778125 7.2 \n\" style=\"fill: none; stroke: #000000; stroke-width: 0.8; stroke-linejoin: miter; stroke-linecap: square\"/>\n   </g>\n  </g>\n </g>\n <defs>\n  <clipPath id=\"p7a3b769393\">\n   <rect x=\"62.478125\" y=\"7.2\" width=\"195.3\" height=\"138.6\"/>\n  </clipPath>\n </defs>\n</svg>\n"
     },
     "metadata": {},
     "output_type": "display_data"
    }
   ],
   "source": [
    "train_and_pred(train_features, test_features, train_labels,  test_data, num_epochs, lr, weight_decay, batch_size)"
   ],
   "metadata": {
    "collapsed": false,
    "ExecuteTime": {
     "end_time": "2024-11-12T06:38:49.653423500Z",
     "start_time": "2024-11-12T06:38:41.689665100Z"
    }
   },
   "id": "b0c6a332633ad8c2",
   "execution_count": 31
  },
  {
   "cell_type": "code",
   "outputs": [],
   "source": [],
   "metadata": {
    "collapsed": false
   },
   "id": "1c1a48af7b028e8b"
  }
 ],
 "metadata": {
  "kernelspec": {
   "display_name": "Python 3",
   "language": "python",
   "name": "python3"
  },
  "language_info": {
   "codemirror_mode": {
    "name": "ipython",
    "version": 2
   },
   "file_extension": ".py",
   "mimetype": "text/x-python",
   "name": "python",
   "nbconvert_exporter": "python",
   "pygments_lexer": "ipython2",
   "version": "2.7.6"
  }
 },
 "nbformat": 4,
 "nbformat_minor": 5
}
